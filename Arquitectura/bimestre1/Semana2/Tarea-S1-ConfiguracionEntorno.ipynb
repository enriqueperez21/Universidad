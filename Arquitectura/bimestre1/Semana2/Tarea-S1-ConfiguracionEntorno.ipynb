{
 "cells": [
  {
   "cell_type": "raw",
   "metadata": {
    "vscode": {
     "languageId": "raw"
    }
   },
   "source": [
    "---\n",
    "lang: es\n",
    "format:\n",
    "  pdf:\n",
    "    papersize: A4\n",
    "    keep-order: true\n",
    "execute:\n",
    "  echo: true\n",
    "  error: false\n",
    "  warning: false\n",
    "jupyter: python3\n",
    "bibliography: ref.bib\n",
    "---"
   ]
  },
  {
   "cell_type": "markdown",
   "metadata": {},
   "source": [
    "# Tarea configuración de entorno wsl"
   ]
  },
  {
   "cell_type": "markdown",
   "metadata": {},
   "source": [
    "### Asignatura ICCD332 Arquitectura de Computadores"
   ]
  },
  {
   "cell_type": "markdown",
   "metadata": {},
   "source": [
    "**Nombre:** Luis Enrique Perez Señalin"
   ]
  },
  {
   "cell_type": "markdown",
   "metadata": {},
   "source": [
    "Adjunte capturas como evidencia de la configuración e instalación del entorno de trabajo en el subsistema de Linux para Windows; o alternativamente de las instalaciones de los paquetes en Linux, si ya tiene un sistema operativo Unix instalado en su máquina. Las imágenes pueden contenerse dentro de una celda en **Markdown** usando código html como el siguiente"
   ]
  },
  {
   "cell_type": "markdown",
   "metadata": {},
   "source": [
    "\"img src=\"ruta/al/archivo.png\" width=\"300\" height=\"200\"\n",
    "\n",
    "En este caso suba un zip con el cuaderno jupyter, y la carpeta de imágenes para revisar su trabajo. A futuro lo mejor será trabajar desde GitHub directamente"
   ]
  },
  {
   "cell_type": "markdown",
   "metadata": {},
   "source": [
    "### Instalación de Entorno de Mamba/Anaconda"
   ]
  },
  {
   "cell_type": "markdown",
   "metadata": {},
   "source": [
    "![mamba, imagen de muestra](./mamba1.PNG)"
   ]
  },
  {
   "cell_type": "markdown",
   "metadata": {},
   "source": [
    "### Instalación de python"
   ]
  },
  {
   "cell_type": "markdown",
   "metadata": {},
   "source": [
    "![python, imagen de muestra](./instalacionPython.PNG)"
   ]
  },
  {
   "cell_type": "markdown",
   "metadata": {},
   "source": [
    "### Instalación de Emacs"
   ]
  },
  {
   "cell_type": "markdown",
   "metadata": {},
   "source": [
    "![Emacs, imagen de muestra](./emacs.PNG)"
   ]
  },
  {
   "cell_type": "markdown",
   "metadata": {},
   "source": [
    "### Instalación de latex"
   ]
  },
  {
   "cell_type": "markdown",
   "metadata": {},
   "source": [
    "![Latex, imagen de muestra](./latex.PNG)"
   ]
  }
 ],
 "metadata": {
  "kernelspec": {
   "display_name": "Python 3",
   "language": "python",
   "name": "python3"
  },
  "language_info": {
   "name": "python",
   "version": "3.12.2"
  }
 },
 "nbformat": 4,
 "nbformat_minor": 2
}

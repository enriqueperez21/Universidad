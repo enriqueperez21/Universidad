{
 "cells": [
  {
   "cell_type": "markdown",
   "id": "7ee0ab64-395a-43a7-9af5-f281901a15c6",
   "metadata": {},
   "source": [
    "# Tarea Aritmética Entera del Computador y Representación Numérica\n",
    "\n",
    "## Asignatura ICCD332 Arquitectura de Computadores\n",
    "\n",
    "Nombre: \n",
    "\n",
    "Fecha: 2024-05-14\n",
    "\n",
    "Resolver las preguntas de repaso y ejercicios siguientes propuestos del libro de *Computer Organization and Architecture* 7ma edición de William Stallings, página 363 (pdf) o 341 (libro):\n",
    "\n",
    "* **Preguntas de Repaso:** 9.1, 9.2, 9.3, 9.4, 9.8, 9.9\n",
    "* **Problemas:** 9.1, 9.2, 9.7, 9.8, 9.10, 9.11, 9.23, 9.24, 9.28\n",
    "* **Condiciones de la entrega:** Puede subir el archivo con el desarrollo y respuestas de extensión ***.ipynb**. Adicional, si desea, puede hacer un fork de este cuaderno en GitHub y crear una branch con su nombre y subir la resolución del mismo (**pull request**). También puede generar el archivo pdf correspondiente a su cuaderno de jupyter realizando la operación de exportación indicada en la figura de la siguiente celda. Para disponer de la evidencia es necesario subir el ***.ipynb** como mínimo. La resolución de los ejercicios teóricos los puede hacer con ayuda del computador o si desea subir su procedimiento manual puede adjuntar la imagen respectiva del procedimiento. Para esto deberá subir también la carpeta con las imágenes. Las imágenes en MarkDown se insertan usando código html. Considere la siguiente celda de ejemplo. El código que se puede escribir en una celda tipo markdown es el siguiente:\n",
    "\n",
    "`<img src=\"ruta/al/archivo.png\" width=\"300\" height=\"200\">`\n",
    "\n",
    "Transcriba el enunciado de los problemas para realizar la revisión del problema/pregunta propuesta\n"
   ]
  },
  {
   "cell_type": "markdown",
   "id": "d7f81cd0-a514-450f-84af-aa36681a71aa",
   "metadata": {},
   "source": [
    "<img src=\"images/comoExportarJupyter-Pdf.png\" width=\"500\" height=\"300\">"
   ]
  },
  {
   "cell_type": "markdown",
   "id": "c4f5713e-9daf-47ea-8cef-ea03da167e26",
   "metadata": {},
   "source": [
    "## Pasos para editar el cuaderno de jupyter\n",
    "\n",
    "2. Desde un terminal con entorno de **anaconda/mamba** active el entorno de trabajo iccd332: `mamba activate iccd332`\n",
    "1. Puede clonar o hacer un [fork](https://desarrolloweb.com/articulos/fork-git) del repositorio. Puede trabajar directamente desde la carpeta clonada o desde su entorno una vez realizado el proceso de **fork** (puede revisar el enlace para más información)\n",
    "3. Desde el terminal arrancamos jupyter-lab con el comando: `jupyter-lab`. Alternativamente, si usa Visual Studio Code y están instalados los complementos necesarios para ejecutar cuadernos de jupyter puede invocar desde la ubicación del terminal con `.code`. En cualquiera de los casos edite el archivo presente con sus respuestas.\n",
    "4. El comando genera un token para acceder desde un buscador de internet. Localice el archivo *TareaS1S22024-05-05.ipynb* y resuelva los ejercicios y problemas propuestos. Recuerde que si requiere escribir matemáticamente puede usar la sintaxix de latex. Puede usar de referencia el [Undergrad Math Latex](cheatsheet). Para escribir en **MarkDown** Puede consultar: [referencia](https://medium.com/analytics-vidhya/the-ultimate-markdown-guide-for-jupyter-notebook-d5e5abf728fd)\n",
    "5. Guarde los cambios usando el menu File/Save Notebook y también puede exportar a PDF o Html usando **Save and Export Notebook As**\n",
    "\n"
   ]
  }
 ],
 "metadata": {
  "kernelspec": {
   "display_name": "Python 3 (ipykernel)",
   "language": "python",
   "name": "python3"
  },
  "language_info": {
   "codemirror_mode": {
    "name": "ipython",
    "version": 3
   },
   "file_extension": ".py",
   "mimetype": "text/x-python",
   "name": "python",
   "nbconvert_exporter": "python",
   "pygments_lexer": "ipython3",
   "version": "3.12.2"
  }
 },
 "nbformat": 4,
 "nbformat_minor": 5
}

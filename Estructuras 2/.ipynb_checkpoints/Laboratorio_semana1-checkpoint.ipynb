{
 "cells": [
  {
   "cell_type": "markdown",
   "id": "4c50dee5-9739-4db4-a0dc-453a1467b11b",
   "metadata": {},
   "source": [
    "|ESCUELA POLITÉCNICA NACIONAL <br>Estructuras de Datos y Algoritmos II – Computación | INFORME No. |\n",
    "| :---: | :---: |\n",
    "| **Nombre:** Luis Enrique Perez Señalin|1|\n"
   ]
  },
  {
   "cell_type": "raw",
   "id": "3633635b-43fb-45ec-b87b-38702200ea7c",
   "metadata": {},
   "source": [
    "---\n",
    "title: \"LAB Intro Python\"\n",
    "lang: es\n",
    "format:\n",
    "  pdf:\n",
    "    toc: true\n",
    "    toc-title: \"Tabla de Contenidos\"\n",
    "    papersize: A4\n",
    "    keep-order: true\n",
    "execute:\n",
    "  echo: true\n",
    "  error: false\n",
    "  warning: false\n",
    "jupyter: python3\n",
    "bibliography: ref.bib\n",
    "---"
   ]
  },
  {
   "cell_type": "markdown",
   "id": "0f0ab3fb-d5d7-443a-9512-4fed85ff0a06",
   "metadata": {},
   "source": [
    "## 1. Objetivos"
   ]
  },
  {
   "cell_type": "code",
   "execution_count": null,
   "id": "5c48441d-a475-4645-b7ab-100db15ef3f5",
   "metadata": {},
   "outputs": [],
   "source": []
  },
  {
   "cell_type": "markdown",
   "id": "02ccb024-2599-4623-899a-ad1ce95d624d",
   "metadata": {},
   "source": [
    "## Ejercicio 1 (Investigación: La ética de las deep fakes)"
   ]
  },
  {
   "cell_type": "markdown",
   "id": "74a15d43-8597-4e16-a586-2c54d4e13cc6",
   "metadata": {},
   "source": [
    "Las tecnologías de inteligencia artificial están haciendo posible la creación de falsificaciones\n",
    "profundas: videos falsos realistas de personas que capturan su apariencia,\n",
    "voz, movimientos corporales y expresiones faciales. Puede hacer que\n",
    "digan y hagan lo que usted especifique."
   ]
  },
  {
   "cell_type": "markdown",
   "id": "0ac428ae-f087-408f-8dee-6eb4b568a87b",
   "metadata": {},
   "source": [
    "Investiga la ética de las falsificaciones profundas. **¿Qué pasaría si\n",
    "enciende su televisor y ve un video muy falso de un destacado\n",
    "funcionario del gobierno o presentador de noticias que informa que está\n",
    "a punto de ocurrir un ataque nuclear?**"
   ]
  },
  {
   "cell_type": "markdown",
   "id": "3807db16-cb7a-4d8e-b4d0-e350ecdd9749",
   "metadata": {},
   "source": [
    "**Respuesta** = Según el siguiente artículo, la parte de noticias falsas estaría en la categoría de campañas políticas, el cuál tiene el objetivo de affectar eventos sociales significativos, este paper propone la intromisión del gobierno para desmentir las noticias falsas relacionadas a campañas políticas que creen eventos sociales."
   ]
  },
  {
   "cell_type": "markdown",
   "id": "b78cf05f-e4d5-4a9e-91db-7d70b5a18390",
   "metadata": {},
   "source": [
    "**Bibliografía:**\n",
    "Meskys, E., Kalpokiene, J., Jurcys, P., & Liaudanskas, A. (2020). Regulating deep fakes: legal and ethical considerations. Journal of Intellectual Property Law & Practice, 15(1), 24-31."
   ]
  },
  {
   "cell_type": "markdown",
   "id": "1f23786c-1910-412a-b618-14521bbcff90",
   "metadata": {},
   "source": [
    "**Investiga sobre Orson Welles y su transmisión de radio \"La guerra de los mundos\" de 1938, que creó un pánico masivo.**"
   ]
  },
  {
   "cell_type": "markdown",
   "id": "7625f21d-971e-45cd-a30d-eede9848c5a1",
   "metadata": {},
   "source": [
    "Durante el periodo antes de empezar la segunda guerra mundial, Orson Welles contaba noticias ficticias como marco narrativo, todo esto causo que algunas personas creyeran su narrativa de la guerra de los mundos, el paper indica que algunos pensaron que podría ser el resultado de agresión militar alemana, otros lo tomaron al pie de la letra y causo mucho pánico en el este de América del Norte, cuyo epicentró fue el área del Gran Nueva York"
   ]
  },
  {
   "cell_type": "markdown",
   "id": "c600a308-d736-4735-8ed3-3c41e5971185",
   "metadata": {},
   "source": [
    "**Bibliografía:** Heyer, P. (2003). America under attack I: a reassessment of Orson Welles' 1938 war of the worlds broadcast. Canadian journal of communication, 28(2), 149."
   ]
  },
  {
   "cell_type": "markdown",
   "id": "128f495b-1056-4551-b04f-5089e3d063c3",
   "metadata": {},
   "source": [
    "## Ejercicio 2 (Ejercicios en jupyter lab)"
   ]
  },
  {
   "cell_type": "markdown",
   "id": "a43e7332-1dbe-4512-90f6-cfb33f50311f",
   "metadata": {},
   "source": [
    "Usando Jupyter Lab, ejecute las siguientes expresiones. <br/> **¿Qué hacen los\n",
    "dos operadores?**"
   ]
  },
  {
   "cell_type": "markdown",
   "id": "9287285a-27ee-4e3e-83c1-698c6d2fe4c3",
   "metadata": {},
   "source": [
    "El operador **\"//\"** es conocido como Floor division o División entera, esta división redondea el valor hacia abajo retornando un valor entero"
   ]
  },
  {
   "cell_type": "markdown",
   "id": "523f7a11-7714-475a-948e-0e71306e481a",
   "metadata": {},
   "source": [
    "**¿Cuáles producen un error de tiempo de ejecución y qué\n",
    "significa el error?**"
   ]
  },
  {
   "cell_type": "code",
   "execution_count": 1,
   "id": "f7964c4a-9923-4fdc-b37d-c3dfb9f490df",
   "metadata": {},
   "outputs": [
    {
     "ename": "ZeroDivisionError",
     "evalue": "division by zero",
     "output_type": "error",
     "traceback": [
      "\u001b[1;31m---------------------------------------------------------------------------\u001b[0m",
      "\u001b[1;31mZeroDivisionError\u001b[0m                         Traceback (most recent call last)",
      "Cell \u001b[1;32mIn[1], line 3\u001b[0m\n\u001b[0;32m      1\u001b[0m \u001b[38;5;241m100\u001b[39m\u001b[38;5;241m/\u001b[39m\u001b[38;5;241m30\u001b[39m\n\u001b[0;32m      2\u001b[0m \u001b[38;5;241m100\u001b[39m \u001b[38;5;241m/\u001b[39m\u001b[38;5;241m/\u001b[39m \u001b[38;5;241m30\u001b[39m\n\u001b[1;32m----> 3\u001b[0m \u001b[38;5;241;43m100\u001b[39;49m\u001b[38;5;241;43m/\u001b[39;49m\u001b[38;5;241;43m0\u001b[39;49m\n\u001b[0;32m      4\u001b[0m \u001b[38;5;241m100\u001b[39m \u001b[38;5;241m/\u001b[39m\u001b[38;5;241m/\u001b[39m \u001b[38;5;241m0\u001b[39m\n\u001b[0;32m      5\u001b[0m \u001b[38;5;241m0\u001b[39m\u001b[38;5;241m/\u001b[39m\u001b[38;5;241m100\u001b[39m\n",
      "\u001b[1;31mZeroDivisionError\u001b[0m: division by zero"
     ]
    }
   ],
   "source": [
    "100/30\n",
    "100 // 30\n",
    "100/0\n",
    "100 // 0\n",
    "0/100\n",
    "0 // 100"
   ]
  }
 ],
 "metadata": {
  "kernelspec": {
   "display_name": "Python 3 (ipykernel)",
   "language": "python",
   "name": "python3"
  },
  "language_info": {
   "codemirror_mode": {
    "name": "ipython",
    "version": 3
   },
   "file_extension": ".py",
   "mimetype": "text/x-python",
   "name": "python",
   "nbconvert_exporter": "python",
   "pygments_lexer": "ipython3",
   "version": "3.12.2"
  }
 },
 "nbformat": 4,
 "nbformat_minor": 5
}

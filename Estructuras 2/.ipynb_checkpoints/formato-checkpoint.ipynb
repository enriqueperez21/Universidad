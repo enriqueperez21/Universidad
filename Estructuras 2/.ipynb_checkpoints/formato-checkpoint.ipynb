{
 "cells": [
  {
   "cell_type": "markdown",
   "id": "b2107369-55e2-4b39-8590-5f133a76f486",
   "metadata": {},
   "source": [
    "|ESCUELA POLITÉCNICA NACIONAL <br>Estructuras de Datos y Algoritmos II – Computación | INFORME No. |\n",
    "| :---: | :---: |\n",
    "| **Nombre:** Luis Enrique Perez Señalin|2|"
   ]
  },
  {
   "cell_type": "raw",
   "id": "99fc728c-566f-41c8-a825-cd362c87111a",
   "metadata": {},
   "source": [
    "---\n",
    "lang: es\n",
    "format:\n",
    "  pdf:\n",
    "    toc: true\n",
    "    toc-title: \"Tabla de Contenidos\"\n",
    "    papersize: A4\n",
    "    keep-order: true\n",
    "execute:\n",
    "  echo: true\n",
    "  error: false\n",
    "  warning: false\n",
    "jupyter: python3\n",
    "bibliography: ref.bib\n",
    "---"
   ]
  }
 ],
 "metadata": {
  "kernelspec": {
   "display_name": "Python 3 (ipykernel)",
   "language": "python",
   "name": "python3"
  },
  "language_info": {
   "codemirror_mode": {
    "name": "ipython",
    "version": 3
   },
   "file_extension": ".py",
   "mimetype": "text/x-python",
   "name": "python",
   "nbconvert_exporter": "python",
   "pygments_lexer": "ipython3",
   "version": "3.12.2"
  }
 },
 "nbformat": 4,
 "nbformat_minor": 5
}

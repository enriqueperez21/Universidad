{
 "cells": [
  {
   "cell_type": "markdown",
   "id": "4c50dee5-9739-4db4-a0dc-453a1467b11b",
   "metadata": {},
   "source": [
    "|ESCUELA POLITÉCNICA NACIONAL <br>Estructuras de Datos y Algoritmos II – Computación | INFORME No. |\n",
    "| :---: | :---: |\n",
    "| **Nombre:** Luis Enrique Perez Señalin|1|\n"
   ]
  },
  {
   "cell_type": "raw",
   "id": "3633635b-43fb-45ec-b87b-38702200ea7c",
   "metadata": {},
   "source": [
    "---\n",
    "title: \"LAB Intro Python\"\n",
    "lang: es\n",
    "format:\n",
    "  pdf:\n",
    "    toc: true\n",
    "    toc-title: \"Tabla de Contenidos\"\n",
    "    papersize: A4\n",
    "    keep-order: true\n",
    "execute:\n",
    "  echo: true\n",
    "  error: false\n",
    "  warning: false\n",
    "jupyter: python3\n",
    "bibliography: ref.bib\n",
    "---"
   ]
  },
  {
   "cell_type": "markdown",
   "id": "0f0ab3fb-d5d7-443a-9512-4fed85ff0a06",
   "metadata": {},
   "source": [
    "## 1. Objetivos"
   ]
  },
  {
   "cell_type": "markdown",
   "id": "02ccb024-2599-4623-899a-ad1ce95d624d",
   "metadata": {},
   "source": [
    "## Ejercicio 1 (Investigación: La ética de las deep fakes)"
   ]
  },
  {
   "cell_type": "markdown",
   "id": "74a15d43-8597-4e16-a586-2c54d4e13cc6",
   "metadata": {},
   "source": [
    "Las tecnologías de inteligencia artificial están haciendo posible la creación de falsificaciones\n",
    "profundas: videos falsos realistas de personas que capturan su apariencia,\n",
    "voz, movimientos corporales y expresiones faciales. Puede hacer que\n",
    "digan y hagan lo que usted especifique."
   ]
  },
  {
   "cell_type": "code",
   "execution_count": null,
   "id": "c71877d4-7377-4586-927a-5ecee1821f27",
   "metadata": {},
   "outputs": [],
   "source": []
  },
  {
   "cell_type": "markdown",
   "id": "0ac428ae-f087-408f-8dee-6eb4b568a87b",
   "metadata": {},
   "source": [
    "Investiga la ética de las falsificaciones profundas. ¿Qué pasaría si\n",
    "enciende su televisor y ve un video muy falso de un destacado\n",
    "funcionario del gobierno o presentador de noticias que informa que está\n",
    "a punto de ocurrir un ataque nuclear?"
   ]
  },
  {
   "cell_type": "code",
   "execution_count": null,
   "id": "9159d67c-ed8c-4232-8950-1fe53c5094b2",
   "metadata": {},
   "outputs": [],
   "source": []
  },
  {
   "cell_type": "markdown",
   "id": "1f23786c-1910-412a-b618-14521bbcff90",
   "metadata": {},
   "source": [
    "Investiga sobre Orson Welles y su transmisión de radio \"La guerra de los\n",
    "mundos\" de 1938, que creó un pánico masivo."
   ]
  },
  {
   "cell_type": "code",
   "execution_count": null,
   "id": "76fa3551-0507-4d0d-a454-38e0cf49580b",
   "metadata": {},
   "outputs": [],
   "source": []
  }
 ],
 "metadata": {
  "kernelspec": {
   "display_name": "Python 3 (ipykernel)",
   "language": "python",
   "name": "python3"
  },
  "language_info": {
   "codemirror_mode": {
    "name": "ipython",
    "version": 3
   },
   "file_extension": ".py",
   "mimetype": "text/x-python",
   "name": "python",
   "nbconvert_exporter": "python",
   "pygments_lexer": "ipython3",
   "version": "3.12.3"
  }
 },
 "nbformat": 4,
 "nbformat_minor": 5
}

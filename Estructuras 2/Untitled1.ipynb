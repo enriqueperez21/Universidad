{
 "cells": [
  {
   "cell_type": "markdown",
   "id": "d5a02918-3243-43cf-8972-168547ed6c3e",
   "metadata": {},
   "source": [
    "# MI Primer Código de Jupyter Lab"
   ]
  },
  {
   "cell_type": "markdown",
   "id": "f9b64970-824a-425c-9ff3-30c5b1c8b314",
   "metadata": {},
   "source": [
    "print(\"Hello world\")"
   ]
  },
  {
   "cell_type": "markdown",
   "id": "48689a28-07a4-4884-a790-220368b1f9ca",
   "metadata": {},
   "source": [
    "## Hola mundo"
   ]
  },
  {
   "cell_type": "markdown",
   "id": "c27966e0-9e55-4578-9648-656a3e764a8b",
   "metadata": {},
   "source": [
    "### Como utilizamos Markdown ?"
   ]
  },
  {
   "cell_type": "markdown",
   "id": "d17a30fd-fd0e-4190-9cd5-24eab180815e",
   "metadata": {},
   "source": [
    "No tengo ni idea"
   ]
  },
  {
   "cell_type": "code",
   "execution_count": 1,
   "id": "492585c2-7145-4fb1-9ba5-30fa6aa9698c",
   "metadata": {},
   "outputs": [
    {
     "name": "stdout",
     "output_type": "stream",
     "text": [
      "Hello world\n"
     ]
    }
   ],
   "source": [
    "print(\"Hello world\")"
   ]
  }
 ],
 "metadata": {
  "kernelspec": {
   "display_name": "Python 3 (ipykernel)",
   "language": "python",
   "name": "python3"
  },
  "language_info": {
   "codemirror_mode": {
    "name": "ipython",
    "version": 3
   },
   "file_extension": ".py",
   "mimetype": "text/x-python",
   "name": "python",
   "nbconvert_exporter": "python",
   "pygments_lexer": "ipython3",
   "version": "3.12.3"
  }
 },
 "nbformat": 4,
 "nbformat_minor": 5
}

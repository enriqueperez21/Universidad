{
 "cells": [
  {
   "cell_type": "markdown",
   "id": "4c50dee5-9739-4db4-a0dc-453a1467b11b",
   "metadata": {},
   "source": [
    "|ESCUELA POLITÉCNICA NACIONAL <br>Estructuras de Datos y Algoritmos II – Computación | INFORME No. |\n",
    "| :---: | :---: |\n",
    "| **Nombre:** Luis Enrique Perez Señalin|1|\n"
   ]
  },
  {
   "cell_type": "raw",
   "id": "3633635b-43fb-45ec-b87b-38702200ea7c",
   "metadata": {},
   "source": [
    "---\n",
    "lang: es\n",
    "format:\n",
    "  pdf:\n",
    "    toc: true\n",
    "    toc-title: \"Tabla de Contenidos\"\n",
    "    papersize: A4\n",
    "    keep-order: true\n",
    "execute:\n",
    "  echo: true\n",
    "  error: false\n",
    "  warning: false\n",
    "jupyter: python3\n",
    "bibliography: ref.bib\n",
    "---"
   ]
  },
  {
   "cell_type": "markdown",
   "id": "24ecba56-bfa5-4a39-a36b-7d5e97773db4",
   "metadata": {},
   "source": [
    "# LAB Intro Python"
   ]
  },
  {
   "cell_type": "markdown",
   "id": "f67e011e-2fff-4adf-ac3c-171fa8af778a",
   "metadata": {},
   "source": [
    "Todo el siguiente informa ha sido generado con quarto, por lo que tiene ciertas limitaciones y mejoras fucionales."
   ]
  },
  {
   "cell_type": "markdown",
   "id": "0f0ab3fb-d5d7-443a-9512-4fed85ff0a06",
   "metadata": {},
   "source": [
    "## 1. Objetivos"
   ]
  },
  {
   "cell_type": "markdown",
   "id": "2e9b037f-590d-4813-a976-8fda141dee51",
   "metadata": {},
   "source": [
    "1. En esta clase, usted conocerá los fundamentos del lenguaje de programación\n",
    "Python. Actualmente, es uno de los lenguajes de programación más extendidos\n",
    "en el campo de la computación y ciencia de datos.\n",
    "2. Miraremos temas como la declaración de variables, los operadores básicos y\n",
    "las principales herramientas para controlar el flujo del programa"
   ]
  },
  {
   "cell_type": "markdown",
   "id": "668e387f-2d7a-4fe2-87b2-6abffbdd7bd1",
   "metadata": {},
   "source": [
    "## 2. Introducción"
   ]
  },
  {
   "cell_type": "markdown",
   "id": "f6e5fc4a-af55-4eca-bce0-3c59eabb26a9",
   "metadata": {},
   "source": [
    "La distribución de Anaconda Python viene con Jupyter Notebook y\n",
    "Jupyter Lab, un entorno interactivo basado en navegador en el que\n",
    "puede escribir y ejecutar código y mezclar el código con texto,\n",
    "imágenes y video."
   ]
  },
  {
   "cell_type": "markdown",
   "id": "1f8aefd1-9dd1-4cde-89e4-97d43ca9ee25",
   "metadata": {},
   "source": [
    "## 3. EJERCICIOS PLANTEADOS Y/O PROGRAMAS IMPLEMENTADOS"
   ]
  },
  {
   "cell_type": "markdown",
   "id": "02ccb024-2599-4623-899a-ad1ce95d624d",
   "metadata": {},
   "source": [
    "## 3.1 Ejercicio 1 (Investigación: La ética de las deep fakes)"
   ]
  },
  {
   "cell_type": "markdown",
   "id": "74a15d43-8597-4e16-a586-2c54d4e13cc6",
   "metadata": {},
   "source": [
    "Las tecnologías de inteligencia artificial están haciendo posible la creación de falsificaciones\n",
    "profundas: videos falsos realistas de personas que capturan su apariencia,\n",
    "voz, movimientos corporales y expresiones faciales. Puede hacer que\n",
    "digan y hagan lo que usted especifique."
   ]
  },
  {
   "cell_type": "markdown",
   "id": "0ac428ae-f087-408f-8dee-6eb4b568a87b",
   "metadata": {},
   "source": [
    "Investiga la ética de las falsificaciones profundas. **¿Qué pasaría si\n",
    "enciende su televisor y ve un video muy falso de un destacado\n",
    "funcionario del gobierno o presentador de noticias que informa que está\n",
    "a punto de ocurrir un ataque nuclear?**"
   ]
  },
  {
   "cell_type": "markdown",
   "id": "3807db16-cb7a-4d8e-b4d0-e350ecdd9749",
   "metadata": {},
   "source": [
    "**Respuesta** = Según el siguiente artículo, la parte de noticias falsas estaría en la categoría de campañas políticas, el cuál tiene el objetivo de affectar eventos sociales significativos, este paper propone la intromisión del gobierno para desmentir las noticias falsas relacionadas a campañas políticas que creen eventos sociales."
   ]
  },
  {
   "cell_type": "markdown",
   "id": "b78cf05f-e4d5-4a9e-91db-7d70b5a18390",
   "metadata": {},
   "source": [
    "**Bibliografía:**\n",
    "Meskys, E., Kalpokiene, J., Jurcys, P., & Liaudanskas, A. (2020). Regulating deep fakes: legal and ethical considerations. Journal of Intellectual Property Law & Practice, 15(1), 24-31."
   ]
  },
  {
   "cell_type": "markdown",
   "id": "1f23786c-1910-412a-b618-14521bbcff90",
   "metadata": {},
   "source": [
    "**Investiga sobre Orson Welles y su transmisión de radio \"La guerra de los mundos\" de 1938, que creó un pánico masivo.**"
   ]
  },
  {
   "cell_type": "markdown",
   "id": "7625f21d-971e-45cd-a30d-eede9848c5a1",
   "metadata": {},
   "source": [
    "Durante el periodo antes de empezar la segunda guerra mundial, Orson Welles contaba noticias ficticias como marco narrativo, todo esto causo que algunas personas creyeran su narrativa de la guerra de los mundos, el paper indica que algunos pensaron que podría ser el resultado de agresión militar alemana, otros lo tomaron al pie de la letra y causo mucho pánico en el este de América del Norte, cuyo epicentró fue el área del Gran Nueva York"
   ]
  },
  {
   "cell_type": "markdown",
   "id": "c600a308-d736-4735-8ed3-3c41e5971185",
   "metadata": {},
   "source": [
    "**Bibliografía:** Heyer, P. (2003). America under attack I: a reassessment of Orson Welles' 1938 war of the worlds broadcast. Canadian journal of communication, 28(2), 149."
   ]
  },
  {
   "cell_type": "markdown",
   "id": "128f495b-1056-4551-b04f-5089e3d063c3",
   "metadata": {},
   "source": [
    "## 3.2 Ejercicio 2 (Ejercicios en jupyter lab)"
   ]
  },
  {
   "cell_type": "markdown",
   "id": "a43e7332-1dbe-4512-90f6-cfb33f50311f",
   "metadata": {},
   "source": [
    "Usando Jupyter Lab, ejecute las siguientes expresiones. <br/> **¿Qué hacen los\n",
    "dos operadores?**"
   ]
  },
  {
   "cell_type": "markdown",
   "id": "9287285a-27ee-4e3e-83c1-698c6d2fe4c3",
   "metadata": {},
   "source": [
    "El operador **\"//\"** es conocido como Floor division o División entera, esta división redondea el valor hacia abajo retornando un valor entero"
   ]
  },
  {
   "cell_type": "markdown",
   "id": "523f7a11-7714-475a-948e-0e71306e481a",
   "metadata": {},
   "source": [
    "**¿Cuáles producen un error de tiempo de ejecución y qué\n",
    "significa el error?**"
   ]
  },
  {
   "cell_type": "markdown",
   "id": "5b0dc200-4509-4285-ba80-9f3e2b70b03a",
   "metadata": {},
   "source": [
    "a) 100/30 <br/>\n",
    "b) 100 // 30<br/>\n",
    "c) 100/0<br/>\n",
    "d) 100 // 0<br/>\n",
    "e) 0/100<br/>\n",
    "f) 0 // 100<br/>"
   ]
  },
  {
   "cell_type": "code",
   "execution_count": 1,
   "id": "9c49a41c-d48e-48b8-8382-675a7ccacb68",
   "metadata": {},
   "outputs": [
    {
     "ename": "ZeroDivisionError",
     "evalue": "division by zero",
     "output_type": "error",
     "traceback": [
      "\u001b[1;31m---------------------------------------------------------------------------\u001b[0m",
      "\u001b[1;31mZeroDivisionError\u001b[0m                         Traceback (most recent call last)",
      "Cell \u001b[1;32mIn[1], line 1\u001b[0m\n\u001b[1;32m----> 1\u001b[0m \u001b[38;5;241;43m100\u001b[39;49m\u001b[38;5;241;43m/\u001b[39;49m\u001b[38;5;241;43m0\u001b[39;49m\n",
      "\u001b[1;31mZeroDivisionError\u001b[0m: division by zero"
     ]
    }
   ],
   "source": [
    "100/0"
   ]
  },
  {
   "cell_type": "markdown",
   "id": "e1bf2040-a73e-4903-91d2-6b09a130ddc3",
   "metadata": {},
   "source": [
    "**R:** Python no permite la división para 0."
   ]
  },
  {
   "cell_type": "code",
   "execution_count": 6,
   "id": "660184fe-f154-4996-bf94-cfd88b7cc358",
   "metadata": {},
   "outputs": [
    {
     "ename": "ZeroDivisionError",
     "evalue": "integer division or modulo by zero",
     "output_type": "error",
     "traceback": [
      "\u001b[1;31m---------------------------------------------------------------------------\u001b[0m",
      "\u001b[1;31mZeroDivisionError\u001b[0m                         Traceback (most recent call last)",
      "Cell \u001b[1;32mIn[6], line 1\u001b[0m\n\u001b[1;32m----> 1\u001b[0m \u001b[38;5;241;43m100\u001b[39;49m\u001b[38;5;241;43m/\u001b[39;49m\u001b[38;5;241;43m/\u001b[39;49m\u001b[38;5;241;43m0\u001b[39;49m\n",
      "\u001b[1;31mZeroDivisionError\u001b[0m: integer division or modulo by zero"
     ]
    }
   ],
   "source": [
    "100//0"
   ]
  },
  {
   "cell_type": "markdown",
   "id": "5273389a-02a2-40d0-a721-68bb212f03c4",
   "metadata": {},
   "source": [
    "**R:** El floor división realiza la operación de 100 dividido para 0 al igual que el anterior, solo redondea hacia abajo el resultado, por eso da el mismo error"
   ]
  },
  {
   "cell_type": "markdown",
   "id": "d212f821-cd27-4448-9707-800b813a37cc",
   "metadata": {},
   "source": [
    "## 3.3 Ejercicio 3 (Ejercicios en jupyter lab)"
   ]
  },
  {
   "cell_type": "markdown",
   "id": "9adcdc51-07a4-4b54-8cf7-56f806fecb94",
   "metadata": {},
   "source": [
    "Usando Jupyter Lab, ejecute las siguientes expresiones. ¿Cuál es la\n",
    "prioridad de ejecución entre los operadores? ¿Cuáles producen un error\n",
    "de tiempo de ejecución?"
   ]
  },
  {
   "cell_type": "markdown",
   "id": "7389d0f3-ab1f-4e9a-8dae-1c5fd3720f07",
   "metadata": {},
   "source": [
    "a) 100 / 3 + 7 <br/>\n",
    "b) 100 // 3 + 7 <br/>\n",
    "c) 100 / (3 + 7) <br/>\n",
    "d) 100 / 3 - 3 <br/>\n",
    "e) 100 / (3 - 3) <br/>\n",
    "f) 100 // (3 - 3)"
   ]
  },
  {
   "cell_type": "code",
   "execution_count": 1,
   "id": "b8126eb1-e0bf-4004-9a39-5a371e963cd8",
   "metadata": {},
   "outputs": [
    {
     "data": {
      "text/plain": [
       "40.333333333333336"
      ]
     },
     "execution_count": 1,
     "metadata": {},
     "output_type": "execute_result"
    }
   ],
   "source": [
    "100 / 3 + 7"
   ]
  },
  {
   "cell_type": "code",
   "execution_count": 2,
   "id": "50324205-4f05-4f27-b4f4-bf314f3cc440",
   "metadata": {},
   "outputs": [
    {
     "data": {
      "text/plain": [
       "40"
      ]
     },
     "execution_count": 2,
     "metadata": {},
     "output_type": "execute_result"
    }
   ],
   "source": [
    "100 // 3 + 7"
   ]
  },
  {
   "cell_type": "markdown",
   "id": "9ef25b82-3b46-4adb-85ea-1edab05facb9",
   "metadata": {},
   "source": [
    "**R:** Las operaciones de / y // tiene maás prioridad que la +"
   ]
  },
  {
   "cell_type": "code",
   "execution_count": 3,
   "id": "d727d303-9ba7-4206-a798-0d966677ef52",
   "metadata": {},
   "outputs": [
    {
     "data": {
      "text/plain": [
       "10.0"
      ]
     },
     "execution_count": 3,
     "metadata": {},
     "output_type": "execute_result"
    }
   ],
   "source": [
    "100 / (3 + 7)"
   ]
  },
  {
   "cell_type": "markdown",
   "id": "081e5bbf-7747-4942-b352-7fb8c741bfd7",
   "metadata": {},
   "source": [
    "**R:** Cuando se pone una operación entre ( ) tendrá mayor prioridad"
   ]
  },
  {
   "cell_type": "code",
   "execution_count": 4,
   "id": "e6d69f97-9623-44b4-9e02-fc3cb6fc56b2",
   "metadata": {},
   "outputs": [
    {
     "data": {
      "text/plain": [
       "30.333333333333336"
      ]
     },
     "execution_count": 4,
     "metadata": {},
     "output_type": "execute_result"
    }
   ],
   "source": [
    "100 / 3 - 3"
   ]
  },
  {
   "cell_type": "code",
   "execution_count": 5,
   "id": "c3b0c6a8-2ec1-436a-b256-e9f062c5103b",
   "metadata": {},
   "outputs": [
    {
     "ename": "ZeroDivisionError",
     "evalue": "division by zero",
     "output_type": "error",
     "traceback": [
      "\u001b[1;31m---------------------------------------------------------------------------\u001b[0m",
      "\u001b[1;31mZeroDivisionError\u001b[0m                         Traceback (most recent call last)",
      "Cell \u001b[1;32mIn[5], line 1\u001b[0m\n\u001b[1;32m----> 1\u001b[0m \u001b[38;5;241;43m100\u001b[39;49m\u001b[43m \u001b[49m\u001b[38;5;241;43m/\u001b[39;49m\u001b[43m \u001b[49m\u001b[43m(\u001b[49m\u001b[38;5;241;43m3\u001b[39;49m\u001b[43m \u001b[49m\u001b[38;5;241;43m-\u001b[39;49m\u001b[43m \u001b[49m\u001b[38;5;241;43m3\u001b[39;49m\u001b[43m)\u001b[49m\n",
      "\u001b[1;31mZeroDivisionError\u001b[0m: division by zero"
     ]
    }
   ],
   "source": [
    "100 / (3 - 3)"
   ]
  },
  {
   "cell_type": "markdown",
   "id": "e2a6a930-d1cf-472b-8951-5aecdef5ccbd",
   "metadata": {},
   "source": [
    "**R:** Tenemos el problema de división para 0 porque (3 - 3) tendrá mayor prioridad y ejecutará 100/0"
   ]
  },
  {
   "cell_type": "code",
   "execution_count": 6,
   "id": "dda4b1b7-611b-457a-963b-ac4cb8e94d40",
   "metadata": {},
   "outputs": [
    {
     "ename": "ZeroDivisionError",
     "evalue": "integer division or modulo by zero",
     "output_type": "error",
     "traceback": [
      "\u001b[1;31m---------------------------------------------------------------------------\u001b[0m",
      "\u001b[1;31mZeroDivisionError\u001b[0m                         Traceback (most recent call last)",
      "Cell \u001b[1;32mIn[6], line 1\u001b[0m\n\u001b[1;32m----> 1\u001b[0m \u001b[38;5;241;43m100\u001b[39;49m\u001b[43m \u001b[49m\u001b[38;5;241;43m/\u001b[39;49m\u001b[38;5;241;43m/\u001b[39;49m\u001b[43m \u001b[49m\u001b[43m(\u001b[49m\u001b[38;5;241;43m3\u001b[39;49m\u001b[43m \u001b[49m\u001b[38;5;241;43m-\u001b[39;49m\u001b[43m \u001b[49m\u001b[38;5;241;43m3\u001b[39;49m\u001b[43m)\u001b[49m\n",
      "\u001b[1;31mZeroDivisionError\u001b[0m: integer division or modulo by zero"
     ]
    }
   ],
   "source": [
    "100 // (3 - 3)"
   ]
  },
  {
   "cell_type": "markdown",
   "id": "543d6d74-01d0-4642-b917-213c1be5fba8",
   "metadata": {},
   "source": [
    "**R:** Tenemos el mismo problema con //"
   ]
  },
  {
   "cell_type": "markdown",
   "id": "4a293a44-f4ee-41aa-a5d5-c93ac4d1d0dd",
   "metadata": {},
   "source": [
    "## 3.4 Crear celdas Markdown: Use un notebook para:"
   ]
  },
  {
   "cell_type": "markdown",
   "id": "de978b6a-365e-44fa-b263-6117c0fc05ea",
   "metadata": {},
   "source": [
    "• Celda 1 (representada como Markdown): el título debe ser \"Mi Jupyter\n",
    "Notebook – Clase 1\", en estilo de encabezado H1. El título no necesita\n",
    "estar centrado."
   ]
  },
  {
   "cell_type": "markdown",
   "id": "6154af24-41e3-49bd-ac02-7fdfd6e0edf3",
   "metadata": {},
   "source": [
    "**R:** Para el título se usa: <br/>\n",
    "\"# Mi Jupyter Notebook - Clase 1\""
   ]
  },
  {
   "cell_type": "markdown",
   "id": "f3f71b8a-5e33-4cb2-90d7-abe87cbce9fb",
   "metadata": {},
   "source": [
    "• Celda 2 (presentada como Markdown): incluya su nombre en negrita.\n",
    "En la línea debajo de su nombre, escriba su ocupación actual o deseada\n",
    "en letra normal."
   ]
  },
  {
   "cell_type": "markdown",
   "id": "a63fcadb-86d3-46f7-8b1f-d3c7b0b4fd15",
   "metadata": {},
   "source": [
    "**R:** Para el nombre se usa: \" ** Luis Enrique Perez ** \" , para el salto de linea se puede usar <\"br/\"> sin las \" y luego Estudiante <br/>\n",
    "**Luis Enrique Perez Señalin**<br/>Estudiante"
   ]
  },
  {
   "cell_type": "markdown",
   "id": "5e8e4ee1-9b72-4785-847b-cfceedd1d283",
   "metadata": {},
   "source": [
    "• Celda 3 (representada como Markdown): en formato de cursiva, escriba\n",
    "una o dos oraciones sobre por qué está interesado en la analítica de\n",
    "datos. "
   ]
  },
  {
   "cell_type": "markdown",
   "id": "7dd81ab2-c7e9-435c-b0e0-ae013a26db1f",
   "metadata": {},
   "source": [
    "**R:** Las letras cursivas se ponen entre * *, como  * cursiva *"
   ]
  },
  {
   "cell_type": "markdown",
   "id": "4cc3d35f-cf8e-4f82-ab31-b889f0bce43f",
   "metadata": {},
   "source": [
    "*El area de análisis de datos tiene una gran area laboral y de investigación*"
   ]
  },
  {
   "cell_type": "markdown",
   "id": "10977def-28c4-473e-ba8a-e49ff8d03c3f",
   "metadata": {},
   "source": [
    "*En la era donde los datos están en todos lados, la ciencia de datos es la forma de leer lo que tienen que decir*"
   ]
  },
  {
   "cell_type": "markdown",
   "id": "4a1f7348-0a65-4093-816b-f40894ddf365",
   "metadata": {},
   "source": [
    "• Celda 4 (representada como Markdown): en estilo de encabezado H3,\n",
    "explique en una oración corta lo que se supone que debe hacer su código\n",
    "en la celda 5."
   ]
  },
  {
   "cell_type": "markdown",
   "id": "66968d34-1f2b-4cdb-a5dd-38b699deebbb",
   "metadata": {},
   "source": [
    "**R:** Para usar el encabezado h3, se usan \"###\" al inicio<br/>EL código \"23*234/10\" debe dividir 234/10, luego el resultado multiplicarlo para 23 y mostrarlo"
   ]
  },
  {
   "cell_type": "markdown",
   "id": "3159bd7b-6e98-489f-8db0-3f87faa4cbb9",
   "metadata": {},
   "source": [
    "• Celda 5 (celda de código): Su código, como se describe en la Celda 4.\n",
    "Debe ejecutarse y mostrar una salida. Trate de mantener el código simple\n",
    "(incluso puede ser \"1 + 1\")."
   ]
  },
  {
   "cell_type": "code",
   "execution_count": 7,
   "id": "e2756e27-6c08-43ad-aff2-956d31c9c95d",
   "metadata": {},
   "outputs": [
    {
     "data": {
      "text/plain": [
       "538.2"
      ]
     },
     "execution_count": 7,
     "metadata": {},
     "output_type": "execute_result"
    }
   ],
   "source": [
    "23*234/10"
   ]
  },
  {
   "cell_type": "markdown",
   "id": "a04f53ec-e14e-4721-b05a-308e36c40450",
   "metadata": {},
   "source": [
    "• Celda 6 (representada como Markdown): esta celda debe incluir al\n",
    "menos 3 de los siguientes: línea horizontal, lista con viñetas, lista\n",
    "numerada, tablas, hipervínculos, imágenes, resaltado de código/sintaxis,\n",
    "comillas bloqueadas (blockquote), tachado."
   ]
  },
  {
   "cell_type": "markdown",
   "id": "df39ef36-988e-4ed0-9124-675831fe9258",
   "metadata": {},
   "source": [
    "| Pasos |\n",
    "| :---: |\n",
    "1. Primero `1/2` \n",
    "2. Segundo `7*0.5`\n",
    "\n",
    "![Python, imagen de muestra](./images.jpeg)"
   ]
  },
  {
   "cell_type": "markdown",
   "id": "7f3bcf2c-838f-4d52-bb4e-759b1909bd27",
   "metadata": {},
   "source": [
    "## 4. Conclusiones"
   ]
  },
  {
   "cell_type": "markdown",
   "id": "02781c2b-35bb-46a0-9c81-85b3f74cb2d7",
   "metadata": {},
   "source": [
    "Hemos aprendido mucho del funcionamiento del lenguaje de python junto con sus distintas formas de ejecutarse, con la facilidad de funcionar dentro de jupyter en sus jupyter notebook."
   ]
  },
  {
   "cell_type": "markdown",
   "id": "328d92a9-df4f-4dc5-81ad-cc3054c8eb4c",
   "metadata": {},
   "source": [
    "## 5 .Referencias bibliográficas"
   ]
  },
  {
   "cell_type": "markdown",
   "id": "84f8cacd-a4ce-41dc-af7b-1d374b1f4050",
   "metadata": {},
   "source": [
    "**Bibliografía:** Meskys, E., Kalpokiene, J., Jurcys, P., & Liaudanskas, A. (2020). Regulating deep fakes: legal and ethical considerations. Journal of Intellectual Property Law & Practice, 15(1), 24-31."
   ]
  },
  {
   "cell_type": "markdown",
   "id": "7d3bdd2d-9ef0-43fb-8e14-160d017f63c3",
   "metadata": {},
   "source": [
    "**Bibliografía:** Heyer, P. (2003). America under attack I: a reassessment of Orson Welles' 1938 war of the worlds broadcast. Canadian journal of communication, 28(2), 149."
   ]
  },
  {
   "cell_type": "markdown",
   "id": "b0140672-8cd9-438f-9818-e170cfddedaf",
   "metadata": {},
   "source": [
    "**Markdown:** https://www.markdownguide.org/cheat-sheet/"
   ]
  },
  {
   "cell_type": "markdown",
   "id": "925ec157-b396-4cc5-abe4-e3e62177d24d",
   "metadata": {},
   "source": [
    "## 6 .Declaración de uso de ia"
   ]
  },
  {
   "cell_type": "markdown",
   "id": "a98545c2-5e4f-4cfe-b92e-a39b99f041c5",
   "metadata": {},
   "source": [
    "Se ha pedido ayuda de herramientas como gemini de google, para poder realizar el renderizado de este informe, utilizando el paquete quarto, y usando los datos de la cabecera raw para que se genere correctamente los datos necesarios."
   ]
  }
 ],
 "metadata": {
  "kernelspec": {
   "display_name": "Python 3 (ipykernel)",
   "language": "python",
   "name": "python3"
  },
  "language_info": {
   "codemirror_mode": {
    "name": "ipython",
    "version": 3
   },
   "file_extension": ".py",
   "mimetype": "text/x-python",
   "name": "python",
   "nbconvert_exporter": "python",
   "pygments_lexer": "ipython3",
   "version": "3.12.2"
  }
 },
 "nbformat": 4,
 "nbformat_minor": 5
}

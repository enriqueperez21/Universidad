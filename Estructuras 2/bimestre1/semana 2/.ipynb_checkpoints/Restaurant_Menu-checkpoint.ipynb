{
 "cells": [
  {
   "cell_type": "markdown",
   "id": "b0251b36-972e-4346-9e99-b49d0cef4dff",
   "metadata": {},
   "source": [
    "|ESCUELA POLITÉCNICA NACIONAL <br>Estructuras de Datos y Algoritmos II – Computación | INFORME No. |\n",
    "| :---: | :---: |\n",
    "| **Nombre:** Luis Enrique Perez Señalin|2|"
   ]
  },
  {
   "cell_type": "raw",
   "id": "896b1e37-6649-4037-a0f0-56f52af2e274",
   "metadata": {},
   "source": [
    "---\n",
    "lang: es\n",
    "format:\n",
    "  pdf:\n",
    "    toc: true\n",
    "    toc-title: \"Tabla de Contenidos\"\n",
    "    papersize: A4\n",
    "    keep-order: true\n",
    "execute:\n",
    "  echo: true\n",
    "  error: false\n",
    "  warning: false\n",
    "jupyter: python3\n",
    "bibliography: ref.bib\n",
    "---"
   ]
  },
  {
   "cell_type": "markdown",
   "id": "fd15dbdb-dee4-49f2-ab60-2c26780132e3",
   "metadata": {},
   "source": [
    "# Declaraciones de Control"
   ]
  },
  {
   "cell_type": "markdown",
   "id": "f81fe4e5-3d88-471f-a716-c79aefa7caa1",
   "metadata": {},
   "source": [
    "## 1. Objetivos"
   ]
  },
  {
   "cell_type": "markdown",
   "id": "33de0216-2bb7-44c3-af53-24d5ace07c2f",
   "metadata": {},
   "source": [
    "1. Aprender las sentencias de control como condicionales.\n",
    "2. Utilizar la entrada de texto por parte del usuario"
   ]
  },
  {
   "cell_type": "markdown",
   "id": "ef371b89-e61d-4e5a-a391-71279216169d",
   "metadata": {},
   "source": [
    "## 2. Introducción"
   ]
  },
  {
   "cell_type": "markdown",
   "id": "03b62cad-6989-4e7c-aeca-8832ec03a795",
   "metadata": {},
   "source": [
    "Las declaraciones de control nos permiten ejecutar código que dependa de ciertos valores, los cuales puede ingresar el usuario"
   ]
  },
  {
   "cell_type": "markdown",
   "id": "4ff277f4-1dc3-41e5-9184-aef7714d1a50",
   "metadata": {},
   "source": [
    "## 3. EJERCICIOS PLANTEADOS Y/O PROGRAMAS IMPLEMENTADOS"
   ]
  },
  {
   "cell_type": "markdown",
   "id": "89a8f5f7-fff1-40f9-abe7-b88a4b5e2b40",
   "metadata": {},
   "source": [
    "## 3.1 Cree un programa en Python utilizando JupyterLab:\n",
    "\n",
    "a. Escribir un programa para un restaurante que tiene un menú vegetariano y un menú tradicional (no vegetariano). Debes preguntar al cliente si es vegetariano o no para, en base a su respuesta, presentarle el menú. Para el platillo que decides ofrecer, el cliente podría escoger un ingrediente adicional (de dos o tres ingredientes). Presenta también un pequeño menú de bebidas frías y calientes.\n",
    "\n",
    "b. Es posible calcular el costo del menú + ingrediente extra + bebida, de acuerdo con la selección del cliente?\n",
    "\n",
    "NOTA: puedes mantener valores quemados como el menú de platillos y precios"
   ]
  },
  {
   "cell_type": "markdown",
   "id": "5ca09418-e928-4c16-b901-0060a4d14b73",
   "metadata": {},
   "source": [
    "### Codigo del Programa --Restaurante--"
   ]
  },
  {
   "cell_type": "markdown",
   "id": "8e2da812-4ac7-469b-ac6f-e6ee7792fa3d",
   "metadata": {},
   "source": [
    "### Definimos varios Arrays (Listas) de objetos para poder mostrarlos al cliente\n",
    "Tenemos los menus de Tradicional, Vegetariano, los ingredientes extras, y las bebidas"
   ]
  },
  {
   "cell_type": "code",
   "execution_count": 7,
   "id": "a1f75bed-87be-491e-bd7e-18feb15e8cca",
   "metadata": {},
   "outputs": [],
   "source": [
    "menuT = [\n",
    "    {\"name\": \"Pollo a la plancha\", \"costo\": 2.5},\n",
    "    {\"name\": \"Bistec de carne\", \"costo\": 2.75},\n",
    "    {\"name\": \"Ceviche de camarón\", \"costo\": 3}\n",
    "]\n",
    "\n",
    "menuV = [\n",
    "    {\"name\": \"Carne de solla\", \"costo\": 3.5},\n",
    "    {\"name\": \"Tafu\", \"costo\": 4.25},\n",
    "    {\"name\": \"Arroz con vegetales\", \"costo\": 3}\n",
    "]\n",
    "\n",
    "ingredientesExtra = [\n",
    "    {\"name\": \"Papas fritas\", \"costo\": 1.5},\n",
    "    {\"name\": \"Maduro asado\", \"costo\": 1},\n",
    "    {\"name\": \"Ensalada fria\", \"costo\": 2}\n",
    "]\n",
    "\n",
    "bebidas = [\n",
    "    {\"name\": \"Agua caliente (Té, Café)\", \"costo\": 0.75},\n",
    "    {\"name\": \"Jugo natural\", \"costo\": 1.5},\n",
    "    {\"name\": \"Gaseosa\", \"costo\": 1}\n",
    "]"
   ]
  },
  {
   "cell_type": "markdown",
   "id": "aef28083-65ae-4ec1-8a79-1051561b2bde",
   "metadata": {},
   "source": [
    "### Creamos una función llamada mostrarYSeleccionar\n",
    "Usando la función For in y recibiendo un array (list) con las propiedades name y costo\n",
    "Mostramos la lista con un index y con su costo\n",
    "Pedimos al usuario la entrada del valor con input y la transformamos a entero"
   ]
  },
  {
   "cell_type": "code",
   "execution_count": 8,
   "id": "997da1bf-5b0f-4892-b843-703a521d85b1",
   "metadata": {},
   "outputs": [],
   "source": [
    "def mostrarYSeleccionar(lista):\n",
    "    for index,item in enumerate(lista):\n",
    "        print(str(index+1) + \". \"+item['name']+\" $\"+str(item['costo']) )\n",
    "    return int(input(f\"Seleccione una opción entre las\\\n",
    "                    mostradas 0-{str (len(lista))}\\n\" ))"
   ]
  },
  {
   "cell_type": "markdown",
   "id": "283ce77d-47e7-4033-a6d5-ad5963274aa6",
   "metadata": {},
   "source": [
    "### Función ejecutar\n",
    "Usando esta función mostramos los menús de las 3 elecciones\n",
    "Tenemos Menú principal, Ingredientes y bebidas.\n",
    "Usando la función mostrarYSeleccionar, mandamos la lista y guardamos la elección correspondiente."
   ]
  },
  {
   "cell_type": "code",
   "execution_count": 9,
   "id": "8821381f-5945-4b87-b649-df84efd7e399",
   "metadata": {},
   "outputs": [],
   "source": [
    "def ejecutar(tipo, menu, ingredientes, bebidas):\n",
    "    print(\"-- MENÚ \"+tipo+\" --\")\n",
    "    plato = mostrarYSeleccionar(menu)\n",
    "    print(\"-- INGREDIENTES EXTRA --\")\n",
    "    ingrediente = mostrarYSeleccionar(ingredientes)\n",
    "    print(\"-- BEBIDAS --\")\n",
    "    bebida = mostrarYSeleccionar(bebidas)\n",
    "    print(\"\\nSeleccion:\\nPLato: \"+menu[plato-1]['name'])\n",
    "    ingredienteElegido = ingredientes[ingrediente-1]['name']\n",
    "    bebidaElegida = bebidas[bebida-1]['name']\n",
    "    print(f\"Ingrediente:{ingredienteElegido}\\\n",
    "            \\nBebida: {bebidaElegida}\")\n",
    "    ingredienteCosto = ingredientes[ingrediente-1]['costo']\n",
    "    platoCosto = menu[plato-1]['costo']\n",
    "    bebidaCosto = bebidas[bebida-1]['costo']\n",
    "    costoTotal = platoCosto + ingredienteCosto + bebidaCosto\n",
    "    print(\"Costo total: $\"+ str(costoTotal))\n",
    "    return\n"
   ]
  },
  {
   "cell_type": "markdown",
   "id": "241ef536-5e69-4f8d-9ac8-a9231c63db66",
   "metadata": {},
   "source": [
    "### Ejecución del código\n",
    "Vamos a ejectar el código mostrando primero el mensaje de bienvenida.\n",
    "Guardamos la elección del usuario en la variable eleccion\n",
    "Usamos un if de una linea para ejecutar la función \"ejecutar\" y mandamos el menu correspondiente."
   ]
  },
  {
   "cell_type": "code",
   "execution_count": 10,
   "id": "2ccde55e-feff-438c-81a9-4e2f21f9f63a",
   "metadata": {},
   "outputs": [
    {
     "name": "stdout",
     "output_type": "stream",
     "text": [
      "BIENVENIDO AL RESTURANTE\n",
      "Servimos multiples platillos        \n",
      "Por favor diganos su preferencia:\n",
      "\n",
      "1. Comida Tradicional\n",
      "2. Comida vegetariana\n",
      "\n"
     ]
    },
    {
     "name": "stdin",
     "output_type": "stream",
     "text": [
      " 2\n"
     ]
    },
    {
     "name": "stdout",
     "output_type": "stream",
     "text": [
      "-- MENÚ VEGETARIANO --\n",
      "1. Carne de solla $3.5\n",
      "2. Tafu $4.25\n",
      "3. Arroz con vegetales $3\n"
     ]
    },
    {
     "name": "stdin",
     "output_type": "stream",
     "text": [
      "Seleccione una opción entre las                    mostradas 0-3\n",
      " 2\n"
     ]
    },
    {
     "name": "stdout",
     "output_type": "stream",
     "text": [
      "-- INGREDIENTES EXTRA --\n",
      "1. Papas fritas $1.5\n",
      "2. Maduro asado $1\n",
      "3. Ensalada fria $2\n"
     ]
    },
    {
     "name": "stdin",
     "output_type": "stream",
     "text": [
      "Seleccione una opción entre las                    mostradas 0-3\n",
      " 1\n"
     ]
    },
    {
     "name": "stdout",
     "output_type": "stream",
     "text": [
      "-- BEBIDAS --\n",
      "1. Agua caliente (Té, Café) $0.75\n",
      "2. Jugo natural $1.5\n",
      "3. Gaseosa $1\n"
     ]
    },
    {
     "name": "stdin",
     "output_type": "stream",
     "text": [
      "Seleccione una opción entre las                    mostradas 0-3\n",
      " 2\n"
     ]
    },
    {
     "name": "stdout",
     "output_type": "stream",
     "text": [
      "\n",
      "Seleccion:\n",
      "PLato: Tafu\n",
      "Ingrediente:Papas fritas            \n",
      "Bebida: Jugo natural\n",
      "Costo total: $7.25\n"
     ]
    }
   ],
   "source": [
    "print(\"BIENVENIDO AL RESTURANTE\\nServimos multiples platillos\\\n",
    "        \\nPor favor diganos su preferencia:\")\n",
    "print(\"\\n1. Comida Tradicional\\n2. Comida vegetariana\\n\")\n",
    "eleccion = int(input(\"\"))\n",
    "\n",
    "if(eleccion == 1):ejecutar(\"TRADICIONAL\", menuT, ingredientesExtra, bebidas)\n",
    "if(eleccion == 2): ejecutar(\"VEGETARIANO\", menuV, ingredientesExtra, bebidas)\n"
   ]
  },
  {
   "cell_type": "markdown",
   "id": "a7a7c191-b19a-4744-91ff-9aece55bbcba",
   "metadata": {},
   "source": [
    "## 4. Conclusiones"
   ]
  },
  {
   "cell_type": "markdown",
   "id": "dc23b219-3848-4062-a5c3-71cb1deddaec",
   "metadata": {},
   "source": [
    "El código funciona correctamente y hemos podido aprender del uso de sentencias control como if, también hemos recibido información del usuario por medio de la función input"
   ]
  },
  {
   "cell_type": "markdown",
   "id": "add696dd-8861-421e-ace5-6dd7d8f8cfca",
   "metadata": {},
   "source": [
    "## 5 .Referencias bibliográficas"
   ]
  },
  {
   "cell_type": "markdown",
   "id": "5c6ff384-e17d-4404-b790-ecf60b6d4403",
   "metadata": {},
   "source": [
    "[python:](https://www.w3schools.com/python/python_reference.asp) https://www.w3schools.com/python/python_reference.asp"
   ]
  },
  {
   "cell_type": "markdown",
   "id": "f66cd3b4-bf47-4767-a44c-33913cff8884",
   "metadata": {},
   "source": [
    "## 6 .Declaración de uso de ia"
   ]
  },
  {
   "cell_type": "markdown",
   "id": "ab15042e-0ec3-49c2-8d74-9119a0dccbbe",
   "metadata": {},
   "source": [
    "Durante este informe se han hecho consultas técnicas de temás como sintaxis, errores, identación, etc a la herramienta de gemini por Google."
   ]
  }
 ],
 "metadata": {
  "kernelspec": {
   "display_name": "Python 3 (ipykernel)",
   "language": "python",
   "name": "python3"
  },
  "language_info": {
   "codemirror_mode": {
    "name": "ipython",
    "version": 3
   },
   "file_extension": ".py",
   "mimetype": "text/x-python",
   "name": "python",
   "nbconvert_exporter": "python",
   "pygments_lexer": "ipython3",
   "version": "3.12.2"
  }
 },
 "nbformat": 4,
 "nbformat_minor": 5
}

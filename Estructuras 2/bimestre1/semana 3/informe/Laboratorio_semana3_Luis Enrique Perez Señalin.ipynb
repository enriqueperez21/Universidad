{
 "cells": [
  {
   "cell_type": "markdown",
   "id": "b2107369-55e2-4b39-8590-5f133a76f486",
   "metadata": {},
   "source": [
    "|ESCUELA POLITÉCNICA NACIONAL <br>Estructuras de Datos y Algoritmos II – Computación | INFORME No. |\n",
    "| :---: | :---: |\n",
    "| **Nombre:** Luis Enrique Perez Señalin|3|"
   ]
  },
  {
   "cell_type": "raw",
   "id": "99fc728c-566f-41c8-a825-cd362c87111a",
   "metadata": {},
   "source": [
    "---\n",
    "lang: es\n",
    "format:\n",
    "  pdf:\n",
    "    toc: true\n",
    "    toc-title: \"Tabla de Contenidos\"\n",
    "    papersize: A4\n",
    "    keep-order: true\n",
    "execute:\n",
    "  echo: true\n",
    "  error: false\n",
    "  warning: false\n",
    "jupyter: python3\n",
    "bibliography: ref.bib\n",
    "---"
   ]
  },
  {
   "cell_type": "markdown",
   "id": "ba7e7ee5-ddc4-476f-8585-aa3f2932fafa",
   "metadata": {},
   "source": [
    "# Grafos"
   ]
  },
  {
   "cell_type": "markdown",
   "id": "b67266a8-e094-4d51-8fae-21b86a3160c3",
   "metadata": {},
   "source": [
    "## 1. Objetivos"
   ]
  },
  {
   "cell_type": "markdown",
   "id": "5274fd20-57fb-4dd5-8a05-d071fd5f2abc",
   "metadata": {},
   "source": [
    "Crear un grafo de mínimo 20 nodos y 40 aristas para visualizarlo en Gephi.\n",
    "Aplicar un algoritmo de distribución, personalizar la apariencia, calcular el grado, detectar comuniddes y utilizando las métricas resultantes obtener dos o tres conclusiones del grafo."
   ]
  },
  {
   "cell_type": "markdown",
   "id": "4ddf42f4-1736-4435-96ec-424e26af67c2",
   "metadata": {},
   "source": [
    "## 2. Introducción"
   ]
  },
  {
   "cell_type": "markdown",
   "id": "a870e59d-3a08-4799-bf92-74d93dca0acf",
   "metadata": {},
   "source": [
    "Utilizaremos el grafo de asoiaf traducido como \"Canción de hielo y fuego\" una novel de fantasía heroica que está a disposición en el aula virutal\n",
    "Utilizaremos la herramienta Gephi para realizar los ejercicios"
   ]
  },
  {
   "cell_type": "markdown",
   "id": "ceb07159-aaa1-4a7b-9794-fa23eae8fb47",
   "metadata": {},
   "source": [
    "## 3. EJERCICIOS PLANTEADOS Y/O PROGRAMAS IMPLEMENTADOS"
   ]
  },
  {
   "cell_type": "markdown",
   "id": "1731d98b-77d7-4f15-9830-fe0cc212c5ce",
   "metadata": {},
   "source": [
    "Cree un grafo (o use un dataset de tipo grafo) que tenga al menos 20 nodos y 40 aristas. Visualice la data en Gephi, aplique un algoritmo de distribución, personalice la apariencia, calcule el grado (con o sin pesos, dependiendo del grafo), detecte comunidades y de las diferentes métricas obtenga dos o tres conclusiones a partir de su grafo."
   ]
  },
  {
   "cell_type": "markdown",
   "id": "4ff6dfec-9c90-45b2-8a6d-00c689386172",
   "metadata": {},
   "source": [
    "Podemos resumir las tareas en:<br/>\n",
    "⚪ Visualce la data en Gephi<br/>\n",
    "⚪ Aplique un algoritmo de distribución<br/>\n",
    "⚪ Personalice la apariencia<br/>\n",
    "⚪ Calcule el grado<br/>\n",
    "⚪ Detecte comunidades<br/>\n",
    "⚪ Obtenga 2 o tres conclusiones<br/>"
   ]
  },
  {
   "cell_type": "markdown",
   "id": "da1933c5-50e1-4bf9-955d-328b7db9a8d3",
   "metadata": {},
   "source": [
    "Al importar el grafo, que es un csv tenemos lo siguiente:"
   ]
  },
  {
   "cell_type": "markdown",
   "id": "94e0b956-0cb1-4b70-b424-89eda34ed1a5",
   "metadata": {},
   "source": [
    "![grafo distribuido, imagen_muestra](./imagenes/grafo1.png)"
   ]
  },
  {
   "cell_type": "markdown",
   "id": "7272d9af-ff5c-4b4e-8d20-6a5bd9624f79",
   "metadata": {},
   "source": [
    "✔️ Con esto completamos la parte de visualizar la data en Gephi"
   ]
  },
  {
   "cell_type": "markdown",
   "id": "5812cc51-94db-48db-a574-2fcb0bdefe42",
   "metadata": {},
   "source": [
    "Ahora vamos a aplicar un algoritmo de distribución, en este caso usaremos el algoritmo de distribución de \"Fruchterman Reingold\"."
   ]
  },
  {
   "cell_type": "markdown",
   "id": "9578fea4-e236-4dfb-a641-4eea35623aa4",
   "metadata": {},
   "source": [
    "![grafo distribuido, imagen_muestra](./imagenes/grafo2distribucion.png)"
   ]
  },
  {
   "cell_type": "markdown",
   "id": "483d0fff-1cb0-4dee-b8fc-457bbe5896e9",
   "metadata": {},
   "source": [
    "✔️ Con esto completamos la tarea \"aplicar un algoritmo de distribución\""
   ]
  },
  {
   "cell_type": "markdown",
   "id": "41c54299-a5ef-449b-af8d-8fd867388f5e",
   "metadata": {},
   "source": [
    "Ahora vamos a personalizar la aperiencia, para esto, primero vamos a mostrar los labels, los cuales serán los ids de los nodos ya agregados y luego cambiaremos el color de los nodoso dependiendo de su peso.<br/>\n",
    "Bajo peso -> Negro <br/>\n",
    "algo de peso -> Amarillo<br/>\n",
    "medio peso -> Verde<br/>\n",
    "Alto peso -> Rojo<br/>"
   ]
  },
  {
   "cell_type": "markdown",
   "id": "6a5b6c72-8e3a-4e09-ab7c-5c2ce09d762a",
   "metadata": {},
   "source": [
    "![grafo personalizado, imagen_muestra](./imagenes/grafo3personalizado.png)"
   ]
  },
  {
   "cell_type": "markdown",
   "id": "36c43d59-4625-4144-ae06-7677b4b3aa6b",
   "metadata": {},
   "source": [
    "✔️ Con esto completamos la tarea \"Personalice la apariencia\""
   ]
  },
  {
   "cell_type": "markdown",
   "id": "e7e0d0df-3879-4610-81bb-4854c2762294",
   "metadata": {},
   "source": [
    "Para calcular el grado y verlo reflajado en el Data Table de Data Laboratory utilizamos las funciones de \"Average Degree\" y \"Abg. Weighted Degree\" que están en la sección \"Statistics\" de Overview\", usando eso tendremos la siguiente tabla:"
   ]
  },
  {
   "cell_type": "markdown",
   "id": "5fa21186-0447-496a-a087-baa1caa99e8f",
   "metadata": {},
   "source": [
    "![grado con y sin peso del grafo, imagen_muestra](./imagenes/grafo4degree_degreeW.png)"
   ]
  },
  {
   "cell_type": "markdown",
   "id": "e82213a2-36bc-495d-9cd5-6d8b412cf4cb",
   "metadata": {},
   "source": [
    "✔️ Con esto completamos la tarea \"calcule el grado\""
   ]
  },
  {
   "cell_type": "markdown",
   "id": "13b4ec81-5925-4050-bd65-c342d9f27f71",
   "metadata": {},
   "source": [
    "Para detectar comunidades usamos las funciones de Statics en Overview, en la sección de \"Community Detection\" y usamos la función \"Modularity\" con los valores por defecto, de esta forma la tabla quedaría de la siguiente forma:"
   ]
  },
  {
   "attachments": {},
   "cell_type": "markdown",
   "id": "4a6b9c75-804f-4eef-b0ce-c4fea6242cd5",
   "metadata": {},
   "source": [
    "![tabla nodos con comunidad, imagen_muestra](./imagenes/5comunity_table.png)"
   ]
  },
  {
   "cell_type": "markdown",
   "id": "f5312397-a820-400c-a61c-7b57c2902a6d",
   "metadata": {},
   "source": [
    "y si aplicamos color a cada comunidad tenemos lo siguiente:"
   ]
  },
  {
   "cell_type": "markdown",
   "id": "c1823cd4-6d6e-4235-b3f7-f31a2c111fb3",
   "metadata": {},
   "source": [
    "![tabla nodos con comunidad, imagen_muestra](./imagenes/grafo5comunity.png)"
   ]
  },
  {
   "cell_type": "markdown",
   "id": "74c3617f-facc-4b22-9d03-73d4fe740a2d",
   "metadata": {},
   "source": [
    "✔️ Con esto completamos la tarea \"Detecte comunidades\""
   ]
  },
  {
   "cell_type": "markdown",
   "id": "1f1ca3ba-8660-450d-bab9-7eda0ca4ad90",
   "metadata": {},
   "source": [
    "Podemos obtener algunas conclusiones del grafo como las siguientes:\n",
    "1. La persona con mayor impacto es \"Eddard-Stark\" ya que tiene la mayor grado con 66, y un peso de 1284, podemos verlo ya que si aplicamos un color a los nodos por peso, es el nodo con el color de más peso del grafo.\n",
    "2. Hay peronsajes más importantes que otros, en el centro vemos nodos que tienen gran cantidad de conexiones y alrededor tenemos nodos con peso entre 1 y 2 que poco se conectan con los demás\n",
    "3. Hay un total de 7 comunidades que se basan en las conexiones que existen entre los nodos, en otras palabras la función de \"Modularity\" tomo en cuanta unos 7 nodos que influyen o se relacionan más sobre los otros, y en este caso diriamos que son 7 personajes que tienen gran importancia dentro de los cuales 1 no se relaciona con los otros personajes con un gran peso o importancia, ya que está más apartado, sería el de Daenerys Targaryen, que su comunidad es de un color Rosa oscuro."
   ]
  },
  {
   "cell_type": "markdown",
   "id": "df0b67ee-df42-48fe-8df3-f64b96eba780",
   "metadata": {},
   "source": [
    "✔️ Con esto completamos la tarea \"Obtenga 2 o tres conclusiones\""
   ]
  },
  {
   "cell_type": "markdown",
   "id": "25c5f01f-62ee-407c-af84-2ab895c51aba",
   "metadata": {},
   "source": [
    "## 4. Conclusiones"
   ]
  },
  {
   "cell_type": "markdown",
   "id": "16aca548-5eae-48f0-98b8-55591c32986a",
   "metadata": {},
   "source": [
    "Aplicando multiples funciones y filtros al grafo podemos observar comportamientos que costarían ver usando una tabla, como las relaciones entre los nodos, la importancia entre ellos, la forma en que se relacionan, etc. Existen nodos que tienen mucha conexión entre los demás nodos y se relacionan a la vez entre sí, pero hay otros que no se relacionan entre ellos o están cerca uno del otro, es un ejemplo de lo importante que es poder filtrar un grafo por pesos y por comunidad."
   ]
  },
  {
   "cell_type": "markdown",
   "id": "b0233edd-d4e5-4f32-aaf5-a29d29294730",
   "metadata": {},
   "source": [
    "## 5 .Referencias bibliográficas"
   ]
  },
  {
   "cell_type": "markdown",
   "id": "b2e507ca-633d-4708-8e11-8682e23aae27",
   "metadata": {},
   "source": [
    "No se utilizo ninguna bibliografía o consulta durante el desarrollo de este informe"
   ]
  },
  {
   "cell_type": "markdown",
   "id": "3b3f7272-eb58-4df7-bce8-a810cb2a6ff9",
   "metadata": {},
   "source": [
    "## 6 .Declaración de uso de ia"
   ]
  },
  {
   "cell_type": "markdown",
   "id": "0a091ffd-0fba-4130-92ac-831ac063984f",
   "metadata": {},
   "source": [
    "La inteligencia artifical ayudó en la guía del uso de funciones en Gephi para poder obtener grados y comunidades."
   ]
  }
 ],
 "metadata": {
  "kernelspec": {
   "display_name": "Python 3 (ipykernel)",
   "language": "python",
   "name": "python3"
  },
  "language_info": {
   "codemirror_mode": {
    "name": "ipython",
    "version": 3
   },
   "file_extension": ".py",
   "mimetype": "text/x-python",
   "name": "python",
   "nbconvert_exporter": "python",
   "pygments_lexer": "ipython3",
   "version": "3.12.2"
  }
 },
 "nbformat": 4,
 "nbformat_minor": 5
}

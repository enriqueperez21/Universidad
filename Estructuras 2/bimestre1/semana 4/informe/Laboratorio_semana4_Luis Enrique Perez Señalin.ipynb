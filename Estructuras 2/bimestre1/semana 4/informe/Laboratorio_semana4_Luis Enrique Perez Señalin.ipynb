{
 "cells": [
  {
   "cell_type": "markdown",
   "id": "b2107369-55e2-4b39-8590-5f133a76f486",
   "metadata": {},
   "source": [
    "|ESCUELA POLITÉCNICA NACIONAL <br>Estructuras de Datos y Algoritmos II – Computación | INFORME No. |\n",
    "| :---: | :---: |\n",
    "| **Nombre:** Luis Enrique Perez Señalin|4|"
   ]
  },
  {
   "cell_type": "raw",
   "id": "99fc728c-566f-41c8-a825-cd362c87111a",
   "metadata": {},
   "source": [
    "---\n",
    "lang: es\n",
    "format:\n",
    "  pdf:\n",
    "    toc: true\n",
    "    toc-title: \"Tabla de Contenidos\"\n",
    "    papersize: A4\n",
    "    keep-order: true\n",
    "execute:\n",
    "  echo: true\n",
    "  error: false\n",
    "  warning: false\n",
    "jupyter: python3\n",
    "bibliography: ref.bib\n",
    "---"
   ]
  },
  {
   "cell_type": "markdown",
   "id": "0a6b4b3f-cf7e-4c20-8b16-1c018b0f85ac",
   "metadata": {},
   "source": [
    "# Ch2 – Grafos"
   ]
  },
  {
   "cell_type": "markdown",
   "id": "b67266a8-e094-4d51-8fae-21b86a3160c3",
   "metadata": {},
   "source": [
    "## 1. Objetivos"
   ]
  },
  {
   "cell_type": "markdown",
   "id": "e9f0c46b-af86-485e-ab7b-bf68f180bead",
   "metadata": {},
   "source": [
    "Utilizar el algoritmo de BFS (Breadth-first-Search) para encontrar un nodo en un grafo y para crear un arbol BFS para encontrar la ruta más corta a un nodo"
   ]
  },
  {
   "cell_type": "markdown",
   "id": "4ddf42f4-1736-4435-96ec-424e26af67c2",
   "metadata": {},
   "source": [
    "## 2. Introducción"
   ]
  },
  {
   "cell_type": "markdown",
   "id": "08dc94bd-2d90-4e67-8882-896c58415eaf",
   "metadata": {},
   "source": [
    "En este capítulo veremos el primer algoritmo de grafo. Se llama\n",
    "Breadth-first Search (BFS).<br/>\n",
    "• BFS le permite encontrar la distancia más corta entre dos nodos.<br/>\n",
    "• Puede usar BFS para:<br/>\n",
    "• Escribir un juego de damas que calcule la menor cantidad de movimientos hacia la victoria<br/>\n",
    "• Escribir un corrector ortográfico (la menor cantidad de ediciones de su falta de ortografía a una palabra real; por ejemplo, READED-> READER es una edición)<br/>\n",
    "• Encontrar el médico más cercano a usted en su red.<br/>\n",
    "• Los algoritmos de grafos son algunos de los algoritmos más útiles"
   ]
  },
  {
   "cell_type": "markdown",
   "id": "ceb07159-aaa1-4a7b-9794-fa23eae8fb47",
   "metadata": {},
   "source": [
    "## 3. EJERCICIOS PLANTEADOS Y/O PROGRAMAS IMPLEMENTADOS"
   ]
  },
  {
   "cell_type": "markdown",
   "id": "34963dba-eef4-461e-9061-d30a21d4ae4f",
   "metadata": {},
   "source": [
    "1 Dado el siguiente grafo, implemente el algortimo BSF donde se responda a las preguntas:\n",
    "1. Existe un path desde S hasta F?\n",
    "2. Cuál es esa ruta?"
   ]
  },
  {
   "cell_type": "markdown",
   "id": "f6bf0deb-89fc-4d45-96d9-a3b6f8f79145",
   "metadata": {},
   "source": [
    "![grafo 1, imagen_muestra](./imagenes/grafo1.png)"
   ]
  },
  {
   "cell_type": "markdown",
   "id": "2636dc8e-76b2-4d5d-9d25-76174705cbcf",
   "metadata": {},
   "source": [
    "Vamos a poner el grafo en código usando un diccionario en python"
   ]
  },
  {
   "cell_type": "code",
   "execution_count": 6,
   "id": "354835fa-814c-490b-bd7f-9cedb0f23eff",
   "metadata": {},
   "outputs": [],
   "source": [
    "graph = {}\n",
    "graph['car'] = [\"cat\",\"cab\"]\n",
    "graph['cat'] = [\"mat\", \"bat\"]\n",
    "graph['cab'] = [\"bab\", \"cat\"]\n",
    "graph['mat'] = [\"bat\"]\n",
    "graph['bat'] = []\n",
    "graph['bab'] = [\"bat\"]"
   ]
  },
  {
   "cell_type": "markdown",
   "id": "4c368be3-c585-4ad3-a3ca-69f778e51a03",
   "metadata": {},
   "source": [
    "Creamos una función personalizada que nos retornará una función que comparará los \"vecino\" del nodo pasado como argumento y los comprobará con la variable \"nodo_correct\" que pasamos para que esta función la construya"
   ]
  },
  {
   "cell_type": "code",
   "execution_count": 2,
   "id": "5b15c6f6-6ce6-4bdd-a18c-90746403d06d",
   "metadata": {},
   "outputs": [],
   "source": [
    "def fun_nodo_is_correct(nodo_correct):\n",
    "    return lambda nodo: nodo_correct in graph[nodo]\n"
   ]
  },
  {
   "cell_type": "markdown",
   "id": "ee52cd14-78d6-4b5d-8f8e-928681e78a3a",
   "metadata": {},
   "source": [
    "Usamos la función search con una cola"
   ]
  },
  {
   "cell_type": "code",
   "execution_count": 3,
   "id": "cd17c737-e894-47e0-9bf9-8550309736ce",
   "metadata": {},
   "outputs": [],
   "source": [
    "from collections import deque\n",
    "\n",
    "def search(name,nodo_is_correct):\n",
    "    search_queue = deque()\n",
    "    search_queue += graph[name]\n",
    "    searched = []\n",
    "    while search_queue:\n",
    "        nodo = search_queue.popleft()\n",
    "        if not nodo in searched:\n",
    "            if nodo_is_correct(nodo):\n",
    "                print(nodo,\"have a bat node\")\n",
    "                return True\n",
    "            else:\n",
    "                search_queue += graph[nodo]\n",
    "                searched.append(nodo)\n",
    "    return False"
   ]
  },
  {
   "cell_type": "markdown",
   "id": "6bf4d89c-9360-44da-b321-72077b6587a0",
   "metadata": {},
   "source": [
    "Guardamos la función de retorno creada mandando el nodo \"bat\" para que sea encontrado y llamamos la función search con el nodo \"car\" como inico"
   ]
  },
  {
   "cell_type": "code",
   "execution_count": 4,
   "id": "bdbd990a-4320-47ee-83d0-1ba91bfb15a6",
   "metadata": {},
   "outputs": [
    {
     "name": "stdout",
     "output_type": "stream",
     "text": [
      "cat have a bat node\n"
     ]
    },
    {
     "data": {
      "text/plain": [
       "True"
      ]
     },
     "execution_count": 4,
     "metadata": {},
     "output_type": "execute_result"
    }
   ],
   "source": [
    "nodo_is_correct = fun_nodo_is_correct(\"bat\")\n",
    "search('car',nodo_is_correct)"
   ]
  },
  {
   "cell_type": "markdown",
   "id": "227613b1-6ee6-4b62-8dc6-b25b650c9fa0",
   "metadata": {},
   "source": [
    "1.Existe un path desde S hasta F?<br/>\n",
    "**Respuestas:** Existen multiples caminos, hay 5 en total, pero existe un camino más corto que el resto."
   ]
  },
  {
   "cell_type": "markdown",
   "id": "e21fb6f4-996c-4082-acc4-a67e7e26f6eb",
   "metadata": {},
   "source": [
    "2.Cuál es esa ruta?<br/>\n",
    "**Respuesta:** La ruta más corta es: \"car\" -> \"cat\" -> \"bat\""
   ]
  },
  {
   "cell_type": "markdown",
   "id": "1b902f19-ac15-492b-8ac3-8153733855b8",
   "metadata": {},
   "source": [
    "2 Genere el árbol BFS (BFS Tree) para el siguiente grafo G, sabiendo que el nodo de inicio es 0. Ese sería el componente conectado que contiene al nodo 0. Implemente el algoritmo BFS y use las estructuras auxiliares necesarias."
   ]
  },
  {
   "cell_type": "markdown",
   "id": "43e4266d-b468-42bb-89d1-a58605f4ed43",
   "metadata": {},
   "source": [
    "![grafo 2, imagen_muestra](./imagenes/grafo2.png)"
   ]
  },
  {
   "cell_type": "code",
   "execution_count": 3,
   "id": "efbb0f2d-5f9d-4a77-b34d-326e39f0205e",
   "metadata": {},
   "outputs": [],
   "source": [
    "graph2 = {}\n",
    "graph2['0'] = [\"1\",\"2\",\"5\"]\n",
    "graph2['1'] = [\"2\", \"0\"]\n",
    "graph2['2'] = [\"1\", \"0\", \"3\",\"4\"]\n",
    "graph2['5'] = [\"3\",\"0\"]\n",
    "graph2['3'] = [\"5\",\"2\",\"4\"]\n",
    "graph2['4'] = [\"3\",\"2\"]"
   ]
  },
  {
   "cell_type": "markdown",
   "id": "648f1700-34cb-44a0-9407-4716140d2ff4",
   "metadata": {},
   "source": [
    "La función principal para crear el arbol bfs, funciona de forma parecida al anterior cóidigo, solo que este tiene un fin distinto, no encuentra un vecino que tenga una arista hacia un nodo buscado, sino que retorna un diccionario que contiene el par de clave valor tipo: nodo: padre."
   ]
  },
  {
   "cell_type": "markdown",
   "id": "987cee55-4490-4c4a-bd8e-c7021caf9be1",
   "metadata": {},
   "source": [
    "La forma que funciona es usando los arrays de tree(arbol de nodo-padre), el diccionario \"visited\"(guardara temporalmenete el nodo con su padre) y la cola \"queue\" va a iterar en cada nodo y guardará su padre correspondiente"
   ]
  },
  {
   "cell_type": "markdown",
   "id": "790c33c8-13fa-4c27-823b-3b38fb8ceacb",
   "metadata": {},
   "source": [
    "primero al nodo \"start\" le pondremos de padre \"None\", luego haremos un ciclo while, extraeremos el nodo de la cola, e iteraremos con un for en cada vecino, verificamos si el vecino no ha sido visitado antes, y si no es el caso, guardaremos el nodo actual, osea del cual se extrajo los vecinos como valor \"padre\" y la clave será el vecino actual, y así sucesivamente"
   ]
  },
  {
   "cell_type": "markdown",
   "id": "9d11c60c-f8ac-4c7b-ab61-d280f4b4d54e",
   "metadata": {},
   "source": [
    "Cabe aclarar que usando el debugeador de python, el diccionario tree y visited van o deben terminar siendo iguales, solo para mayor claridad se usan por separados."
   ]
  },
  {
   "cell_type": "code",
   "execution_count": 1,
   "id": "591b85bd-eb5c-40d5-b31f-efc988856b71",
   "metadata": {},
   "outputs": [],
   "source": [
    "def bfs(graph, start):\n",
    "  visited = {start: None}\n",
    "  queue = [start]\n",
    "  tree = {}\n",
    "\n",
    "  while queue:\n",
    "    current_node = queue.pop(0)\n",
    "    tree[current_node] = visited[current_node]\n",
    "\n",
    "    for neighbor in graph[current_node]:\n",
    "      if neighbor not in visited:\n",
    "        visited[neighbor] = current_node\n",
    "        queue.append(neighbor)\n",
    "\n",
    "  return tree"
   ]
  },
  {
   "cell_type": "code",
   "execution_count": 6,
   "id": "3e813b8a-32b2-49bc-98f0-8208a66860a6",
   "metadata": {},
   "outputs": [
    {
     "name": "stdout",
     "output_type": "stream",
     "text": [
      "Árbol BFS:\n",
      "0 -> None\n",
      "1 -> 0\n",
      "2 -> 0\n",
      "3 -> 2\n",
      "4 -> 2\n",
      "5 -> 0\n"
     ]
    }
   ],
   "source": [
    "#Asignamos el nodo \"Start\"\n",
    "start_node = '0'\n",
    "\n",
    "#LLamamos a la función pasando el grafo y el nodo inicial\n",
    "bfs_tree = bfs(graph2, start_node)\n",
    "\n",
    "#Imprimimos el valor del arbol, extrayendo clave valor usando .items()\n",
    "print(\"Árbol BFS:\")\n",
    "# Iteramos los nodos con los padres del arbol ya ordenado\n",
    "for node, parent in sorted(bfs_tree.items()):\n",
    "  print(f\"{node} -> {parent}\")"
   ]
  },
  {
   "cell_type": "markdown",
   "id": "25c5f01f-62ee-407c-af84-2ab895c51aba",
   "metadata": {},
   "source": [
    "## 4. Conclusiones"
   ]
  },
  {
   "cell_type": "markdown",
   "id": "42377452-2996-4161-87b7-6bae12788373",
   "metadata": {},
   "source": [
    "El algoritmo de BFS para encontrar el nodo que tiene un vecino específico, y para crear el arbol con la ruta más corta funcionan de forma eficinete y sencilla, permitiendonos búsquedas eficientes y rutas cortas para visualizar el grafo."
   ]
  },
  {
   "cell_type": "markdown",
   "id": "b0233edd-d4e5-4f32-aaf5-a29d29294730",
   "metadata": {},
   "source": [
    "## 5 .Referencias bibliográficas"
   ]
  },
  {
   "cell_type": "markdown",
   "id": "8367f8e0-7377-49e0-9efc-bb04a91cb781",
   "metadata": {},
   "source": [
    "Todo el contenido usado para este informe fue proporcionado dentro de los pdfs."
   ]
  },
  {
   "cell_type": "markdown",
   "id": "3b3f7272-eb58-4df7-bce8-a810cb2a6ff9",
   "metadata": {},
   "source": [
    "## 6 .Declaración de uso de ia"
   ]
  },
  {
   "cell_type": "markdown",
   "id": "0a091ffd-0fba-4130-92ac-831ac063984f",
   "metadata": {},
   "source": [
    "Se ha usado la inteligencia artificual para comprender y crear correctamente arboles BFS junto con el uso del debugger de python para entender correctamente el funcionamento del algoritmo"
   ]
  }
 ],
 "metadata": {
  "kernelspec": {
   "display_name": "Python 3 (ipykernel)",
   "language": "python",
   "name": "python3"
  },
  "language_info": {
   "codemirror_mode": {
    "name": "ipython",
    "version": 3
   },
   "file_extension": ".py",
   "mimetype": "text/x-python",
   "name": "python",
   "nbconvert_exporter": "python",
   "pygments_lexer": "ipython3",
   "version": "3.10.12"
  }
 },
 "nbformat": 4,
 "nbformat_minor": 5
}

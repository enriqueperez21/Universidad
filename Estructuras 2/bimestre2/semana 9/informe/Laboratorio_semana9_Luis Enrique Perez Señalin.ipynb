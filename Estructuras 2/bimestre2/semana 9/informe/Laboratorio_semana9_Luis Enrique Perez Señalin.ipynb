{
 "cells": [
  {
   "cell_type": "markdown",
   "id": "b0251b36-972e-4346-9e99-b49d0cef4dff",
   "metadata": {},
   "source": [
    "|ESCUELA POLITÉCNICA NACIONAL <br>Estructuras de Datos y Algoritmos II – Computación | INFORME No. |\n",
    "| :---: | :---: |\n",
    "| **Nombre:** Luis Enrique Perez Señalin|9|"
   ]
  },
  {
   "cell_type": "raw",
   "id": "896b1e37-6649-4037-a0f0-56f52af2e274",
   "metadata": {},
   "source": [
    "---\n",
    "lang: es\n",
    "format:\n",
    "  pdf:\n",
    "    toc: true\n",
    "    toc-title: \"Tabla de Contenidos\"\n",
    "    papersize: A4\n",
    "    keep-order: true\n",
    "execute:\n",
    "  echo: true\n",
    "  error: false\n",
    "  warning: false\n",
    "jupyter: python3\n",
    "bibliography: ref.bib\n",
    "---"
   ]
  },
  {
   "cell_type": "markdown",
   "id": "fd15dbdb-dee4-49f2-ab60-2c26780132e3",
   "metadata": {},
   "source": [
    "# Algoritmo de Dijkstra"
   ]
  },
  {
   "cell_type": "markdown",
   "id": "f81fe4e5-3d88-471f-a716-c79aefa7caa1",
   "metadata": {},
   "source": [
    "## 1. Objetivos"
   ]
  },
  {
   "cell_type": "markdown",
   "id": "33de0216-2bb7-44c3-af53-24d5ace07c2f",
   "metadata": {},
   "source": [
    "1. Aprender el uso del algoritmo de Dijstra para encontrar la ruta más corta en grafos con pesos"
   ]
  },
  {
   "cell_type": "markdown",
   "id": "ef371b89-e61d-4e5a-a391-71279216169d",
   "metadata": {},
   "source": [
    "## 2. Introducción"
   ]
  },
  {
   "cell_type": "markdown",
   "id": "03b62cad-6989-4e7c-aeca-8832ec03a795",
   "metadata": {},
   "source": [
    "Anteriormente, descubriste una forma de llegar del punto A al punto B. </br>\n",
    "No es necesariamente el camino más rápido. Es la ruta más corta, porque tiene el menor número de segmentos (tres segmentos o saltos).</br>\n",
    "Pero supongamos que agrega tiempos de viaje a esos segmentos. Ahora ves que hay un camino más rápido.</br>\n",
    "Cada segmento tiene un tiempo de viaje en minutos. Utilizaremos el algoritmo de Dijkstra para ir de Start a Finish en el menor tiempo posible.</br>"
   ]
  },
  {
   "cell_type": "markdown",
   "id": "4ff277f4-1dc3-41e5-9184-aef7714d1a50",
   "metadata": {},
   "source": [
    "## 3. EJERCICIOS PLANTEADOS Y/O PROGRAMAS IMPLEMENTADOS"
   ]
  },
  {
   "cell_type": "markdown",
   "id": "89a8f5f7-fff1-40f9-abe7-b88a4b5e2b40",
   "metadata": {},
   "source": [
    "### 3.1 Implemente el algoritmo de Dijkstra y despliegue la ruta más barata desde S hasta F - Trabaje con el siguiente ejemplo:\n",
    "\n"
   ]
  },
  {
   "cell_type": "markdown",
   "id": "3c585614",
   "metadata": {
    "vscode": {
     "languageId": "raw"
    }
   },
   "source": [
    "![grafo 1, imagen_muestra](./imagenes/grafo1.png)"
   ]
  },
  {
   "cell_type": "code",
   "execution_count": 5,
   "id": "43ae3ba0",
   "metadata": {},
   "outputs": [],
   "source": [
    "# Definimos las función del algoritmo\n",
    "def find_lowest_cost_node(costs, processed):\n",
    "    lowest_cost = float(\"inf\")\n",
    "    lowest_cost_node = None\n",
    "    for node in costs:\n",
    "        cost = costs[node]\n",
    "        if cost < lowest_cost and node not in processed:\n",
    "            lowest_cost = cost\n",
    "            lowest_cost_node = node\n",
    "    return lowest_cost_node\n",
    "\n",
    "def dijkstra(graph, costs, parents):\n",
    "    processed = []\n",
    "    node = find_lowest_cost_node(costs, processed)\n",
    "    while node is not None:\n",
    "        cost = costs[node]\n",
    "        neighbors = graph[node]\n",
    "        if neighbors == {None}:\n",
    "            processed.append(node)\n",
    "            node = find_lowest_cost_node(costs, processed)\n",
    "            continue\n",
    "        for n in neighbors.keys():\n",
    "            new_cost = cost + neighbors[n]\n",
    "            if costs[n] > new_cost:\n",
    "                costs[n] = new_cost\n",
    "                parents[n] = node\n",
    "        processed.append(node)\n",
    "        node = find_lowest_cost_node(costs, processed)\n",
    "    return parents, costs"
   ]
  },
  {
   "cell_type": "markdown",
   "id": "e6232a0f",
   "metadata": {},
   "source": [
    "Vamos a pasar del grafo a diccionario"
   ]
  },
  {
   "cell_type": "code",
   "execution_count": 6,
   "id": "50f4df23",
   "metadata": {},
   "outputs": [
    {
     "name": "stdout",
     "output_type": "stream",
     "text": [
      "{'A': 'S', 'B': 'A', 'C': 'F', 'D': 'F', 'F': 'B'} - {'A': 4, 'B': 7, 'C': 13, 'D': 14, 'F': 8}\n"
     ]
    }
   ],
   "source": [
    "grafo1 = {\n",
    "    'S': {'A': 4,'B': 8,'C':16},\n",
    "    'A': {'B': 3},\n",
    "    'B': {'C': 7,'F':1},\n",
    "    'C': {'D':2},\n",
    "    'D': {None},\n",
    "    'F': {'C':5, 'D':6}\n",
    "}\n",
    "parents1 = {\n",
    "    'A': 'S',\n",
    "    'B': 'S',\n",
    "    'C': 'S',\n",
    "    'D': None,\n",
    "    'F': None\n",
    "}\n",
    "costs1 = {\n",
    "    'A': 4,\n",
    "    'B': 8,\n",
    "    'C': 16,\n",
    "    'D': float(\"inf\"),\n",
    "    'F': float(\"inf\")\n",
    "}\n",
    "f_parents1, f_costs1 = dijkstra(grafo1, costs1, parents1)\n",
    "print(f'{f_parents1} - {f_costs1}')"
   ]
  },
  {
   "cell_type": "markdown",
   "id": "8b28ab5d",
   "metadata": {},
   "source": [
    "Con esto podemos concluir que la ruta más corta de S hasta F es:\n",
    "S -> A -> B -> F"
   ]
  },
  {
   "cell_type": "markdown",
   "id": "62ce0005",
   "metadata": {},
   "source": [
    "### 3.2 Implemente el algoritmo de Dijkstra y despliegue la ruta más barata desde 0 hasta 1 - Trabaje con el siguiente ejemplo. Los pesos de cada arista están listados a continuación:"
   ]
  },
  {
   "cell_type": "markdown",
   "id": "38e5bed3",
   "metadata": {},
   "source": [
    "![grafo 2, imagen_muestra](./imagenes/grafo2.png)"
   ]
  },
  {
   "cell_type": "code",
   "execution_count": 10,
   "id": "579c8654",
   "metadata": {},
   "outputs": [],
   "source": [
    "grafo2 = {\n",
    "    '0': {'2': 0.26, '4': 0.38},\n",
    "    '1': {'3': 0.29},\n",
    "    '2': {'7': 0.34},\n",
    "    '3': {'6': 0.52},\n",
    "    '4': {'5': 0.35, '7': 0.37},\n",
    "    '5': {'1': 0.32, '4': 0.35, '7': 0.28},\n",
    "    '6': {'0': 0.58, '2': 0.40, '4': 0.93},\n",
    "    '7': {'3': 0.39, '5': 0.28}\n",
    "}\n",
    "parents2 = {\n",
    "    '4': '0',\n",
    "    '2': '0',\n",
    "    '7': None,\n",
    "    '3': None,\n",
    "    '6': None,\n",
    "    '5': None,\n",
    "    '1': None\n",
    "}\n",
    "costs2 = {\n",
    "    '0': float(\"inf\"),\n",
    "    '4': 0.38,\n",
    "    '2': 0.26,\n",
    "    '7': float(\"inf\"),\n",
    "    '3': float(\"inf\"),\n",
    "    '6': float(\"inf\"),\n",
    "    '5': float(\"inf\"),\n",
    "    '1': float(\"inf\")\n",
    "}"
   ]
  },
  {
   "cell_type": "code",
   "execution_count": 11,
   "id": "2cc818e0",
   "metadata": {},
   "outputs": [
    {
     "name": "stdout",
     "output_type": "stream",
     "text": [
      "{'4': '0', '2': '0', '7': '2', '3': '7', '6': '3', '5': '4', '1': '5', '0': '6'} - {'0': 2.0900000000000003, '4': 0.38, '2': 0.26, '7': 0.6000000000000001, '3': 0.9900000000000001, '6': 1.5100000000000002, '5': 0.73, '1': 1.05}\n"
     ]
    }
   ],
   "source": [
    "f_parents2, f_costs2 = dijkstra(grafo2, costs2, parents2)\n",
    "print(f'{f_parents2} - {f_costs2}')"
   ]
  },
  {
   "cell_type": "markdown",
   "id": "76a3b545",
   "metadata": {},
   "source": [
    "Con esto podemos concluir que la ruta más corta de 0 hasta 1 es:\n",
    "0 -> 4 -> 5 -> 1"
   ]
  },
  {
   "cell_type": "markdown",
   "id": "a7a7c191-b19a-4744-91ff-9aece55bbcba",
   "metadata": {},
   "source": [
    "## 4. Conclusiones"
   ]
  },
  {
   "cell_type": "markdown",
   "id": "dc23b219-3848-4062-a5c3-71cb1deddaec",
   "metadata": {},
   "source": [
    "El algoritmo de Dijkstra funciona correctamente para calcular la ruta más corta ponderada"
   ]
  },
  {
   "cell_type": "markdown",
   "id": "add696dd-8861-421e-ace5-6dd7d8f8cfca",
   "metadata": {},
   "source": [
    "## 5 .Referencias bibliográficas"
   ]
  },
  {
   "cell_type": "markdown",
   "id": "5c6ff384-e17d-4404-b790-ecf60b6d4403",
   "metadata": {},
   "source": [
    "Aditya Bhargava. “Grokking Algorithms: An illustrated guide for\n",
    "programmers and other curious people”. 2016. Manning Publications."
   ]
  }
 ],
 "metadata": {
  "kernelspec": {
   "display_name": "Python 3 (ipykernel)",
   "language": "python",
   "name": "python3"
  },
  "language_info": {
   "codemirror_mode": {
    "name": "ipython",
    "version": 3
   },
   "file_extension": ".py",
   "mimetype": "text/x-python",
   "name": "python",
   "nbconvert_exporter": "python",
   "pygments_lexer": "ipython3",
   "version": "3.12.3"
  }
 },
 "nbformat": 4,
 "nbformat_minor": 5
}

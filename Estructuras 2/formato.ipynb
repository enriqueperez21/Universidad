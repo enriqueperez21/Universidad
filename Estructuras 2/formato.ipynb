{
 "cells": [
  {
   "cell_type": "markdown",
   "id": "b2107369-55e2-4b39-8590-5f133a76f486",
   "metadata": {},
   "source": [
    "|ESCUELA POLITÉCNICA NACIONAL <br>Estructuras de Datos y Algoritmos II – Computación | INFORME No. |\n",
    "| :---: | :---: |\n",
    "| **Nombre:** Luis Enrique Perez Señalin|2|"
   ]
  },
  {
   "cell_type": "raw",
   "id": "99fc728c-566f-41c8-a825-cd362c87111a",
   "metadata": {},
   "source": [
    "---\n",
    "lang: es\n",
    "format:\n",
    "  pdf:\n",
    "    toc: true\n",
    "    toc-title: \"Tabla de Contenidos\"\n",
    "    papersize: A4\n",
    "    keep-order: true\n",
    "execute:\n",
    "  echo: true\n",
    "  error: false\n",
    "  warning: false\n",
    "jupyter: python3\n",
    "bibliography: ref.bib\n",
    "---"
   ]
  },
  {
   "cell_type": "markdown",
   "id": "b67266a8-e094-4d51-8fae-21b86a3160c3",
   "metadata": {},
   "source": [
    "## 1. Objetivos"
   ]
  },
  {
   "cell_type": "markdown",
   "id": "4ddf42f4-1736-4435-96ec-424e26af67c2",
   "metadata": {},
   "source": [
    "## 2. Introducción"
   ]
  },
  {
   "cell_type": "markdown",
   "id": "ceb07159-aaa1-4a7b-9794-fa23eae8fb47",
   "metadata": {},
   "source": [
    "## 3. EJERCICIOS PLANTEADOS Y/O PROGRAMAS IMPLEMENTADOS"
   ]
  },
  {
   "cell_type": "markdown",
   "id": "25c5f01f-62ee-407c-af84-2ab895c51aba",
   "metadata": {},
   "source": [
    "## 4. Conclusiones"
   ]
  },
  {
   "cell_type": "markdown",
   "id": "b0233edd-d4e5-4f32-aaf5-a29d29294730",
   "metadata": {
    "jp-MarkdownHeadingCollapsed": true
   },
   "source": [
    "## 5 .Referencias bibliográficas"
   ]
  },
  {
   "cell_type": "markdown",
   "id": "3b3f7272-eb58-4df7-bce8-a810cb2a6ff9",
   "metadata": {
    "jp-MarkdownHeadingCollapsed": true
   },
   "source": [
    "## 6 .Declaración de uso de ia"
   ]
  },
  {
   "cell_type": "markdown",
   "id": "0a091ffd-0fba-4130-92ac-831ac063984f",
   "metadata": {},
   "source": [
    "Se ha pedido ayuda de herramientas como gemini de google, para poder realizar el renderizado de este informe, utilizando el paquete quarto, y usando los datos de la cabecera raw para que se genere correctamente los datos necesarios."
   ]
  }
 ],
 "metadata": {
  "kernelspec": {
   "display_name": "Python 3 (ipykernel)",
   "language": "python",
   "name": "python3"
  },
  "language_info": {
   "codemirror_mode": {
    "name": "ipython",
    "version": 3
   },
   "file_extension": ".py",
   "mimetype": "text/x-python",
   "name": "python",
   "nbconvert_exporter": "python",
   "pygments_lexer": "ipython3",
   "version": "3.12.2"
  }
 },
 "nbformat": 4,
 "nbformat_minor": 5
}

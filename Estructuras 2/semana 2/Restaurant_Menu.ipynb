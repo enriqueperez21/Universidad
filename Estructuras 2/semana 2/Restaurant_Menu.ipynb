{
 "cells": [
  {
   "cell_type": "markdown",
   "id": "bdb1d1c6-bfc4-4c4d-abc1-94aea66cf842",
   "metadata": {},
   "source": [
    "# Semana 2"
   ]
  },
  {
   "cell_type": "markdown",
   "id": "65057004-0358-4e45-b62f-f3ab6def6b5c",
   "metadata": {},
   "source": [
    "### Nombre: Luis Enrique Pérez Señalin"
   ]
  },
  {
   "cell_type": "markdown",
   "id": "89a8f5f7-fff1-40f9-abe7-b88a4b5e2b40",
   "metadata": {},
   "source": [
    "## Informe semana 2\n",
    "* Cree un programa en Python utilizando JupyterLab:\n",
    "\n",
    "a. Escribir un programa para un restaurante que tiene un menú vegetariano y un menú tradicional (no vegetariano). Debes preguntar al cliente si es vegetariano o no para, en base a su respuesta, presentarle el menú. Para el platillo que decides ofrecer, el cliente podría escoger un ingrediente adicional (de dos o tres ingredientes). Presenta también un pequeño menú de bebidas frías y calientes.\n",
    "\n",
    "b. Es posible calcular el costo del menú + ingrediente extra + bebida, de acuerdo con la selección del cliente?\n",
    "\n",
    "NOTA: puedes mantener valores quemados como el menú de platillos y precios"
   ]
  },
  {
   "cell_type": "markdown",
   "id": "5ca09418-e928-4c16-b901-0060a4d14b73",
   "metadata": {},
   "source": [
    "## Codigo del Programa --Restaurante--"
   ]
  },
  {
   "cell_type": "markdown",
   "id": "8e2da812-4ac7-469b-ac6f-e6ee7792fa3d",
   "metadata": {},
   "source": [
    "### Definimos varios Arrays (Listas) de objetos para poder mostrarlos al cliente\n",
    "Tenemos los menus de Tradicional, Vegetariano, los ingredientes extras, y las bebidas"
   ]
  },
  {
   "cell_type": "code",
   "execution_count": 5,
   "id": "a1f75bed-87be-491e-bd7e-18feb15e8cca",
   "metadata": {},
   "outputs": [],
   "source": [
    "menuT = [\n",
    "    {\"name\": \"Pollo a la plancha\", \"costo\": 2.5},\n",
    "    {\"name\": \"Bistec de carne\", \"costo\": 2.75},\n",
    "    {\"name\": \"Ceviche de camarón\", \"costo\": 3}\n",
    "]\n",
    "\n",
    "menuV = [\n",
    "    {\"name\": \"Carne de solla\", \"costo\": 3.5},\n",
    "    {\"name\": \"Tafu\", \"costo\": 4.25},\n",
    "    {\"name\": \"Arroz con vegetales\", \"costo\": 3}\n",
    "]\n",
    "\n",
    "ingredientesExtra = [\n",
    "    {\"name\": \"Papas fritas\", \"costo\": 1.5},\n",
    "    {\"name\": \"Maduro asado\", \"costo\": 1},\n",
    "    {\"name\": \"Ensalada fria\", \"costo\": 2}\n",
    "]\n",
    "\n",
    "bebidas = [\n",
    "    {\"name\": \"Agua caliente (Té, Café)\", \"costo\": 0.75},\n",
    "    {\"name\": \"Jugo natural\", \"costo\": 1.5},\n",
    "    {\"name\": \"Gaseosa\", \"costo\": 1}\n",
    "]"
   ]
  },
  {
   "cell_type": "markdown",
   "id": "aef28083-65ae-4ec1-8a79-1051561b2bde",
   "metadata": {},
   "source": [
    "### Creamos una función llamada mostrarYSeleccionar\n",
    "Usando la función For in y recibiendo un array (list) con las propiedades name y costo\n",
    "Mostramos la lista con un index y con su costo\n",
    "Pedimos al usuario la entrada del valor con input y la transformamos a entero"
   ]
  },
  {
   "cell_type": "code",
   "execution_count": 6,
   "id": "997da1bf-5b0f-4892-b843-703a521d85b1",
   "metadata": {},
   "outputs": [],
   "source": [
    "def mostrarYSeleccionar(lista):\n",
    "    for index,item in enumerate(lista):\n",
    "        print(str(index+1) + \". \"+item['name']+\" $\"+str(item['costo']) )\n",
    "    return int(input(\"Seleccione una opción entre las mostradas 0-\"+str (len(lista))+\"\\n\" ))"
   ]
  },
  {
   "cell_type": "markdown",
   "id": "283ce77d-47e7-4033-a6d5-ad5963274aa6",
   "metadata": {},
   "source": [
    "### Función ejecutar\n",
    "Usando esta función mostramos los menús de las 3 elecciones\n",
    "Tenemos Menú principal, Ingredientes y bebidas.\n",
    "Usando la función mostrarYSeleccionar, mandamos la lista y guardamos la elección correspondiente."
   ]
  },
  {
   "cell_type": "code",
   "execution_count": 7,
   "id": "8821381f-5945-4b87-b649-df84efd7e399",
   "metadata": {},
   "outputs": [],
   "source": [
    "def ejecutar(tipo, menu, ingredientes, bebidas):\n",
    "    print(\"-- MENÚ \"+tipo+\" --\")\n",
    "    plato = mostrarYSeleccionar(menu)\n",
    "    print(\"-- INGREDIENTES EXTRA --\")\n",
    "    ingrediente = mostrarYSeleccionar(ingredientes)\n",
    "    print(\"-- BEBIDAS --\")\n",
    "    bebida = mostrarYSeleccionar(bebidas)\n",
    "    print(\"\\nSeleccion:\\nPLato: \"+menu[plato-1]['name'])\n",
    "    print(\"Ingrediente:\"+ingredientes[ingrediente-1]['name']+\"\\nBebida:\"+bebidas[bebida-1]['name'])\n",
    "    costoTotal = menu[plato-1]['costo']+ingredientes[ingrediente-1]['costo']+bebidas[bebida-1]['costo']\n",
    "    print(\"Costo total: $\"+ str(costoTotal))\n",
    "    return\n"
   ]
  },
  {
   "cell_type": "markdown",
   "id": "241ef536-5e69-4f8d-9ac8-a9231c63db66",
   "metadata": {},
   "source": [
    "### Ejecución del código\n",
    "Vamos a ejectar el código mostrando primero el mensaje de bienvenida.\n",
    "Guardamos la elección del usuario en la variable eleccion\n",
    "Usamos un if de una linea para ejecutar la función \"ejecutar\" y mandamos el menu correspondiente."
   ]
  },
  {
   "cell_type": "code",
   "execution_count": 8,
   "id": "2ccde55e-feff-438c-81a9-4e2f21f9f63a",
   "metadata": {},
   "outputs": [
    {
     "name": "stdout",
     "output_type": "stream",
     "text": [
      "BIENVENIDO AL RESTURANTE\n",
      "Servimos multiples platillos\n",
      "Por favor diganos su preferencia:\n",
      "\n",
      "1. Comida Tradicional\n",
      "2. Comida vegetariana\n",
      "\n"
     ]
    },
    {
     "name": "stdin",
     "output_type": "stream",
     "text": [
      " 1\n"
     ]
    },
    {
     "name": "stdout",
     "output_type": "stream",
     "text": [
      "-- MENÚ TRADICIONAL --\n",
      "1. Pollo a la plancha $2.5\n",
      "2. Bistec de carne $2.75\n",
      "3. Ceviche de camarón $3\n"
     ]
    },
    {
     "name": "stdin",
     "output_type": "stream",
     "text": [
      "Seleccione una opción entre las mostradas 0-3\n",
      " 2\n"
     ]
    },
    {
     "name": "stdout",
     "output_type": "stream",
     "text": [
      "-- INGREDIENTES EXTRA --\n",
      "1. Papas fritas $1.5\n",
      "2. Maduro asado $1\n",
      "3. Ensalada fria $2\n"
     ]
    },
    {
     "name": "stdin",
     "output_type": "stream",
     "text": [
      "Seleccione una opción entre las mostradas 0-3\n",
      " 3\n"
     ]
    },
    {
     "name": "stdout",
     "output_type": "stream",
     "text": [
      "-- BEBIDAS --\n",
      "1. Agua caliente (Té, Café) $0.75\n",
      "2. Jugo natural $1.5\n",
      "3. Gaseosa $1\n"
     ]
    },
    {
     "name": "stdin",
     "output_type": "stream",
     "text": [
      "Seleccione una opción entre las mostradas 0-3\n",
      " 2\n"
     ]
    },
    {
     "name": "stdout",
     "output_type": "stream",
     "text": [
      "\n",
      "Seleccion:\n",
      "PLato: Bistec de carne\n",
      "Ingrediente:Ensalada fria\n",
      "Bebida:Jugo natural\n",
      "Costo total: $6.25\n"
     ]
    }
   ],
   "source": [
    "print(\"BIENVENIDO AL RESTURANTE\\nServimos multiples platillos\\nPor favor diganos su preferencia:\")\n",
    "print(\"\\n1. Comida Tradicional\\n2. Comida vegetariana\\n\")\n",
    "eleccion = int(input(\"\"))\n",
    "\n",
    "if(eleccion == 1):ejecutar(\"TRADICIONAL\", menuT, ingredientesExtra, bebidas)\n",
    "if(eleccion == 2): ejecutar(\"VEGETARIANO\", menuV, ingredientesExtra, bebidas)\n"
   ]
  },
  {
   "cell_type": "code",
   "execution_count": null,
   "id": "a46e85d4-addc-4f8d-9712-22f65a80fbe2",
   "metadata": {},
   "outputs": [],
   "source": []
  }
 ],
 "metadata": {
  "kernelspec": {
   "display_name": "Python 3 (ipykernel)",
   "language": "python",
   "name": "python3"
  },
  "language_info": {
   "codemirror_mode": {
    "name": "ipython",
    "version": 3
   },
   "file_extension": ".py",
   "mimetype": "text/x-python",
   "name": "python",
   "nbconvert_exporter": "python",
   "pygments_lexer": "ipython3",
   "version": "3.12.3"
  }
 },
 "nbformat": 4,
 "nbformat_minor": 5
}

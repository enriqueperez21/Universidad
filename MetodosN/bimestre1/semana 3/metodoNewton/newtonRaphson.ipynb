{
 "cells": [
  {
   "cell_type": "code",
   "execution_count": 23,
   "metadata": {},
   "outputs": [],
   "source": [
    "def equation(x:float)->float:\n",
    "    \n",
    "    return (x**3 - 3*x**2 + x - 1)\n",
    "\n",
    "def derivate(x:float)->float:\n",
    "    return (3*x**2 - 6*x + 1)"
   ]
  },
  {
   "cell_type": "code",
   "execution_count": 24,
   "metadata": {},
   "outputs": [
    {
     "name": "stdout",
     "output_type": "stream",
     "text": [
      "1. y = 2\t2. y = 0.23199999999999843\t3. y = 0.004849661923670201\t4. y = 2.2814180988817157e-06\t\n",
      " 2.7692923542386993\n"
     ]
    }
   ],
   "source": [
    "from typing import Callable\n",
    "\n",
    "def newton_raphson(\n",
    "    x0: float,\n",
    "    *,\n",
    "    equation: Callable[[float], float],\n",
    "    derivate: Callable[[float], float],\n",
    "    tol: float,\n",
    "    N: int\n",
    ") -> float | None:\n",
    "    # Codigo\n",
    "    i = 1\n",
    "    for i in range(1, N+1):\n",
    "        y = equation(x0)\n",
    "        p = x0 -  y/derivate(x0)\n",
    "        print(f\"{i}. y = {y}\", end=\"\\t\")\n",
    "        if y == 0 or abs(p - x0)<tol:\n",
    "            return p\n",
    "        x0 = p\n",
    "    raise ValueError\n",
    "\n",
    "result = newton_raphson(3, equation = equation,derivate = derivate,tol = 10**-5,N=100)\n",
    "print(\"\\n\",result)\n"
   ]
  },
  {
   "cell_type": "code",
   "execution_count": 28,
   "metadata": {},
   "outputs": [
    {
     "data": {
      "text/plain": [
       "2.7692923542386314"
      ]
     },
     "execution_count": 28,
     "metadata": {},
     "output_type": "execute_result"
    }
   ],
   "source": [
    "from scipy import optimize\n",
    "\n",
    "## optimize.newton(equation, 5)\n",
    "optimize.newton(equation, 5, fprime= derivate)"
   ]
  }
 ],
 "metadata": {
  "kernelspec": {
   "display_name": "Python 3",
   "language": "python",
   "name": "python3"
  },
  "language_info": {
   "codemirror_mode": {
    "name": "ipython",
    "version": 3
   },
   "file_extension": ".py",
   "mimetype": "text/x-python",
   "name": "python",
   "nbconvert_exporter": "python",
   "pygments_lexer": "ipython3",
   "version": "3.10.12"
  }
 },
 "nbformat": 4,
 "nbformat_minor": 2
}

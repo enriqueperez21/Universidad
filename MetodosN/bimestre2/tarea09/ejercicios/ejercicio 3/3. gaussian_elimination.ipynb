{
 "cells": [
  {
   "cell_type": "markdown",
   "metadata": {},
   "source": [
    "# Eliminación Gaussiana con sustitución hacia atrás"
   ]
  },
  {
   "cell_type": "code",
   "execution_count": 4,
   "metadata": {},
   "outputs": [
    {
     "name": "stdout",
     "output_type": "stream",
     "text": [
      "The autoreload extension is already loaded. To reload it, use:\n",
      "  %reload_ext autoreload\n"
     ]
    }
   ],
   "source": [
    "%load_ext autoreload"
   ]
  },
  {
   "cell_type": "code",
   "execution_count": null,
   "metadata": {},
   "outputs": [],
   "source": [
    "%autoreload 2\n",
    "from src import eliminacion_gaussiana\n",
    "import numpy as np"
   ]
  },
  {
   "cell_type": "code",
   "execution_count": null,
   "metadata": {},
   "outputs": [],
   "source": [
    "A = np.array([[1, -1, 3, 2],\n",
    "     [3, -3, 1, -1],\n",
    "     [1, 1, 0, 3]])\n",
    "\n",
    "B = np.array([[ 2, -1.5, 3, 1],\n",
    "     [-1,    0, 2, 3],\n",
    "     [ 4, -4.5, 5, 1]])\n",
    "\n",
    "C = np.array([[2,   0,   0,  0,    3],\n",
    "     [1, 1.5,   0,  0,  4.5],\n",
    "     [0,  -3, 0.5,  0, -6.6],\n",
    "     [2,  -2,   1,  1,  0.8]])\n",
    "\n",
    "D = np.array(\n",
    "    [[1,  1,  0, 1,  2],\n",
    "     [2,  1, -1, 1,  1],\n",
    "     [4, -1, -2, 2,  0],\n",
    "     [3, -1, -1, 2, -3]])"
   ]
  },
  {
   "cell_type": "code",
   "execution_count": null,
   "metadata": {},
   "outputs": [],
   "source": [
    "R = eliminacion_gaussiana(A)\n",
    "print(R)"
   ]
  },
  {
   "cell_type": "code",
   "execution_count": null,
   "metadata": {},
   "outputs": [],
   "source": [
    "R = eliminacion_gaussiana(B)\n",
    "print(R)"
   ]
  },
  {
   "cell_type": "code",
   "execution_count": null,
   "metadata": {},
   "outputs": [],
   "source": [
    "R = eliminacion_gaussiana(C)\n",
    "print(R)"
   ]
  },
  {
   "cell_type": "code",
   "execution_count": null,
   "metadata": {},
   "outputs": [],
   "source": [
    "R = eliminacion_gaussiana(D)\n",
    "print(R)"
   ]
  },
  {
   "cell_type": "markdown",
   "metadata": {},
   "source": [
    "# Soluciones infinitas\n",
    "El siguiente sistema de ecuaciones tiene soluciones infinitas:\n",
    "\n",
    "|   |   |   |   |\n",
    "|---|---|---|---|\n",
    "| 1 | 1 | 1 | 4 |\n",
    "| 2 | 2 | 1 | 6 |\n",
    "| 1 | 1 | 2 | 6 |\n",
    "\n",
    "\n"
   ]
  },
  {
   "cell_type": "markdown",
   "metadata": {},
   "source": [
    "# Sin solución\n",
    "El siguiente sistema de ecuaciones no tiene solución:\n",
    "\n",
    "|   |   |   |   |\n",
    "|---|---|---|---|\n",
    "| 1 | 1 | 1 | 4 |\n",
    "| 2 | 2 | 1 | 4 |\n",
    "| 1 | 1 | 2 | 6 |"
   ]
  }
 ],
 "metadata": {
  "kernelspec": {
   "display_name": "Python 3",
   "language": "python",
   "name": "python3"
  },
  "language_info": {
   "codemirror_mode": {
    "name": "ipython",
    "version": 3
   },
   "file_extension": ".py",
   "mimetype": "text/x-python",
   "name": "python",
   "nbconvert_exporter": "python",
   "pygments_lexer": "ipython3",
   "version": "3.12.3"
  }
 },
 "nbformat": 4,
 "nbformat_minor": 2
}

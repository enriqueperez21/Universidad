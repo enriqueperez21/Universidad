{
 "cells": [
  {
   "cell_type": "markdown",
   "metadata": {},
   "source": [
    "# Eliminación Gaussiana con sustitución hacia atrás"
   ]
  },
  {
   "cell_type": "code",
   "execution_count": 1,
   "metadata": {},
   "outputs": [],
   "source": [
    "%load_ext autoreload"
   ]
  },
  {
   "cell_type": "code",
   "execution_count": 2,
   "metadata": {},
   "outputs": [],
   "source": [
    "%autoreload 2\n",
    "from ejercicio7 import gauss_jordan_32bits\n",
    "import numpy as np"
   ]
  },
  {
   "cell_type": "code",
   "execution_count": 3,
   "metadata": {},
   "outputs": [],
   "source": [
    "A = np.array(\n",
    "    [[1/4, 1/5, 1/6, 9],\n",
    "     [1/3, 1/4, 1/5, 8],\n",
    "     [1/2,   1,   2, 8]])\n",
    "\n",
    "B = np.array(\n",
    "    [[  3.333,  15920, -10.333,  15913],\n",
    "     [  2.222,  16.71,   9.612, 28.544],\n",
    "     [ 1.5611, 5.1791,  1.6852, 8.4254]])\n",
    "\n",
    "C = np.array(\n",
    "    [[  1, 1/2, 1/3, 1/4, 1/6],\n",
    "     [1/2, 1/3, 1/4, 1/5, 1/7],\n",
    "     [1/3, 1/4, 1/5, 1/6, 1/8],\n",
    "     [1/4, 1/5, 1/6, 1/7, 1/9]])\n",
    "\n",
    "D = np.array(\n",
    "    [[2,  1, -1,  1, -3,  7],\n",
    "     [1,  0,  2, -1,  1,  2],\n",
    "     [0, -2, -1,  1, -1, -5],\n",
    "     [3,  1, -4,  0,  5,  6],\n",
    "     [1, -1, -1, -1,  1, -3]])"
   ]
  },
  {
   "cell_type": "code",
   "execution_count": 6,
   "metadata": {},
   "outputs": [],
   "source": [
    "R_A = gauss_jordan_32bits(A)[0]\n",
    "R_B = gauss_jordan_32bits(B)[0]\n",
    "R_C = gauss_jordan_32bits(C)[0]\n",
    "R_D = gauss_jordan_32bits(D)[0]"
   ]
  },
  {
   "cell_type": "code",
   "execution_count": 7,
   "metadata": {},
   "outputs": [
    {
     "name": "stdout",
     "output_type": "stream",
     "text": [
      "Respuesta de A: [-227.07669067  476.92263794 -177.69216919]\n",
      "Respuesta de B: [0.9999997  1.00000012 0.99999982]\n",
      "Respuesta de C: [-0.03174108  0.5951857  -2.38083124  2.77770114]\n",
      "Respuesta de D: [1.88304102 2.80701733 0.73099416 1.43859673 0.09356727]\n"
     ]
    }
   ],
   "source": [
    "print(f'Respuesta de A: {R_A}')\n",
    "print(f'Respuesta de B: {R_B}')\n",
    "print(f'Respuesta de C: {R_C}')\n",
    "print(f'Respuesta de D: {R_D}')"
   ]
  },
  {
   "cell_type": "markdown",
   "metadata": {},
   "source": [
    "# Soluciones infinitas\n",
    "El siguiente sistema de ecuaciones tiene soluciones infinitas:\n",
    "\n",
    "|   |   |   |   |\n",
    "|---|---|---|---|\n",
    "| 1 | 1 | 1 | 4 |\n",
    "| 2 | 2 | 1 | 6 |\n",
    "| 1 | 1 | 2 | 6 |\n",
    "\n",
    "\n"
   ]
  },
  {
   "cell_type": "markdown",
   "metadata": {},
   "source": [
    "# Sin solución\n",
    "El siguiente sistema de ecuaciones no tiene solución:\n",
    "\n",
    "|   |   |   |   |\n",
    "|---|---|---|---|\n",
    "| 1 | 1 | 1 | 4 |\n",
    "| 2 | 2 | 1 | 4 |\n",
    "| 1 | 1 | 2 | 6 |"
   ]
  }
 ],
 "metadata": {
  "kernelspec": {
   "display_name": "Python 3",
   "language": "python",
   "name": "python3"
  },
  "language_info": {
   "codemirror_mode": {
    "name": "ipython",
    "version": 3
   },
   "file_extension": ".py",
   "mimetype": "text/x-python",
   "name": "python",
   "nbconvert_exporter": "python",
   "pygments_lexer": "ipython3",
   "version": "3.12.3"
  }
 },
 "nbformat": 4,
 "nbformat_minor": 2
}

{
 "cells": [
  {
   "cell_type": "markdown",
   "metadata": {},
   "source": [
    "# Métodos Numéricos Tarea09"
   ]
  },
  {
   "cell_type": "markdown",
   "metadata": {},
   "source": [
    "### Pregunta 1"
   ]
  },
  {
   "cell_type": "code",
   "execution_count": 1,
   "metadata": {},
   "outputs": [],
   "source": [
    "import numpy as np\n",
    "\n",
    "# Multiplicación de matrices usando numpy\n",
    "a1 = np.array([\n",
    "    [2, -3],\n",
    "    [3, -1]\n",
    "])\n",
    "a2 = np.array([\n",
    "    [1, 5],\n",
    "    [2, 0]\n",
    "])\n",
    "\n",
    "b1 = np.array([\n",
    "    [2, -3],\n",
    "    [3, -1]\n",
    "])\n",
    "\n",
    "b2 = np.array([\n",
    "    [1, 5, -4],\n",
    "    [-3, 2, 0]\n",
    "])\n",
    "\n",
    "c1 = np.array([\n",
    "    [2, -3, 1],\n",
    "    [4, 3, 0],\n",
    "    [5, 2, -4]\n",
    "])\n",
    "\n",
    "c2 = np.array([\n",
    "    [0, 1, -2],\n",
    "    [1, 0, -1],\n",
    "    [2, 3, -2]\n",
    "])\n",
    "\n",
    "d1 = np.array([\n",
    "    [2, 1, 2],\n",
    "    [-2, 3, 0],\n",
    "    [2, -1, 3]\n",
    "])\n",
    "\n",
    "d2 = np.array([\n",
    "    [1, -2],\n",
    "    [-4, 1],\n",
    "    [0, 2]\n",
    "])"
   ]
  },
  {
   "cell_type": "code",
   "execution_count": 2,
   "metadata": {},
   "outputs": [
    {
     "data": {
      "text/plain": [
       "array([[-4, 10],\n",
       "       [ 1, 15]])"
      ]
     },
     "execution_count": 2,
     "metadata": {},
     "output_type": "execute_result"
    }
   ],
   "source": [
    "np.dot(a1,a2)"
   ]
  },
  {
   "cell_type": "code",
   "execution_count": 3,
   "metadata": {},
   "outputs": [
    {
     "data": {
      "text/plain": [
       "array([[ 11,   4,  -8],\n",
       "       [  6,  13, -12]])"
      ]
     },
     "execution_count": 3,
     "metadata": {},
     "output_type": "execute_result"
    }
   ],
   "source": [
    "np.dot(b1,b2)"
   ]
  },
  {
   "cell_type": "code",
   "execution_count": 4,
   "metadata": {},
   "outputs": [
    {
     "data": {
      "text/plain": [
       "array([[ -1,   5,  -3],\n",
       "       [  3,   4, -11],\n",
       "       [ -6,  -7,  -4]])"
      ]
     },
     "execution_count": 4,
     "metadata": {},
     "output_type": "execute_result"
    }
   ],
   "source": [
    "np.dot(c1,c2)"
   ]
  },
  {
   "cell_type": "code",
   "execution_count": 5,
   "metadata": {},
   "outputs": [
    {
     "data": {
      "text/plain": [
       "array([[ -2,   1],\n",
       "       [-14,   7],\n",
       "       [  6,   1]])"
      ]
     },
     "execution_count": 5,
     "metadata": {},
     "output_type": "execute_result"
    }
   ],
   "source": [
    "np.dot(d1,d2)"
   ]
  },
  {
   "cell_type": "markdown",
   "metadata": {},
   "source": [
    "### Pregunta 2"
   ]
  },
  {
   "cell_type": "code",
   "execution_count": 6,
   "metadata": {},
   "outputs": [],
   "source": [
    "# Definir las matrices\n",
    "a = np.array([\n",
    "    [4, 2, 6],\n",
    "    [3, 0, 7],\n",
    "    [-2, -1, -3]\n",
    "])\n",
    "\n",
    "b = np.array([\n",
    "    [1, 2, 0],\n",
    "    [2, 1, -1],\n",
    "    [3, 1, 1]\n",
    "])\n",
    "\n",
    "c = np.array([\n",
    "    [1, 1, -1, 1],\n",
    "    [1, 2, -4, -2],\n",
    "    [2, 1, 1, 5],\n",
    "    [-1, 0, -2, -4]\n",
    "])\n",
    "\n",
    "d = np.array([\n",
    "    [4, 0, 0, 0],\n",
    "    [6, 7, 0, 0],\n",
    "    [9, 11, 1, 0],\n",
    "    [5, 4, 1, 1]\n",
    "])"
   ]
  },
  {
   "cell_type": "code",
   "execution_count": 7,
   "metadata": {},
   "outputs": [
    {
     "name": "stdout",
     "output_type": "stream",
     "text": [
      "Determinante de la matriz a: 0.0\n",
      "Determinante de la matriz b: -8.000000000000002\n",
      "Determinante de la matriz c: 0.0\n",
      "Determinante de la matriz d: 28.00000000000001\n"
     ]
    }
   ],
   "source": [
    "# Calcular y mostrar el determinante de cada matriz\n",
    "det_a = np.linalg.det(a)\n",
    "det_b = np.linalg.det(b)\n",
    "det_c = np.linalg.det(c)\n",
    "det_d = np.linalg.det(d)\n",
    "\n",
    "print(f\"Determinante de la matriz a: {det_a}\")\n",
    "print(f\"Determinante de la matriz b: {det_b}\")\n",
    "print(f\"Determinante de la matriz c: {det_c}\")\n",
    "print(f\"Determinante de la matriz d: {det_d}\")"
   ]
  },
  {
   "cell_type": "code",
   "execution_count": 8,
   "metadata": {},
   "outputs": [
    {
     "data": {
      "text/plain": [
       "array([[-0.25 ,  0.25 ,  0.25 ],\n",
       "       [ 0.625, -0.125, -0.125],\n",
       "       [ 0.125, -0.625,  0.375]])"
      ]
     },
     "execution_count": 8,
     "metadata": {},
     "output_type": "execute_result"
    }
   ],
   "source": [
    "inv_b = np.linalg.inv(b)\n",
    "inv_b"
   ]
  },
  {
   "cell_type": "code",
   "execution_count": 9,
   "metadata": {},
   "outputs": [
    {
     "data": {
      "text/plain": [
       "array([[ 0.25      ,  0.        ,  0.        ,  0.        ],\n",
       "       [-0.21428571,  0.14285714, -0.        , -0.        ],\n",
       "       [ 0.10714286, -1.57142857,  1.        , -0.        ],\n",
       "       [-0.5       ,  1.        , -1.        ,  1.        ]])"
      ]
     },
     "execution_count": 9,
     "metadata": {},
     "output_type": "execute_result"
    }
   ],
   "source": [
    "inv_d = np.linalg.inv(d)\n",
    "inv_d"
   ]
  },
  {
   "cell_type": "markdown",
   "metadata": {},
   "source": [
    "### Pregunta 3"
   ]
  },
  {
   "cell_type": "code",
   "execution_count": 10,
   "metadata": {},
   "outputs": [],
   "source": [
    "from scipy.linalg import lu, lu_solve, lu_factor\n",
    "\n",
    "A = np.array([\n",
    "    [1, -1, 2, -1],\n",
    "    [1,  0, -1, 1],\n",
    "    [2,  1, 3, -4],\n",
    "    [0, -1, 1, -1]\n",
    "])\n",
    "\n",
    "b1 = np.array([6, 4, -2, 5])\n",
    "b2 = np.array([1, 1, 2, -1])"
   ]
  },
  {
   "cell_type": "code",
   "execution_count": 11,
   "metadata": {},
   "outputs": [
    {
     "name": "stdout",
     "output_type": "stream",
     "text": [
      "Matriz L:\n",
      " [[ 1.          0.          0.          0.        ]\n",
      " [ 0.5         1.          0.          0.        ]\n",
      " [ 0.5         0.33333333  1.          0.        ]\n",
      " [ 0.          0.66666667 -0.25        1.        ]]\n",
      "Matriz U:\n",
      " [[ 2.          1.          3.         -4.        ]\n",
      " [ 0.         -1.5         0.5         1.        ]\n",
      " [ 0.          0.         -2.66666667  2.66666667]\n",
      " [ 0.          0.          0.         -1.        ]]\n"
     ]
    }
   ],
   "source": [
    "P, L, U = lu(A)\n",
    "\n",
    "print(\"Matriz L:\\n\", L)\n",
    "print(\"Matriz U:\\n\", U)"
   ]
  },
  {
   "cell_type": "code",
   "execution_count": 12,
   "metadata": {},
   "outputs": [
    {
     "name": "stdout",
     "output_type": "stream",
     "text": [
      "Solución del primer sistema:\n",
      " [ 3. -6. -2. -1.]\n",
      "Solución del segundo sistema:\n",
      " [1. 1. 1. 1.]\n"
     ]
    }
   ],
   "source": [
    "lu_piv = lu_factor(A)\n",
    "\n",
    "x1 = lu_solve(lu_piv, b1)\n",
    "\n",
    "x2 = lu_solve(lu_piv, b2)\n",
    "\n",
    "print(\"Solución del primer sistema:\\n\", x1)\n",
    "print(\"Solución del segundo sistema:\\n\", x2)"
   ]
  },
  {
   "cell_type": "markdown",
   "metadata": {},
   "source": [
    "### Pregunta 5"
   ]
  },
  {
   "cell_type": "code",
   "execution_count": 13,
   "metadata": {},
   "outputs": [],
   "source": [
    "A_a = np.array([\n",
    "    [1, 0, 0],\n",
    "    [2, 1, 0],\n",
    "    [-1, 0, 1]\n",
    "])\n",
    "\n",
    "U_a = np.array([\n",
    "    [2, 3, -1],\n",
    "    [0, -2, 1],\n",
    "    [0, 0, 3]\n",
    "])\n",
    "\n",
    "b_a = np.array([2, -1, 1])\n",
    "\n",
    "A_b = np.array([\n",
    "    [2, 0, 0],\n",
    "    [-1, 1, 0],\n",
    "    [3, 2, -1]\n",
    "])\n",
    "\n",
    "U_b = np.array([\n",
    "    [1, 1, 1],\n",
    "    [0, 1, 2],\n",
    "    [0, 0, 1]\n",
    "])\n",
    "\n",
    "b_b = np.array([-1, 3, 0])"
   ]
  },
  {
   "cell_type": "code",
   "execution_count": 14,
   "metadata": {},
   "outputs": [],
   "source": [
    "# Resolver el primer sistema L * y = b_a\n",
    "lu_piv_a = lu_factor(A_a)  # Factoriza L en A_a\n",
    "y_a = lu_solve(lu_piv_a, b_a)\n",
    "\n",
    "# Resolver el sistema U * x = y_a para encontrar x\n",
    "x_a = np.linalg.solve(U_a, y_a)\n",
    "\n",
    "# Resolver el segundo sistema L * y = b_b\n",
    "lu_piv_b = lu_factor(A_b)\n",
    "y_b = lu_solve(lu_piv_b, b_b)\n",
    "\n",
    "# Resolver el sistema U * x = y_b para encontrar x\n",
    "x_b = np.linalg.solve(U_b, y_b)"
   ]
  },
  {
   "cell_type": "code",
   "execution_count": 15,
   "metadata": {},
   "outputs": [
    {
     "name": "stdout",
     "output_type": "stream",
     "text": [
      "Solución del sistema a:\n",
      "[-3.  3.  1.]\n",
      "\n",
      "Solución del sistema b:\n",
      "[ 0.5 -4.5  3.5]\n"
     ]
    }
   ],
   "source": [
    "# Imprimir resultados\n",
    "print(\"Solución del sistema a:\")\n",
    "print(x_a)\n",
    "\n",
    "print(\"\\nSolución del sistema b:\")\n",
    "print(x_b)"
   ]
  },
  {
   "cell_type": "markdown",
   "metadata": {},
   "source": [
    "### Pregunta 6"
   ]
  },
  {
   "cell_type": "code",
   "execution_count": 16,
   "metadata": {},
   "outputs": [
    {
     "name": "stdout",
     "output_type": "stream",
     "text": [
      "Matriz L_a:\n",
      " [[1.  0.  0. ]\n",
      " [1.5 1.  0. ]\n",
      " [1.5 1.  1. ]]\n",
      "Matriz U_a:\n",
      " [[ 2.  -1.   1. ]\n",
      " [ 0.   4.5  7.5]\n",
      " [ 0.   0.  -4. ]]\n",
      "\n",
      "Matriz L_b:\n",
      " [[ 1.          0.          0.        ]\n",
      " [-2.10671937  1.          0.        ]\n",
      " [ 3.06719368  1.19775553  1.        ]]\n",
      "Matriz U_b:\n",
      " [[ 1.012      -2.132       3.104     ]\n",
      " [ 0.         -0.39552569 -0.47374308]\n",
      " [ 0.          0.         -8.93914077]]\n",
      "\n",
      "Matriz L_c:\n",
      " [[ 1.          0.          0.          0.        ]\n",
      " [ 0.5         1.          0.          0.        ]\n",
      " [ 0.         -2.          1.          0.        ]\n",
      " [ 1.         -1.33333333  2.          1.        ]]\n",
      "Matriz U_c:\n",
      " [[2.  0.  0.  0. ]\n",
      " [0.  1.5 0.  0. ]\n",
      " [0.  0.  0.5 0. ]\n",
      " [0.  0.  0.  1. ]]\n",
      "\n",
      "Matriz L_d:\n",
      " [[ 1.          0.          0.          0.        ]\n",
      " [-1.84919103  1.          0.          0.        ]\n",
      " [-0.45964332 -0.25012194  1.          0.        ]\n",
      " [ 2.76866152 -0.30794361 -5.35228302  1.        ]]\n",
      "Matriz U_d:\n",
      " [[ 2.1756      4.0231     -2.1732      5.1967    ]\n",
      " [ 0.         13.43948042 -4.01866194 10.80699101]\n",
      " [ 0.          0.         -0.89295239  5.09169403]\n",
      " [ 0.          0.          0.         12.03612803]]\n"
     ]
    }
   ],
   "source": [
    "\n",
    "def lu_decomposition(A):\n",
    "    n = A.shape[0]\n",
    "    L = np.zeros_like(A, dtype=np.float64)\n",
    "    U = np.zeros_like(A, dtype=np.float64)\n",
    "\n",
    "    for i in range(n):\n",
    "        # Set diagonal of L to 1\n",
    "        L[i, i] = 1.0\n",
    "\n",
    "        for j in range(i, n):\n",
    "            U[i, j] = A[i, j] - L[i, :i].dot(U[:i, j])\n",
    "\n",
    "        for j in range(i+1, n):\n",
    "            L[j, i] = (A[j, i] - L[j, :i].dot(U[:i, i])) / U[i, i]\n",
    "\n",
    "    return L, U\n",
    "\n",
    "# Definir las matrices\n",
    "A_a = np.array([\n",
    "    [2, -1, 1],\n",
    "    [3, 3, 9],\n",
    "    [3, 3, 5]\n",
    "])\n",
    "\n",
    "A_b = np.array([\n",
    "    [1.012, -2.132, 3.104],\n",
    "    [-2.132, 4.096, -7.013],\n",
    "    [3.104, -7.013, 0.014]\n",
    "])\n",
    "\n",
    "A_c = np.array([\n",
    "    [2, 0, 0, 0],\n",
    "    [1, 1.5, 0, 0],\n",
    "    [0, -3, 0.5, 0],\n",
    "    [2, -2, 1, 1]\n",
    "])\n",
    "\n",
    "A_d = np.array([\n",
    "    [2.1756, 4.0231, -2.1732, 5.1967],\n",
    "    [-4.0231, 6.0000, 0, 1.1973],\n",
    "    [-1.0000, -5.2107, 1.1111, 0],\n",
    "    [6.0235, 7.0000, 0, -4.1561]\n",
    "])\n",
    "\n",
    "# Factorización LU\n",
    "L_a, U_a = lu_decomposition(A_a)\n",
    "L_b, U_b = lu_decomposition(A_b)\n",
    "L_c, U_c = lu_decomposition(A_c)\n",
    "L_d, U_d = lu_decomposition(A_d)\n",
    "\n",
    "# Imprimir resultados\n",
    "print(\"Matriz L_a:\\n\", L_a)\n",
    "print(\"Matriz U_a:\\n\", U_a)\n",
    "print(\"\\nMatriz L_b:\\n\", L_b)\n",
    "print(\"Matriz U_b:\\n\", U_b)\n",
    "print(\"\\nMatriz L_c:\\n\", L_c)\n",
    "print(\"Matriz U_c:\\n\", U_c)\n",
    "print(\"\\nMatriz L_d:\\n\", L_d)\n",
    "print(\"Matriz U_d:\\n\", U_d)"
   ]
  },
  {
   "cell_type": "markdown",
   "metadata": {},
   "source": [
    "### Pregunta 7"
   ]
  },
  {
   "cell_type": "code",
   "execution_count": 21,
   "metadata": {},
   "outputs": [],
   "source": [
    "import numpy as np\n",
    "\n",
    "def eliminacion_gaussiana_con_lu(A, b):\n",
    "    \"\"\"\n",
    "    Realiza la eliminación gaussiana con descomposición LU para resolver un sistema de ecuaciones lineales.\n",
    "\n",
    "    Args:\n",
    "        A: Matriz de coeficientes (numpy.ndarray).\n",
    "        b: Vector de términos independientes (numpy.ndarray).\n",
    "\n",
    "    Returns:\n",
    "        Vector solución (numpy.ndarray).\n",
    "    \"\"\"\n",
    "    n = len(A)\n",
    "    L = np.eye(n, dtype=np.float64)\n",
    "    U = A.astype(np.float64)  # Asegurarse de que U sea float64\n",
    "\n",
    "    # Realizar la descomposición LU\n",
    "    for i in range(n):\n",
    "        # Encontrar el pivote y realizar la eliminación\n",
    "        for j in range(i+1, n):\n",
    "            factor = U[j, i] / U[i, i]\n",
    "            U[j, i:] -= factor * U[i, i:]\n",
    "            L[j, i] = factor\n",
    "\n",
    "    # Sustitución hacia adelante para resolver L * y = b\n",
    "    y = np.zeros_like(b, dtype=np.float64)\n",
    "    for i in range(n):\n",
    "        y[i] = b[i] - np.dot(L[i, :i], y[:i])\n",
    "\n",
    "    # Sustitución hacia atrás para resolver U * x = y\n",
    "    x = np.zeros_like(y, dtype=np.float64)\n",
    "    for i in range(n-1, -1, -1):\n",
    "        x[i] = (y[i] - np.dot(U[i, i+1:], x[i+1:])) / U[i, i]\n",
    "\n",
    "    return x"
   ]
  },
  {
   "cell_type": "code",
   "execution_count": 22,
   "metadata": {},
   "outputs": [],
   "source": [
    "# Sistema a\n",
    "A_a = np.array([\n",
    "    [2, -1, 1],\n",
    "    [3, 3, 9],\n",
    "    [3, 3, 5]\n",
    "])\n",
    "b_a = np.array([-1, 0, 4])\n",
    "\n",
    "# Sistema b\n",
    "A_b = np.array([\n",
    "    [1.012, -2.132, 3.104],\n",
    "    [-2.132, 4.096, -7.013],\n",
    "    [3.104, -7.013, 0.014]\n",
    "])\n",
    "b_b = np.array([1.984, -5.049, -3.895])\n",
    "\n",
    "# Sistema c\n",
    "A_c = np.array([\n",
    "    [2, 0, 0, 0],\n",
    "    [1, 1.5, 0, 0],\n",
    "    [0, -3, 0.5, 0],\n",
    "    [2, -2, 1, 1]\n",
    "])\n",
    "b_c = np.array([3, 4.5, -6.6, 0.8])\n",
    "\n",
    "# Sistema d\n",
    "A_d = np.array([\n",
    "    [2.1756, 4.0231, -2.1732, 5.1967],\n",
    "    [-4.0231, 6.0000, 0, 1.1973],\n",
    "    [-1.0000, -5.2107, 1.1111, 0],\n",
    "    [6.0235, 7.0000, 0, -4.1561]\n",
    "])\n",
    "b_d = np.array([17.102, -6.1593, 3.0004, 0])"
   ]
  },
  {
   "cell_type": "code",
   "execution_count": 23,
   "metadata": {},
   "outputs": [
    {
     "name": "stdout",
     "output_type": "stream",
     "text": [
      "Solución del sistema a: [ 1.  2. -1.]\n",
      "\n",
      "Solución del sistema b: [1. 1. 1.]\n",
      "\n",
      "Solución del sistema c: [ 1.5  2.  -1.2  3. ]\n",
      "\n",
      "Solución del sistema d: [2.9398512  0.0706777  5.67773512 4.37981223]\n"
     ]
    }
   ],
   "source": [
    "x_a = eliminacion_gaussiana_con_lu(A_a, b_a)\n",
    "x_b = eliminacion_gaussiana_con_lu(A_b, b_b)\n",
    "x_c = eliminacion_gaussiana_con_lu(A_c, b_c)\n",
    "x_d = eliminacion_gaussiana_con_lu(A_d, b_d)\n",
    "\n",
    "\n",
    "print(\"Solución del sistema a:\",x_a)\n",
    "print(\"\\nSolución del sistema b:\",x_b)\n",
    "print(\"\\nSolución del sistema c:\",x_c)\n",
    "print(\"\\nSolución del sistema d:\",x_d)"
   ]
  }
 ],
 "metadata": {
  "kernelspec": {
   "display_name": "Python 3",
   "language": "python",
   "name": "python3"
  },
  "language_info": {
   "codemirror_mode": {
    "name": "ipython",
    "version": 3
   },
   "file_extension": ".py",
   "mimetype": "text/x-python",
   "name": "python",
   "nbconvert_exporter": "python",
   "pygments_lexer": "ipython3",
   "version": "3.12.3"
  }
 },
 "nbformat": 4,
 "nbformat_minor": 2
}

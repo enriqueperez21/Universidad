{
 "cells": [
  {
   "cell_type": "markdown",
   "metadata": {},
   "source": [
    "# Métodos numéricos Tarea 11"
   ]
  },
  {
   "cell_type": "markdown",
   "metadata": {},
   "source": [
    "### Pregunta 1"
   ]
  },
  {
   "cell_type": "code",
   "execution_count": 1,
   "metadata": {},
   "outputs": [],
   "source": [
    "%load_ext autoreload"
   ]
  },
  {
   "cell_type": "code",
   "execution_count": 2,
   "metadata": {},
   "outputs": [
    {
     "name": "stdout",
     "output_type": "stream",
     "text": [
      "[08-14 01:58:30][INFO] 2024-08-14 01:58:30.919715\n"
     ]
    }
   ],
   "source": [
    "%autoreload 2\n",
    "import numpy as np\n",
    "from src import gauss_jacobi, gauss_seidel\n",
    "\n",
    "A_a = np.array([\n",
    "    [3, -1, 1],\n",
    "    [3, 6, 2],\n",
    "    [3, 3, 7]\n",
    "])\n",
    "\n",
    "b_a = np.array([1, 0, 4])\n",
    "\n",
    "A_b = np.array([\n",
    "    [10, -1, 0],\n",
    "    [-1, 10, -2],\n",
    "    [0, -2, 10]\n",
    "])\n",
    "\n",
    "b_b = np.array([9, 7, 6])\n",
    "\n",
    "A_c = np.array([\n",
    "    [10, 5, 0, 0],\n",
    "    [5, 10, -4, 0],\n",
    "    [0, -4, 8, -1],\n",
    "    [0, 0, -1, 5]\n",
    "])\n",
    "\n",
    "b_c = np.array([6, 25, -11, -11])\n",
    "\n",
    "A_d = np.array([\n",
    "    [4, 1, 1, 0, 1],\n",
    "    [-1, -3, 1, 1, 0],\n",
    "    [2, 1, 5, -1, -1],\n",
    "    [-1, 0, -1, 4, 0],\n",
    "    [0, 2, -1, 1, 4]\n",
    "])\n",
    "\n",
    "b_d = np.array([6, 6, 6, 6, 6])\n"
   ]
  },
  {
   "cell_type": "code",
   "execution_count": 3,
   "metadata": {},
   "outputs": [
    {
     "name": "stdout",
     "output_type": "stream",
     "text": [
      "[array([0., 0., 0.]), array([[0.33333333],\n",
      "       [0.        ],\n",
      "       [0.57142857]])]\n"
     ]
    }
   ],
   "source": [
    "# Condiciones iniciales\n",
    "x0 = np.zeros_like(b_a, dtype=float)\n",
    "\n",
    "# Realizar las primeras dos iteraciones usando Jacobi\n",
    "x_jacobi, tray_jacobi = gauss_jacobi(A=A_a, b=b_a, x0=x0, tol=1e-5, max_iter=2)\n",
    "\n",
    "print(tray_jacobi)"
   ]
  },
  {
   "cell_type": "code",
   "execution_count": 4,
   "metadata": {},
   "outputs": [
    {
     "name": "stdout",
     "output_type": "stream",
     "text": [
      "[array([0., 0., 0.]), array([[0.9],\n",
      "       [0.7],\n",
      "       [0.6]])]\n"
     ]
    }
   ],
   "source": [
    "# Condiciones iniciales\n",
    "x0 = np.zeros_like(b_b, dtype=float)\n",
    "\n",
    "# Realizar las primeras dos iteraciones usando Jacobi\n",
    "x_jacobi, tray_jacobi = gauss_jacobi(A=A_b, b=b_b, x0=x0, tol=1e-5, max_iter=2)\n",
    "\n",
    "print(tray_jacobi)"
   ]
  },
  {
   "cell_type": "code",
   "execution_count": 5,
   "metadata": {},
   "outputs": [
    {
     "name": "stdout",
     "output_type": "stream",
     "text": [
      "[array([0., 0., 0., 0.]), array([[ 0.6  ],\n",
      "       [ 2.5  ],\n",
      "       [-1.375],\n",
      "       [-2.2  ]])]\n"
     ]
    }
   ],
   "source": [
    "# Condiciones iniciales\n",
    "x0 = np.zeros_like(b_c, dtype=float)\n",
    "\n",
    "# Realizar las primeras dos iteraciones usando Jacobi\n",
    "x_jacobi, tray_jacobi = gauss_jacobi(A=A_c, b=b_c, x0=x0, tol=1e-5, max_iter=2)\n",
    "\n",
    "print(tray_jacobi)"
   ]
  },
  {
   "cell_type": "code",
   "execution_count": 6,
   "metadata": {},
   "outputs": [
    {
     "name": "stdout",
     "output_type": "stream",
     "text": [
      "[array([0., 0., 0., 0., 0.]), array([[ 1.5],\n",
      "       [-2. ],\n",
      "       [ 1.2],\n",
      "       [ 1.5],\n",
      "       [ 1.5]])]\n"
     ]
    }
   ],
   "source": [
    "# Condiciones iniciales\n",
    "x0 = np.zeros_like(b_d, dtype=float)\n",
    "\n",
    "# Realizar las primeras dos iteraciones usando Jacobi\n",
    "x_jacobi, tray_jacobi = gauss_jacobi(A=A_d, b=b_d, x0=x0, tol=1e-5, max_iter=2)\n",
    "\n",
    "print(tray_jacobi)"
   ]
  },
  {
   "cell_type": "markdown",
   "metadata": {},
   "source": [
    "### Pregunta 2"
   ]
  },
  {
   "cell_type": "code",
   "execution_count": 7,
   "metadata": {},
   "outputs": [
    {
     "name": "stdout",
     "output_type": "stream",
     "text": [
      "[array([0., 0., 0.]), array([[ 0.33333333],\n",
      "       [-0.16666667],\n",
      "       [ 0.5       ]])]\n"
     ]
    }
   ],
   "source": [
    "# A\n",
    "x0 = np.zeros_like(b_a, dtype=float)\n",
    "x_seidel, tray_seidel = gauss_seidel(A=A_a, b=b_a, x0=x0, tol=1e-5, max_iter=2)\n",
    "print(tray_seidel)"
   ]
  },
  {
   "cell_type": "code",
   "execution_count": 8,
   "metadata": {},
   "outputs": [
    {
     "name": "stdout",
     "output_type": "stream",
     "text": [
      "[array([0., 0., 0.]), array([[0.9  ],\n",
      "       [0.79 ],\n",
      "       [0.758]])]\n"
     ]
    }
   ],
   "source": [
    "# B\n",
    "x0 = np.zeros_like(b_b, dtype=float)\n",
    "x_seidel, tray_seidel = gauss_seidel(A=A_b, b=b_b, x0=x0, tol=1e-5, max_iter=2)\n",
    "print(tray_seidel)"
   ]
  },
  {
   "cell_type": "code",
   "execution_count": 9,
   "metadata": {},
   "outputs": [
    {
     "name": "stdout",
     "output_type": "stream",
     "text": [
      "[array([0., 0., 0., 0.]), array([[ 0.6  ],\n",
      "       [ 2.2  ],\n",
      "       [-0.275],\n",
      "       [-2.255]])]\n"
     ]
    }
   ],
   "source": [
    "# C\n",
    "x0 = np.zeros_like(b_c, dtype=float)\n",
    "x_seidel, tray_seidel = gauss_seidel(A=A_c, b=b_c, x0=x0, tol=1e-5, max_iter=2)\n",
    "print(tray_seidel)"
   ]
  },
  {
   "cell_type": "code",
   "execution_count": 10,
   "metadata": {},
   "outputs": [
    {
     "name": "stdout",
     "output_type": "stream",
     "text": [
      "[array([0., 0., 0., 0., 0.]), array([[ 1.5   ],\n",
      "       [-2.5   ],\n",
      "       [ 1.1   ],\n",
      "       [ 2.15  ],\n",
      "       [ 2.4875]])]\n"
     ]
    }
   ],
   "source": [
    "# D\n",
    "x0 = np.zeros_like(b_d, dtype=float)\n",
    "x_seidel, tray_seidel = gauss_seidel(A=A_d, b=b_d, x0=x0, tol=1e-5, max_iter=2)\n",
    "print(tray_seidel)"
   ]
  },
  {
   "cell_type": "markdown",
   "metadata": {},
   "source": [
    "### Pregunta 3"
   ]
  },
  {
   "cell_type": "code",
   "execution_count": 11,
   "metadata": {},
   "outputs": [
    {
     "name": "stdout",
     "output_type": "stream",
     "text": [
      "[array([0., 0., 0.]), array([[0.33333333],\n",
      "       [0.        ],\n",
      "       [0.57142857]])]\n"
     ]
    }
   ],
   "source": [
    "# Condiciones iniciales\n",
    "x0 = np.zeros_like(b_a, dtype=float)\n",
    "x_jacobi, tray_jacobi = gauss_jacobi(A=A_a, b=b_a, x0=x0, tol=1e-3, max_iter=2)\n",
    "print(tray_jacobi)"
   ]
  },
  {
   "cell_type": "code",
   "execution_count": 12,
   "metadata": {},
   "outputs": [
    {
     "name": "stdout",
     "output_type": "stream",
     "text": [
      "[array([0., 0., 0.]), array([[0.9],\n",
      "       [0.7],\n",
      "       [0.6]])]\n"
     ]
    }
   ],
   "source": [
    "# Condiciones iniciales\n",
    "x0 = np.zeros_like(b_b, dtype=float)\n",
    "x_jacobi, tray_jacobi = gauss_jacobi(A=A_b, b=b_b, x0=x0, tol=1e-3, max_iter=2)\n",
    "print(tray_jacobi)"
   ]
  },
  {
   "cell_type": "code",
   "execution_count": 13,
   "metadata": {},
   "outputs": [
    {
     "name": "stdout",
     "output_type": "stream",
     "text": [
      "[array([0., 0., 0., 0.]), array([[ 0.6  ],\n",
      "       [ 2.5  ],\n",
      "       [-1.375],\n",
      "       [-2.2  ]])]\n"
     ]
    }
   ],
   "source": [
    "# Condiciones iniciales\n",
    "x0 = np.zeros_like(b_c, dtype=float)\n",
    "x_jacobi, tray_jacobi = gauss_jacobi(A=A_c, b=b_c, x0=x0, tol=1e-3, max_iter=2)\n",
    "print(tray_jacobi)"
   ]
  },
  {
   "cell_type": "code",
   "execution_count": 14,
   "metadata": {},
   "outputs": [
    {
     "name": "stdout",
     "output_type": "stream",
     "text": [
      "[array([0., 0., 0., 0., 0.]), array([[ 1.5],\n",
      "       [-2. ],\n",
      "       [ 1.2],\n",
      "       [ 1.5],\n",
      "       [ 1.5]])]\n"
     ]
    }
   ],
   "source": [
    "# Condiciones iniciales\n",
    "x0 = np.zeros_like(b_d, dtype=float)\n",
    "x_jacobi, tray_jacobi = gauss_jacobi(A=A_d, b=b_d, x0=x0, tol=1e-3, max_iter=2)\n",
    "print(tray_jacobi)"
   ]
  },
  {
   "cell_type": "markdown",
   "metadata": {},
   "source": [
    "### Pregunta 4"
   ]
  },
  {
   "cell_type": "code",
   "execution_count": 15,
   "metadata": {},
   "outputs": [
    {
     "name": "stdout",
     "output_type": "stream",
     "text": [
      "[array([0., 0., 0.]), array([[ 0.33333333],\n",
      "       [-0.16666667],\n",
      "       [ 0.5       ]])]\n"
     ]
    }
   ],
   "source": [
    "# A\n",
    "x0 = np.zeros_like(b_a, dtype=float)\n",
    "x_seidel, tray_seidel = gauss_seidel(A=A_a, b=b_a, x0=x0, tol=1e-3, max_iter=2)\n",
    "print(tray_seidel)"
   ]
  },
  {
   "cell_type": "code",
   "execution_count": 16,
   "metadata": {},
   "outputs": [
    {
     "name": "stdout",
     "output_type": "stream",
     "text": [
      "[array([0., 0., 0.]), array([[0.9  ],\n",
      "       [0.79 ],\n",
      "       [0.758]])]\n"
     ]
    }
   ],
   "source": [
    "# B\n",
    "x0 = np.zeros_like(b_b, dtype=float)\n",
    "x_seidel, tray_seidel = gauss_seidel(A=A_b, b=b_b, x0=x0, tol=1e-3, max_iter=2)\n",
    "print(tray_seidel)"
   ]
  },
  {
   "cell_type": "code",
   "execution_count": 17,
   "metadata": {},
   "outputs": [
    {
     "name": "stdout",
     "output_type": "stream",
     "text": [
      "[array([0., 0., 0., 0.]), array([[ 0.6  ],\n",
      "       [ 2.2  ],\n",
      "       [-0.275],\n",
      "       [-2.255]])]\n"
     ]
    }
   ],
   "source": [
    "# C\n",
    "x0 = np.zeros_like(b_c, dtype=float)\n",
    "x_seidel, tray_seidel = gauss_seidel(A=A_c, b=b_c, x0=x0, tol=1e-3, max_iter=2)\n",
    "print(tray_seidel)"
   ]
  },
  {
   "cell_type": "code",
   "execution_count": 18,
   "metadata": {},
   "outputs": [
    {
     "name": "stdout",
     "output_type": "stream",
     "text": [
      "[array([0., 0., 0., 0., 0.]), array([[ 1.5   ],\n",
      "       [-2.5   ],\n",
      "       [ 1.1   ],\n",
      "       [ 2.15  ],\n",
      "       [ 2.4875]])]\n"
     ]
    }
   ],
   "source": [
    "# D\n",
    "x0 = np.zeros_like(b_d, dtype=float)\n",
    "x_seidel, tray_seidel = gauss_seidel(A=A_d, b=b_d, x0=x0, tol=1e-3, max_iter=2)\n",
    "print(tray_seidel)"
   ]
  },
  {
   "cell_type": "markdown",
   "metadata": {},
   "source": [
    "### Pregunta 5"
   ]
  },
  {
   "cell_type": "code",
   "execution_count": 19,
   "metadata": {},
   "outputs": [],
   "source": [
    "A = np.array([\n",
    "    [2, -1, 1],\n",
    "    [2, 2, 2],\n",
    "    [-1, -1, 2]\n",
    "])\n",
    "\n",
    "b = np.array([-1, 4, -5])"
   ]
  },
  {
   "cell_type": "code",
   "execution_count": 20,
   "metadata": {},
   "outputs": [
    {
     "name": "stdout",
     "output_type": "stream",
     "text": [
      "[[ -7.73114914]\n",
      " [-32.92459655]\n",
      " [  7.73114914]]\n"
     ]
    }
   ],
   "source": [
    "# Literal A\n",
    "x0 = np.zeros_like(b, dtype=float)\n",
    "x_jacobi, tray_jacobi = gauss_jacobi(A=A, b=b, x0=x0, tol=1e-5, max_iter=25)\n",
    "print(tray_jacobi[24])"
   ]
  },
  {
   "cell_type": "code",
   "execution_count": 21,
   "metadata": {},
   "outputs": [
    {
     "name": "stdout",
     "output_type": "stream",
     "text": [
      "[[ 0.99999571]\n",
      " [ 2.00000477]\n",
      " [-0.99999976]] 23\n"
     ]
    }
   ],
   "source": [
    "# Literal B\n",
    "x0 = np.zeros_like(b, dtype=float)\n",
    "x_seidel, tray_seidel = gauss_seidel(A=A, b=b, x0=x0, tol=1e-5, max_iter=40)\n",
    "print(tray_seidel[len(tray_seidel)-1], len(tray_seidel))"
   ]
  },
  {
   "cell_type": "markdown",
   "metadata": {},
   "source": [
    "### Pregunta 6"
   ]
  },
  {
   "cell_type": "code",
   "execution_count": 22,
   "metadata": {},
   "outputs": [],
   "source": [
    "A = np.array([\n",
    "    [1, 0, -1],\n",
    "    [-0.5, 1, -0.25],\n",
    "    [1, -0.5, 1]\n",
    "])\n",
    "\n",
    "b = np.array([0.2, -1.425, 2])"
   ]
  },
  {
   "cell_type": "markdown",
   "metadata": {},
   "source": [
    "**Literal a)**</br>\n",
    "\n",
    "Verificamos si para cada fila, el valor absoluto del elemento de la diagonal es mayor que la suma de los valores absolutos de los otros elementos en esa fila:\n",
    "\n",
    "Primer  fila |1| >    |0| +    |1| -> 1 > 1    -> No es dominante </br>\n",
    "Segunda fila |1| > |-1/2| + |-1/4| -> 1 > 0.75 -> Es dominante    </br>\n",
    "Tercera fila |1| >    |1| + |-1/2| -> 1 > 1.5  -> No es dominante </br>"
   ]
  },
  {
   "cell_type": "code",
   "execution_count": 26,
   "metadata": {},
   "outputs": [
    {
     "name": "stdout",
     "output_type": "stream",
     "text": [
      "[[ 0.9]\n",
      " [-0.8]\n",
      " [ 0.7]] 300\n"
     ]
    }
   ],
   "source": [
    "# Literal B\n",
    "x0 = np.zeros_like(b, dtype=float)\n",
    "x_seidel, tray_seidel = gauss_seidel(A=A, b=b, x0=x0, tol=1e-22, max_iter=300)\n",
    "print(tray_seidel[len(tray_seidel)-1], len(tray_seidel))"
   ]
  },
  {
   "cell_type": "code",
   "execution_count": 27,
   "metadata": {},
   "outputs": [],
   "source": [
    "# Literal C\n",
    "A = np.array([\n",
    "    [1, 0, -2],\n",
    "    [-0.5, 1, -0.25],\n",
    "    [1, -0.5, 1]\n",
    "])\n",
    "\n",
    "b = np.array([0.2, -1.425, 2])"
   ]
  },
  {
   "cell_type": "code",
   "execution_count": 34,
   "metadata": {},
   "outputs": [
    {
     "name": "stdout",
     "output_type": "stream",
     "text": [
      "[[-1.56863478e+41]\n",
      " [-9.80396739e+40]\n",
      " [ 1.07843641e+41]] 300\n"
     ]
    }
   ],
   "source": [
    "x0 = np.zeros_like(b, dtype=float)\n",
    "x_seidel, tray_seidel = gauss_seidel(A=A, b=b, x0=x0, tol=1e-22, max_iter=300)\n",
    "print(tray_seidel[len(tray_seidel)-1], len(tray_seidel))"
   ]
  },
  {
   "cell_type": "markdown",
   "metadata": {},
   "source": [
    "### Pregunta 7"
   ]
  },
  {
   "cell_type": "code",
   "execution_count": 29,
   "metadata": {},
   "outputs": [],
   "source": [
    "A = np.array([\n",
    "    [1, 0, -1],\n",
    "    [-0.5, 1, -0.25],\n",
    "    [1, -0.5, 1]\n",
    "])\n",
    "\n",
    "b = np.array([0.2, -1.425, 2])"
   ]
  },
  {
   "cell_type": "code",
   "execution_count": 30,
   "metadata": {},
   "outputs": [
    {
     "name": "stdout",
     "output_type": "stream",
     "text": [
      "[[ 0.89979164]\n",
      " [-0.80015806]\n",
      " [ 0.70025541]] 300\n"
     ]
    }
   ],
   "source": [
    "# Literal B\n",
    "x0 = np.zeros_like(b, dtype=float)\n",
    "x_seidel, tray_seidel = gauss_jacobi(A=A, b=b, x0=x0, tol=1e-22, max_iter=300)\n",
    "print(tray_seidel[len(tray_seidel)-1], len(tray_seidel))"
   ]
  },
  {
   "cell_type": "code",
   "execution_count": 31,
   "metadata": {},
   "outputs": [],
   "source": [
    "# Literal C\n",
    "A = np.array([\n",
    "    [1, 0, -2],\n",
    "    [-0.5, 1, -0.25],\n",
    "    [1, -0.5, 1]\n",
    "])\n",
    "\n",
    "b = np.array([0.2, -1.425, 2])"
   ]
  },
  {
   "cell_type": "code",
   "execution_count": 32,
   "metadata": {},
   "outputs": [
    {
     "name": "stdout",
     "output_type": "stream",
     "text": [
      "[[-1.79225360e+43]\n",
      " [-4.51500391e+42]\n",
      " [ 6.72394565e+42]] 300\n"
     ]
    }
   ],
   "source": [
    "x0 = np.zeros_like(b, dtype=float)\n",
    "x_seidel, tray_seidel = gauss_jacobi(A=A, b=b, x0=x0, tol=1e-22, max_iter=300)\n",
    "print(tray_seidel[len(tray_seidel)-1], len(tray_seidel))"
   ]
  },
  {
   "cell_type": "markdown",
   "metadata": {},
   "source": [
    "### Pregunta 8"
   ]
  },
  {
   "cell_type": "code",
   "execution_count": 35,
   "metadata": {},
   "outputs": [],
   "source": [
    "# Matriz de coeficientes A\n",
    "A = np.array([\n",
    "    [4, -1, 0, 0, -1, 0, 0, 0, 0, 0, 0, 0],\n",
    "    [-1, 4, -1, 0, 0, -1, 0, 0, 0, 0, 0, 0],\n",
    "    [0, -1, 4, -1, 0, 0, -1, 0, 0, 0, 0, 0],\n",
    "    [0, 0, -1, 4, 0, 0, 0, -1, 0, 0, 0, 0],\n",
    "    [-1, 0, 0, 0, 4, -1, 0, 0, -1, 0, 0, 0],\n",
    "    [0, -1, 0, 0, -1, 4, -1, 0, 0, -1, 0, 0],\n",
    "    [0, 0, -1, 0, 0, -1, 4, -1, 0, 0, -1, 0],\n",
    "    [0, 0, 0, -1, 0, 0, -1, 4, 0, 0, 0, -1],\n",
    "    [0, 0, 0, 0, -1, 0, 0, 0, 4, -1, 0, 0],\n",
    "    [0, 0, 0, 0, 0, -1, 0, 0, -1, 4, -1, 0],\n",
    "    [0, 0, 0, 0, 0, 0, -1, 0, 0, -1, 4, -1],\n",
    "    [0, 0, 0, 0, 0, 0, 0, -1, 0, 0, -1, 4]\n",
    "])\n",
    "\n",
    "# Vector de términos independientes b\n",
    "b = np.array([220, 110, 110, 220, 110, 110, 110, 110, 220, 110, 110, 220])"
   ]
  },
  {
   "cell_type": "code",
   "execution_count": 36,
   "metadata": {},
   "outputs": [
    {
     "name": "stdout",
     "output_type": "stream",
     "text": [
      "[[120.81717779]\n",
      " [133.19430534]\n",
      " [133.19430534]\n",
      " [120.81717779]\n",
      " [130.10139887]\n",
      " [168.80941421]\n",
      " [168.80941421]\n",
      " [130.10139887]\n",
      " [120.81717779]\n",
      " [133.19430534]\n",
      " [133.19430534]\n",
      " [120.81717779]] 30\n"
     ]
    }
   ],
   "source": [
    "# Literal B\n",
    "x0 = np.zeros_like(b, dtype=float)\n",
    "x_seidel, tray_seidel = gauss_jacobi(A=A, b=b, x0=x0, tol=1e-2, max_iter=30)\n",
    "print(tray_seidel[len(tray_seidel)-1], len(tray_seidel))"
   ]
  },
  {
   "cell_type": "code",
   "execution_count": 37,
   "metadata": {},
   "outputs": [
    {
     "name": "stdout",
     "output_type": "stream",
     "text": [
      "[[120.83943397]\n",
      " [133.23252312]\n",
      " [133.23419576]\n",
      " [120.84261504]\n",
      " [130.13480245]\n",
      " [168.86582774]\n",
      " [168.86762091]\n",
      " [130.13821275]\n",
      " [120.84183139]\n",
      " [133.23546372]\n",
      " [133.23642492]\n",
      " [120.84365942]] 20\n"
     ]
    }
   ],
   "source": [
    "# Literal C\n",
    "x0 = np.zeros_like(b, dtype=float)\n",
    "x_seidel, tray_seidel = gauss_seidel(A=A, b=b, x0=x0, tol=1e-2, max_iter=30)\n",
    "print(tray_seidel[len(tray_seidel)-1], len(tray_seidel))"
   ]
  },
  {
   "cell_type": "code",
   "execution_count": null,
   "metadata": {},
   "outputs": [],
   "source": [
    "120.83943397, 133.23252312, 133.23419576, 120.84261504, 130.13480245, 168.86582774, 168.86762091, 130.13821275, 120.84183139, 133.23546372, 133.23642492, 120.84365942,"
   ]
  }
 ],
 "metadata": {
  "kernelspec": {
   "display_name": "Python 3",
   "language": "python",
   "name": "python3"
  },
  "language_info": {
   "codemirror_mode": {
    "name": "ipython",
    "version": 3
   },
   "file_extension": ".py",
   "mimetype": "text/x-python",
   "name": "python",
   "nbconvert_exporter": "python",
   "pygments_lexer": "ipython3",
   "version": "3.12.3"
  }
 },
 "nbformat": 4,
 "nbformat_minor": 2
}

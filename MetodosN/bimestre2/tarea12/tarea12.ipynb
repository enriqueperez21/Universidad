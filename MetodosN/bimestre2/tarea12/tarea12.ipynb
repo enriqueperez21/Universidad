{
 "cells": [
  {
   "cell_type": "markdown",
   "metadata": {},
   "source": [
    "# Métodos Numéricos Deber 12"
   ]
  },
  {
   "cell_type": "code",
   "execution_count": 1,
   "metadata": {},
   "outputs": [],
   "source": [
    "%load_ext autoreload"
   ]
  },
  {
   "cell_type": "code",
   "execution_count": 27,
   "metadata": {},
   "outputs": [],
   "source": [
    "%autoreload 2\n",
    "from src import ODE_euler, ODE_euler_nth\n",
    "from math import exp,cos, sin, log, tan\n",
    "import numpy as np"
   ]
  },
  {
   "cell_type": "markdown",
   "metadata": {},
   "source": [
    "## Pregunta 1"
   ]
  },
  {
   "cell_type": "code",
   "execution_count": 3,
   "metadata": {},
   "outputs": [
    {
     "data": {
      "text/plain": [
       "1.1204222675845161"
      ]
     },
     "execution_count": 3,
     "metadata": {},
     "output_type": "execute_result"
    }
   ],
   "source": [
    "# Literal A)\n",
    "f = lambda t, y: t * exp(3 * t) - 2 * y\n",
    "y_t0 = 0\n",
    "\n",
    "a = 0\n",
    "b = 1\n",
    "\n",
    "h = 0.5\n",
    "N = int((b - a) / h)\n",
    "ys_a,ts_a, h = ODE_euler(a=a, b=b, y_t0=y_t0, f=f, N=N)\n",
    "ys_a[len(ys_a)-1]"
   ]
  },
  {
   "cell_type": "code",
   "execution_count": 4,
   "metadata": {},
   "outputs": [
    {
     "data": {
      "text/plain": [
       "2.625"
      ]
     },
     "execution_count": 4,
     "metadata": {},
     "output_type": "execute_result"
    }
   ],
   "source": [
    "# Literal B)\n",
    "f = lambda t, y: 1 + (t - y)**2\n",
    "y_t0 = 1\n",
    "\n",
    "a = 2\n",
    "b = 3\n",
    "\n",
    "h = 0.5\n",
    "N = int((b - a) / h)\n",
    "ys_b,ts_b, h_b = ODE_euler(a=a, b=b, y_t0=y_t0, f=f, N=N)\n",
    "ys_b[len(ys_b)-1]"
   ]
  },
  {
   "cell_type": "code",
   "execution_count": 5,
   "metadata": {},
   "outputs": [
    {
     "data": {
      "text/plain": [
       "5.269047619047619"
      ]
     },
     "execution_count": 5,
     "metadata": {},
     "output_type": "execute_result"
    }
   ],
   "source": [
    "# Literal C)\n",
    "f = lambda t, y: 1 + y / t\n",
    "\n",
    "y_t0 = 2\n",
    "a = 1\n",
    "b = 2\n",
    "\n",
    "h = 0.25\n",
    "N = int((b - a) / h)\n",
    "ys_c,ts_c, h_c = ODE_euler(a=a, b=b, y_t0=y_t0, f=f, N=N)\n",
    "ys_c[len(ys_c)-1]"
   ]
  },
  {
   "cell_type": "code",
   "execution_count": 6,
   "metadata": {},
   "outputs": [
    {
     "data": {
      "text/plain": [
       "2.2364572532353817"
      ]
     },
     "execution_count": 6,
     "metadata": {},
     "output_type": "execute_result"
    }
   ],
   "source": [
    "#Literal D)\n",
    "f = lambda t, y: cos(2 * t) + sin(3 * t)\n",
    "\n",
    "y_t0 = 1\n",
    "a = 0\n",
    "b = 1\n",
    "\n",
    "h = 0.25\n",
    "N = int((b - a) / h)\n",
    "ys_d,ts_d, h_d = ODE_euler(a=a, b=b, y_t0=y_t0, f=f, N=N)\n",
    "ys_d[len(ys_d)-1]"
   ]
  },
  {
   "cell_type": "markdown",
   "metadata": {},
   "source": [
    "## Pregunta 2"
   ]
  },
  {
   "cell_type": "code",
   "execution_count": 7,
   "metadata": {},
   "outputs": [],
   "source": [
    "def error(real, pred):\n",
    "    return abs(real-pred)"
   ]
  },
  {
   "cell_type": "code",
   "execution_count": 8,
   "metadata": {},
   "outputs": [
    {
     "name": "stdout",
     "output_type": "stream",
     "text": [
      "Real:\t\t[0.0, 0.2836165218671416, 3.2190993190394916],\n",
      "Aproximado\t[0, 0.0, 1.1204222675845161],\n",
      "Error\t\t[0.0, 0.2836165218671416, 2.0986770514549757]\n"
     ]
    }
   ],
   "source": [
    "# Solución real\n",
    "def y_real_a(t):\n",
    "    return (1/5) * t * exp(3*t) - (1/25) * exp(3*t) + (1/25) * exp(-2*t)\n",
    "\n",
    "yr_a = [y_real_a(ts_ai) for ts_ai in ts_a ]\n",
    "error_a = [error(y_real, y_pred) for y_real, y_pred in zip(yr_a, ys_a)]\n",
    "print(f\"Real:\\t\\t{yr_a},\\nAproximado\\t{ys_a},\\nError\\t\\t{error_a}\")"
   ]
  },
  {
   "cell_type": "code",
   "execution_count": 9,
   "metadata": {},
   "outputs": [
    {
     "name": "stdout",
     "output_type": "stream",
     "text": [
      "Real:\t\t[1.0, 1.8333333333333335, 2.5],\n",
      "Aproximado\t[1, 2.0, 2.625],\n",
      "Error\t\t[0.0, 0.16666666666666652, 0.125]\n"
     ]
    }
   ],
   "source": [
    "# Solución real B\n",
    "def y_real_b(t):\n",
    "    return t + 1 / (1 - t)\n",
    "\n",
    "yr_b = [y_real_b(ts_bi) for ts_bi in ts_b ]\n",
    "error_b = [error(y_real, y_pred) for y_real, y_pred in zip(yr_b, ys_b)]\n",
    "print(f\"Real:\\t\\t{yr_b},\\nAproximado\\t{ys_b},\\nError\\t\\t{error_b}\")\n"
   ]
  },
  {
   "cell_type": "code",
   "execution_count": 10,
   "metadata": {},
   "outputs": [
    {
     "name": "stdout",
     "output_type": "stream",
     "text": [
      "Real:\t\t[2.0, 2.7789294391427624, 3.6081976621622465, 4.47932762888699, 5.386294361119891],\n",
      "Aproximado\t[2, 2.75, 3.55, 4.391666666666667, 5.269047619047619],\n",
      "Error\t\t[0.0, 0.02892943914276236, 0.058197662162246644, 0.08766096222032349, 0.11724674207227181]\n"
     ]
    }
   ],
   "source": [
    "# Solución real C\n",
    "def y_real_c(t):\n",
    "    return t * log(t) + 2 * t\n",
    "\n",
    "yr_c = [y_real_c(ts_ci) for ts_ci in ts_c ]\n",
    "error_c = [error(y_real, y_pred) for y_real, y_pred in zip(yr_c, ys_c)]\n",
    "print(f\"Real:\\t\\t{yr_c},\\nAproximado\\t{ys_c},\\nError\\t\\t{error_c}\")"
   ]
  },
  {
   "cell_type": "code",
   "execution_count": 11,
   "metadata": {},
   "outputs": [
    {
     "name": "stdout",
     "output_type": "stream",
     "text": [
      "Real:\t\t[1.0, 1.3291498130108277, 1.7304897585147139, 2.041472034209607, 2.1179795456129895],\n",
      "Aproximado\t[1, 1.25, 1.6398053304784268, 2.0242546535964756, 2.2364572532353817],\n",
      "Error\t\t[0.0, 0.07914981301082769, 0.09068442803628707, 0.017217380613131272, 0.11847770762239218]\n"
     ]
    }
   ],
   "source": [
    "# Soludión real D\n",
    "def y_real_d(t):\n",
    "    return (1/2) * sin(2*t) - (1/3) * cos(3*t) + 4/3\n",
    "\n",
    "yr_d = [y_real_d(ts_di) for ts_di in ts_d ]\n",
    "error_d = [error(y_real, y_pred) for y_real, y_pred in zip(yr_d, ys_d)]\n",
    "print(f\"Real:\\t\\t{yr_d},\\nAproximado\\t{ys_d},\\nError\\t\\t{error_d}\")"
   ]
  },
  {
   "cell_type": "markdown",
   "metadata": {},
   "source": [
    "## Pregunta 3"
   ]
  },
  {
   "cell_type": "code",
   "execution_count": 12,
   "metadata": {},
   "outputs": [
    {
     "data": {
      "text/plain": [
       "1.1706515695646647"
      ]
     },
     "execution_count": 12,
     "metadata": {},
     "output_type": "execute_result"
    }
   ],
   "source": [
    "# Literal A)\n",
    "f = lambda t, y: (y/t) - (y/t)**2\n",
    "y_t0 = 1\n",
    "\n",
    "a = 1\n",
    "b = 2\n",
    "\n",
    "h = 0.1\n",
    "N = int((b - a) / h)\n",
    "ys_a,ts_a, h = ODE_euler(a=a, b=b, y_t0=y_t0, f=f, N=N)\n",
    "ys_a[len(ys_a)-1]"
   ]
  },
  {
   "cell_type": "code",
   "execution_count": 13,
   "metadata": {},
   "outputs": [
    {
     "data": {
      "text/plain": [
       "4.5142774281767"
      ]
     },
     "execution_count": 13,
     "metadata": {},
     "output_type": "execute_result"
    }
   ],
   "source": [
    "# Literal B)\n",
    "f = lambda t, y: 1 + (y/t) + (y/t)**2\n",
    "y_t0 = 0\n",
    "\n",
    "a = 1\n",
    "b = 3\n",
    "\n",
    "h = 0.2\n",
    "N = int((b - a) / h)\n",
    "ys_b,ts_b, h = ODE_euler(a=a, b=b, y_t0=y_t0, f=f, N=N)\n",
    "ys_b[len(ys_a)-1]"
   ]
  },
  {
   "cell_type": "code",
   "execution_count": 14,
   "metadata": {},
   "outputs": [
    {
     "data": {
      "text/plain": [
       "-1.0181518381465764"
      ]
     },
     "execution_count": 14,
     "metadata": {},
     "output_type": "execute_result"
    }
   ],
   "source": [
    "# Literal C)\n",
    "f = lambda t, y: -(y + 1) * (y + 3)\n",
    "y_t0 = -2\n",
    "\n",
    "a = 0\n",
    "b = 2\n",
    "\n",
    "h = 0.2\n",
    "N = int((b - a) / h)\n",
    "ys_c,ts_c, h = ODE_euler(a=a, b=b, y_t0=y_t0, f=f, N=N)\n",
    "ys_c[len(ys_a)-1]"
   ]
  },
  {
   "cell_type": "code",
   "execution_count": 15,
   "metadata": {},
   "outputs": [
    {
     "data": {
      "text/plain": [
       "0.9795312499999999"
      ]
     },
     "execution_count": 15,
     "metadata": {},
     "output_type": "execute_result"
    }
   ],
   "source": [
    "# Literal D)\n",
    "f = lambda t, y: -5 * y + 5 * t**2 + 2 * t\n",
    "y_t0 = -0.5\n",
    "\n",
    "a = 0\n",
    "b = 1\n",
    "\n",
    "h = 0.1\n",
    "N = int((b - a) / h)\n",
    "ys_d,ts_d, h = ODE_euler(a=a, b=b, y_t0=y_t0, f=f, N=N)\n",
    "ys_d[len(ys_a)-1]"
   ]
  },
  {
   "cell_type": "markdown",
   "metadata": {},
   "source": [
    "## Pregunta 4"
   ]
  },
  {
   "cell_type": "code",
   "execution_count": 16,
   "metadata": {},
   "outputs": [
    {
     "name": "stdout",
     "output_type": "stream",
     "text": [
      "Real:\t\t[1.0, 1.0042817279362024, 1.0149523140337415, 1.0298136889579848, 1.0475339192525197, 1.067262354181873, 1.088432686945791, 1.1106550521462644, 1.1336535567333055, 1.1572284330546696, 1.1812322182992827],\n",
      "Aproximado\t[1, 1.0, 1.0082644628099173, 1.0216894717270375, 1.038514734248178, 1.0576681921408762, 1.0784610936317547, 1.100432164699466, 1.1232620515812632, 1.1467235965295264, 1.1706515695646647],\n",
      "Error\t\t[0.0, 0.004281727936202406, 0.006687851223824204, 0.00812421723094725, 0.009019185004341734, 0.009594162040996945, 0.009971593314036298, 0.010222887446798445, 0.010391505152042235, 0.010504836525143224, 0.010580648734618059]\n"
     ]
    }
   ],
   "source": [
    "# Solución real A\n",
    "def y_real_a(t):\n",
    "    return t / (1 + log(t))\n",
    "\n",
    "yr_a = [y_real_a(ts_ai) for ts_ai in ts_a ]\n",
    "error_a = [error(y_real, y_pred) for y_real, y_pred in zip(yr_a, ys_a)]\n",
    "print(f\"Real:\\t\\t{yr_a},\\nAproximado\\t{ys_a},\\nError\\t\\t{error_a}\")"
   ]
  },
  {
   "cell_type": "code",
   "execution_count": 17,
   "metadata": {},
   "outputs": [
    {
     "name": "stdout",
     "output_type": "stream",
     "text": [
      "Real:\t\t[0.0, 0.22124277275763113, 0.48968166375094263, 0.812752740561542, 1.19943864032594, 1.661281755721567, 2.213501813480633, 2.8765514199948425, 3.6784753308518447, 4.658665058239517, 5.874099978184171],\n",
      "Aproximado\t[0, 0.2, 0.4388888888888889, 0.721242756361804, 1.0520380316573712, 1.4372511475238394, 1.8842608053291532, 2.402269588561542, 3.0028371645572136, 3.7006007049327985, 4.5142774281767],\n",
      "Error\t\t[0.0, 0.021242772757631118, 0.05079277486205375, 0.09150998419973799, 0.14740060866856886, 0.2240306081977277, 0.32924100815147983, 0.4742818314333004, 0.6756381662946311, 0.9580643533067188, 1.359822550007471]\n"
     ]
    }
   ],
   "source": [
    "# Solución real B\n",
    "def y_real_b(t):\n",
    "    return t * np.tan(np.log(t))\n",
    "\n",
    "ts_b = np.array(ts_b)\n",
    "yr_b = y_real_b(ts_b)\n",
    "yr_b = [float (yr_bi) for yr_bi in yr_b]\n",
    "error_b = [error(float (y_real), y_pred) for y_real, y_pred in zip(yr_b, ys_b)]\n",
    "print(f\"Real:\\t\\t{yr_b},\\nAproximado\\t{ys_b},\\nError\\t\\t{error_b}\")\n"
   ]
  },
  {
   "cell_type": "code",
   "execution_count": 18,
   "metadata": {},
   "outputs": [
    {
     "name": "stdout",
     "output_type": "stream",
     "text": [
      "Real:\t\t[-2.0, -1.802624679775096, -1.620051037744775, -1.4629504330019645, -1.335963229732151, -1.2384058440442354, -1.1663453929878447, -1.1146483517977375, -1.0783314455935287, -1.053193987153732, -1.035972419924183],\n",
      "Aproximado\t[-2, -1.8, -1.608, -1.4387328000000001, -1.3017369739591682, -1.199251224666308, -1.1274909449059896, -1.079745355150198, -1.0491190774237251, -1.0299539832076265, -1.0181518381465764],\n",
      "Error\t\t[0.0, 0.0026246797750959505, 0.012051037744774895, 0.024217633001964334, 0.03422625577298288, 0.0391546193779273, 0.03885444808185512, 0.034902996647539375, 0.02921236816980355, 0.02324000394610537, 0.017820581777606703]\n"
     ]
    }
   ],
   "source": [
    "# Solución real C\n",
    "def y_real_c(t):\n",
    "    return -3 + 2 / (1 + exp(-2*t))\n",
    "\n",
    "yr_c = [y_real_c(ts_ci) for ts_ci in ts_c ]\n",
    "error_c = [error(y_real, y_pred) for y_real, y_pred in zip(yr_c, ys_c)]\n",
    "print(f\"Real:\\t\\t{yr_c},\\nAproximado\\t{ys_c},\\nError\\t\\t{error_c}\")"
   ]
  },
  {
   "cell_type": "code",
   "execution_count": 19,
   "metadata": {},
   "outputs": [
    {
     "name": "stdout",
     "output_type": "stream",
     "text": [
      "Real:\t\t[0.3333333333333333, 0.2121768865708778, 0.16262648039048078, 0.16437672004947662, 0.2051117610788709, 0.27736166620796626, 0.3765956894559546, 0.5000657944741062, 0.6461052129629113, 0.8137029988460805, 1.0022459823330283],\n",
      "Aproximado\t[-0.5, -0.25, -0.09999999999999998, 0.010000000000000037, 0.11000000000000004, 0.21500000000000002, 0.3325, 0.46625, 0.618125, 0.7890625, 0.9795312499999999],\n",
      "Error\t\t[0.8333333333333333, 0.4621768865708778, 0.26262648039048075, 0.15437672004947658, 0.09511176107887087, 0.06236166620796624, 0.0440956894559546, 0.03381579447410615, 0.02798021296291131, 0.02464049884608055, 0.022714732333028453]\n"
     ]
    }
   ],
   "source": [
    "# Soludión real D\n",
    "def y_real_d(t):\n",
    "    return t**2 + (1/3) * exp(-5*t)\n",
    "\n",
    "yr_d = [y_real_d(ts_di) for ts_di in ts_d ]\n",
    "error_d = [error(y_real, y_pred) for y_real, y_pred in zip(yr_d, ys_d)]\n",
    "print(f\"Real:\\t\\t{yr_d},\\nAproximado\\t{ys_d},\\nError\\t\\t{error_d}\")"
   ]
  },
  {
   "cell_type": "markdown",
   "metadata": {},
   "source": [
    "## Pregunta 5"
   ]
  },
  {
   "cell_type": "code",
   "execution_count": 20,
   "metadata": {},
   "outputs": [],
   "source": [
    "# Encuentra el intervalo para t_approx1 y t_approx2\n",
    "def linear_interpolate(t, t0, y0, t1, y1):\n",
    "    return y0 + ((y1 - y0) / (t1 - t0)) * (t - t0)\n",
    "\n",
    "def interpolate_values(ts, ys, t_values, y_real):\n",
    "    \"\"\"\n",
    "    Realiza la interpolación lineal para una lista de valores t_values dados una lista de puntos de malla ts y valores ys.\n",
    "\n",
    "    Parámetros:\n",
    "    - ts: Lista de puntos de malla.\n",
    "    - ys: Lista de valores aproximados correspondientes a ts.\n",
    "    - t_values: Lista de valores t para los cuales se desea calcular la interpolación.\n",
    "\n",
    "    Retorna:\n",
    "    - Lista de valores interpolados para cada valor en t_values.\n",
    "    \"\"\"\n",
    "\n",
    "    interpolated_values = []\n",
    "\n",
    "    for t_approx in t_values:\n",
    "        for i in range(len(ts) - 1):\n",
    "            if ts[i] <= t_approx <= ts[i + 1]:\n",
    "                approx = linear_interpolate(t_approx, ts[i], ys[i], ts[i + 1], ys[i + 1])\n",
    "                exact = y_real(t_approx)\n",
    "                error = abs(approx - exact)\n",
    "                interpolated_values.append((t_approx, approx, exact, error))\n",
    "                break\n",
    "\n",
    "    return interpolated_values"
   ]
  },
  {
   "cell_type": "code",
   "execution_count": 21,
   "metadata": {},
   "outputs": [],
   "source": [
    "# Literal A\n",
    "\n",
    "# Puntos para interpolar\n",
    "t_approx1 = 0.25\n",
    "t_approx2 = 0.93\n",
    "\n",
    "interpolated_ys_a = interpolate_values(ts_a, ys_a, [t_approx1,t_approx2],y_real_a)\n",
    "\n",
    "# Mostrar resultados\n",
    "for t, approx, exact, error_v in interpolated_ys_a:\n",
    "    print(f\"t = {t}, Error: {error_v}\")"
   ]
  },
  {
   "cell_type": "code",
   "execution_count": 22,
   "metadata": {},
   "outputs": [
    {
     "data": {
      "text/plain": [
       "[1,\n",
       " 1.1,\n",
       " 1.2000000000000002,\n",
       " 1.3000000000000003,\n",
       " 1.4000000000000004,\n",
       " 1.5000000000000004,\n",
       " 1.6000000000000005,\n",
       " 1.7000000000000006,\n",
       " 1.8000000000000007,\n",
       " 1.9000000000000008,\n",
       " 2.000000000000001]"
      ]
     },
     "execution_count": 22,
     "metadata": {},
     "output_type": "execute_result"
    }
   ],
   "source": [
    "ts_a"
   ]
  },
  {
   "cell_type": "code",
   "execution_count": 23,
   "metadata": {},
   "outputs": [
    {
     "name": "stdout",
     "output_type": "stream",
     "text": [
      "t = 1.25, Error: 0.023930903973006623\n",
      "t = 1.93, Error: 0.18780121684809004\n"
     ]
    }
   ],
   "source": [
    "# Literal B\n",
    "\n",
    "# Puntos para interpolar\n",
    "t_approx1 = 1.25\n",
    "t_approx2 = 1.93\n",
    "\n",
    "interpolated_ys_b = interpolate_values(ts_b, ys_b, [t_approx1,t_approx2], y_real_b)\n",
    "\n",
    "# Mostrar resultados\n",
    "for t, approx, exact, error_v in interpolated_ys_b:\n",
    "    print(f\"t = {t}, Error: {error_v}\")"
   ]
  },
  {
   "cell_type": "code",
   "execution_count": 24,
   "metadata": {},
   "outputs": [
    {
     "data": {
      "text/plain": [
       "[0,\n",
       " 0.2,\n",
       " 0.4,\n",
       " 0.6000000000000001,\n",
       " 0.8,\n",
       " 1.0,\n",
       " 1.2,\n",
       " 1.4,\n",
       " 1.5999999999999999,\n",
       " 1.7999999999999998,\n",
       " 1.9999999999999998]"
      ]
     },
     "execution_count": 24,
     "metadata": {},
     "output_type": "execute_result"
    }
   ],
   "source": [
    "ts_c"
   ]
  },
  {
   "cell_type": "code",
   "execution_count": 25,
   "metadata": {},
   "outputs": [],
   "source": [
    "# Literal C\n",
    "\n",
    "# Puntos para interpolar\n",
    "t_approx1 = 2.10\n",
    "t_approx2 = 2.75\n",
    "\n",
    "interpolated_ys_c = interpolate_values(ts_c, ys_c, [t_approx1,t_approx2], y_real_c)\n",
    "\n",
    "# Mostrar resultados\n",
    "for t, approx, exact, error_v in interpolated_ys_c:\n",
    "    print(f\"t = {t}, Error: {error_v}\")"
   ]
  },
  {
   "cell_type": "code",
   "execution_count": 26,
   "metadata": {},
   "outputs": [
    {
     "name": "stdout",
     "output_type": "stream",
     "text": [
      "t = 0.54, Error: 0.052001837579916554\n",
      "t = 0.94, Error: 0.021381759033898495\n"
     ]
    }
   ],
   "source": [
    "# Literal D\n",
    "\n",
    "# Puntos para interpolar\n",
    "t_approx1 = 0.54\n",
    "t_approx2 = 0.94\n",
    "\n",
    "interpolated_ys_d = interpolate_values(ts_d, ys_d, [t_approx1,t_approx2], y_real_d)\n",
    "\n",
    "# Mostrar resultados\n",
    "for t, approx, exact, error_v in interpolated_ys_d:\n",
    "    print(f\"t = {t}, Error: {error_v}\")"
   ]
  },
  {
   "cell_type": "markdown",
   "metadata": {},
   "source": [
    "## Pregunta 6"
   ]
  },
  {
   "cell_type": "code",
   "execution_count": 35,
   "metadata": {},
   "outputs": [
    {
     "data": {
      "text/plain": [
       "2.0232389682729033"
      ]
     },
     "execution_count": 35,
     "metadata": {},
     "output_type": "execute_result"
    }
   ],
   "source": [
    "# Literal A)\n",
    "f = lambda t, y: t * exp(3 * t) - 2 * y\n",
    "f_p = lambda t, y: exp(3 * t) * (3 * t + 1) - 2 * f(t, y)\n",
    "y_t0 = 0\n",
    "\n",
    "a = 0\n",
    "b = 1\n",
    "\n",
    "h = 0.5\n",
    "N = int((b - a) / h)\n",
    "ys_a,ts_a, h = ODE_euler_nth(a=a, b=b, y_t0=y_t0, f=f, N=N, f_derivatives = [f_p])\n",
    "ys_a[len(ys_a)-1]"
   ]
  },
  {
   "cell_type": "code",
   "execution_count": 36,
   "metadata": {},
   "outputs": [
    {
     "data": {
      "text/plain": [
       "2.42578125"
      ]
     },
     "execution_count": 36,
     "metadata": {},
     "output_type": "execute_result"
    }
   ],
   "source": [
    "# Literal B)\n",
    "f = lambda t, y: 1 + (t - y)**2\n",
    "f_p = lambda t, y: 2 * (t - y) * (1 - f(t, y))\n",
    "y_t0 = 1\n",
    "\n",
    "a = 2\n",
    "b = 3\n",
    "\n",
    "h = 0.5\n",
    "N = int((b - a) / h)\n",
    "ys_b,ts_b, h_b = ODE_euler_nth(a=a, b=b, y_t0=y_t0, f=f, N=N, f_derivatives = [f_p])\n",
    "ys_b[len(ys_b)-1]"
   ]
  },
  {
   "cell_type": "code",
   "execution_count": 38,
   "metadata": {},
   "outputs": [
    {
     "data": {
      "text/plain": [
       "5.3442279856387"
      ]
     },
     "execution_count": 38,
     "metadata": {},
     "output_type": "execute_result"
    }
   ],
   "source": [
    "# Literal C)\n",
    "f = lambda t, y: 1 + y / t\n",
    "f_p = lambda t, y: (1 / t) * (f(t, y) - f(t, y) / t)\n",
    "y_t0 = 2\n",
    "a = 1\n",
    "b = 2\n",
    "\n",
    "h = 0.25\n",
    "N = int((b - a) / h)\n",
    "ys_c,ts_c, h_c = ODE_euler_nth(a=a, b=b, y_t0=y_t0, f=f, N=N, f_derivatives = [f_p])\n",
    "ys_c[len(ys_c)-1]"
   ]
  },
  {
   "cell_type": "code",
   "execution_count": 39,
   "metadata": {},
   "outputs": [
    {
     "data": {
      "text/plain": [
       "2.201643950842383"
      ]
     },
     "execution_count": 39,
     "metadata": {},
     "output_type": "execute_result"
    }
   ],
   "source": [
    "#Literal D)\n",
    "f = lambda t, y: cos(2 * t) + sin(3 * t)\n",
    "f_p = lambda t, y: -2 * sin(2 * t) + 3 * cos(3 * t)\n",
    "\n",
    "y_t0 = 1\n",
    "a = 0\n",
    "b = 1\n",
    "\n",
    "h = 0.25\n",
    "N = int((b - a) / h)\n",
    "ys_d,ts_d, h_d = ODE_euler_nth(a=a, b=b, y_t0=y_t0, f=f, N=N, f_derivatives = [f_p])\n",
    "ys_d[len(ys_d)-1]"
   ]
  },
  {
   "cell_type": "markdown",
   "metadata": {},
   "source": [
    "## Pregunta 7"
   ]
  },
  {
   "cell_type": "code",
   "execution_count": 43,
   "metadata": {},
   "outputs": [
    {
     "data": {
      "text/plain": [
       "4.263501556162347"
      ]
     },
     "execution_count": 43,
     "metadata": {},
     "output_type": "execute_result"
    }
   ],
   "source": [
    "# Literal A)\n",
    "f = lambda t, y: t * exp(3 * t) - 2 * y\n",
    "f_p = lambda t, y: exp(3 * t) * (3 * t + 1) - 2 * f(t, y)\n",
    "f_p2 = lambda t, y: exp(3 * t) * (9 * t + 6) - 2 * f_p(t, y)\n",
    "f_p3 = lambda t, y: exp(3 * t) * (27 * t + 18) - 2 * f_p2(t, y)\n",
    "\n",
    "y_t0 = 0\n",
    "\n",
    "a = 0\n",
    "b = 1\n",
    "\n",
    "h = 0.5\n",
    "N = int((b - a) / h)\n",
    "ys_a,ts_a, h = ODE_euler_nth(a=a, b=b, y_t0=y_t0, f=f, N=N, f_derivatives = [f_p, f_p2,f_p3])\n",
    "ys_a[len(ys_a)-1]"
   ]
  },
  {
   "cell_type": "code",
   "execution_count": 44,
   "metadata": {},
   "outputs": [
    {
     "data": {
      "text/plain": [
       "2.483265566291687"
      ]
     },
     "execution_count": 44,
     "metadata": {},
     "output_type": "execute_result"
    }
   ],
   "source": [
    "# Literal B)\n",
    "f = lambda t, y: 1 + (t - y)**2\n",
    "f_p = lambda t, y: 2 * (t - y) * (1 - f(t, y))\n",
    "f_p2 = lambda t, y: 2 * (1 - f(t, y))**2 - 2 * f_p(t, y)\n",
    "f_p3 = lambda t, y: -4 * (t - y) * (1 - f(t, y)) * f_p(t, y) - 2 * f_p2(t, y)\n",
    "\n",
    "y_t0 = 1\n",
    "\n",
    "a = 2\n",
    "b = 3\n",
    "\n",
    "h = 0.5\n",
    "N = int((b - a) / h)\n",
    "ys_b,ts_b, h_b = ODE_euler_nth(a=a, b=b, y_t0=y_t0, f=f, N=N, f_derivatives = [f_p, f_p2,f_p3])\n",
    "ys_b[len(ys_b)-1]"
   ]
  },
  {
   "cell_type": "code",
   "execution_count": 45,
   "metadata": {},
   "outputs": [
    {
     "data": {
      "text/plain": [
       "5.273549610534127"
      ]
     },
     "execution_count": 45,
     "metadata": {},
     "output_type": "execute_result"
    }
   ],
   "source": [
    "# Literal C)\n",
    "f = lambda t, y: 1 + y / t\n",
    "f_p = lambda t, y: (1 / t) * (f(t, y) - f(t, y) / t)\n",
    "f_p2 = lambda t, y: -(1/t**2) * (f_p(t, y) + 2 * f(t, y) / t)\n",
    "f_p3 = lambda t, y: (2/t**3) * (f_p(t, y) + 3 * f(t, y) / t)\n",
    "\n",
    "y_t0 = 2\n",
    "a = 1\n",
    "b = 2\n",
    "\n",
    "h = 0.25\n",
    "N = int((b - a) / h)\n",
    "ys_c,ts_c, h_c = ODE_euler_nth(a=a, b=b, y_t0=y_t0, f=f, N=N, f_derivatives = [f_p, f_p2,f_p3])\n",
    "ys_c[len(ys_c)-1]"
   ]
  },
  {
   "cell_type": "code",
   "execution_count": 46,
   "metadata": {},
   "outputs": [
    {
     "data": {
      "text/plain": [
       "1.8333234115498083"
      ]
     },
     "execution_count": 46,
     "metadata": {},
     "output_type": "execute_result"
    }
   ],
   "source": [
    "#Literal D)\n",
    "f = lambda t, y: cos(2 * t) + sin(3 * t)\n",
    "f_p = lambda t, y: -2 * sin(2 * t) + 3 * cos(3 * t)\n",
    "f_p2 = lambda t, y: -4 * cos(2 * t) - 9 * sin(3 * t)\n",
    "f_p3 = lambda t, y: 8 * sin(2 * t) - 27 * cos(3 * t)\n",
    "\n",
    "y_t0 = 1\n",
    "a = 0\n",
    "b = 1\n",
    "\n",
    "h = 0.25\n",
    "N = int((b - a) / h)\n",
    "ys_d,ts_d, h_d = ODE_euler_nth(a=a, b=b, y_t0=y_t0, f=f, N=N, f_derivatives = [f_p, f_p2,f_p3])\n",
    "ys_d[len(ys_d)-1]"
   ]
  }
 ],
 "metadata": {
  "kernelspec": {
   "display_name": "Python 3",
   "language": "python",
   "name": "python3"
  },
  "language_info": {
   "codemirror_mode": {
    "name": "ipython",
    "version": 3
   },
   "file_extension": ".py",
   "mimetype": "text/x-python",
   "name": "python",
   "nbconvert_exporter": "python",
   "pygments_lexer": "ipython3",
   "version": "3.12.3"
  }
 },
 "nbformat": 4,
 "nbformat_minor": 2
}

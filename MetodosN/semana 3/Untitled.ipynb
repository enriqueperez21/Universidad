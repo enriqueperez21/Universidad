{
 "cells": [
  {
   "cell_type": "markdown",
   "id": "bc58d75a-ab7c-4425-932d-d271b9746c96",
   "metadata": {},
   "source": [
    "# Deber métodos numéricos"
   ]
  },
  {
   "cell_type": "code",
   "execution_count": 6,
   "id": "4b70ad8f-9c03-4b6c-be2c-41bb97e2d03c",
   "metadata": {},
   "outputs": [],
   "source": [
    "def arctan(x):\n",
    "    return x -1/3*x**3 + 1/5*x**5"
   ]
  },
  {
   "cell_type": "code",
   "execution_count": 7,
   "id": "8389f1a7-adab-42cc-892f-92edb2489ec3",
   "metadata": {},
   "outputs": [],
   "source": [
    "#arctan"
   ]
  },
  {
   "cell_type": "code",
   "execution_count": 8,
   "id": "647264af-6e7c-4bec-9ac0-bcd8d5baea69",
   "metadata": {},
   "outputs": [
    {
     "data": {
      "text/plain": [
       "3.1455761316872426"
      ]
     },
     "execution_count": 8,
     "metadata": {},
     "output_type": "execute_result"
    }
   ],
   "source": [
    "pi1 = 4*(arctan(1/2) + arctan(1/3))\n",
    "pi1"
   ]
  },
  {
   "cell_type": "code",
   "execution_count": 9,
   "id": "2c16f17c-5c36-4766-b4e1-5688ebdb73f9",
   "metadata": {},
   "outputs": [],
   "source": [
    "error_abs = lambda p, p_p: abs(p - p_p)"
   ]
  },
  {
   "cell_type": "code",
   "execution_count": 10,
   "id": "e3b1951a-cfc0-42fc-a7eb-86051571ee3c",
   "metadata": {},
   "outputs": [
    {
     "data": {
      "text/plain": [
       "0.003983478097449478"
      ]
     },
     "execution_count": 10,
     "metadata": {},
     "output_type": "execute_result"
    }
   ],
   "source": [
    "from math import pi\n",
    "error_abs(pi1, pi)"
   ]
  },
  {
   "cell_type": "code",
   "execution_count": 11,
   "id": "9a02df01-a503-4313-8b2e-93f80140dd80",
   "metadata": {},
   "outputs": [
    {
     "ename": "SyntaxError",
     "evalue": "invalid syntax (462895915.py, line 1)",
     "output_type": "error",
     "traceback": [
      "\u001b[0;36m  Cell \u001b[0;32mIn[11], line 1\u001b[0;36m\u001b[0m\n\u001b[0;31m    error_r = lambda p; p_p: abs(p - p_p)/abs(p)\u001b[0m\n\u001b[0m                      ^\u001b[0m\n\u001b[0;31mSyntaxError\u001b[0m\u001b[0;31m:\u001b[0m invalid syntax\n"
     ]
    }
   ],
   "source": [
    "error_r = lambda p; p_p: abs(p - p_p)/abs(p)"
   ]
  },
  {
   "cell_type": "code",
   "execution_count": null,
   "id": "540fa3c3-2702-4eb8-b5dc-c0fa834b962a",
   "metadata": {},
   "outputs": [],
   "source": []
  }
 ],
 "metadata": {
  "kernelspec": {
   "display_name": "Python 3 (ipykernel)",
   "language": "python",
   "name": "python3"
  },
  "language_info": {
   "codemirror_mode": {
    "name": "ipython",
    "version": 3
   },
   "file_extension": ".py",
   "mimetype": "text/x-python",
   "name": "python",
   "nbconvert_exporter": "python",
   "pygments_lexer": "ipython3",
   "version": "3.12.2"
  }
 },
 "nbformat": 4,
 "nbformat_minor": 5
}

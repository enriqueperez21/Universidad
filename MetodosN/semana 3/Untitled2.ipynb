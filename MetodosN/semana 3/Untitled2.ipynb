{
 "cells": [
  {
   "cell_type": "code",
   "execution_count": 6,
   "id": "65a9d85a-c986-49ab-af5c-dd1e7a8ddb34",
   "metadata": {},
   "outputs": [
    {
     "name": "stdout",
     "output_type": "stream",
     "text": [
      "Suma de los 20 primeros términos de la serie armónica: 3.597739657143682\n"
     ]
    }
   ],
   "source": [
    "def aproximacion_serie_armonica(n):\n",
    "  \"\"\"\n",
    "  Calcula una aproximación de la serie armónica hasta el término n.\n",
    "\n",
    "  Args:\n",
    "    n: El número de términos a sumar.\n",
    "\n",
    "  Returns:\n",
    "    La suma de los n primeros términos de la serie armónica.\n",
    "  \"\"\"\n",
    "  if n <= 0:\n",
    "    raise ValueError(\"n debe ser un número positivo\")\n",
    "  suma = 0\n",
    "  for i in range(1, n + 1):\n",
    "    suma += 1 / i\n",
    "  return suma\n",
    "\n",
    "# Ejemplo de uso\n",
    "n = 20\n",
    "aproximacion = aproximacion_serie_armonica(n)\n",
    "print(f\"Suma de los {n} primeros términos de la serie armónica:\", aproximacion)"
   ]
  },
  {
   "cell_type": "code",
   "execution_count": null,
   "id": "2513c111-1980-4f98-8a81-aeee8278f0c0",
   "metadata": {},
   "outputs": [],
   "source": []
  }
 ],
 "metadata": {
  "kernelspec": {
   "display_name": "Python 3 (ipykernel)",
   "language": "python",
   "name": "python3"
  },
  "language_info": {
   "codemirror_mode": {
    "name": "ipython",
    "version": 3
   },
   "file_extension": ".py",
   "mimetype": "text/x-python",
   "name": "python",
   "nbconvert_exporter": "python",
   "pygments_lexer": "ipython3",
   "version": "3.10.12"
  }
 },
 "nbformat": 4,
 "nbformat_minor": 5
}

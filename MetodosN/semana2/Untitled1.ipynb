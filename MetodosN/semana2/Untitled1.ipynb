{
 "cells": [
  {
   "cell_type": "code",
   "execution_count": 4,
   "id": "0af3d3ab-21fa-4eab-bb76-54b252c0b41e",
   "metadata": {},
   "outputs": [],
   "source": [
    "def FL_rounding(num:float) -> float:\n",
    "    digits = 3\n",
    "    num = float(f\"{num: {digits -1}e}\")\n",
    "    return num"
   ]
  },
  {
   "cell_type": "code",
   "execution_count": 8,
   "id": "ca15222f-1af7-423b-a2d6-cf79d75b983d",
   "metadata": {},
   "outputs": [],
   "source": [
    "def M1(x0, y0,x1, y1): \n",
    "    x =  x0 - FL_rounding(\n",
    "        FL_rounding(x0*y1)-FL_rounding(x1 *y1)*y0/\n",
    "        FL_rounding(FL_rounding(y1)-FL_rounding(y0))\n",
    "    )\n",
    "    return FL_rounding"
   ]
  },
  {
   "cell_type": "code",
   "execution_count": 9,
   "id": "a0953f42-c535-4468-a039-f03e66a48709",
   "metadata": {},
   "outputs": [
    {
     "data": {
      "text/plain": [
       "<function __main__.FL_rounding(num: float) -> float>"
      ]
     },
     "execution_count": 9,
     "metadata": {},
     "output_type": "execute_result"
    }
   ],
   "source": [
    "M1(1.31,3.24,1.93,5.76)"
   ]
  },
  {
   "cell_type": "code",
   "execution_count": 5,
   "id": "6b4ccd78-1988-4e2d-b061-c8c59fe08e16",
   "metadata": {},
   "outputs": [
    {
     "name": "stdout",
     "output_type": "stream",
     "text": [
      "3.283746\n"
     ]
    }
   ],
   "source": [
    "test = FL_rounding(3.2837459)\n",
    "print(test)"
   ]
  },
  {
   "cell_type": "code",
   "execution_count": 10,
   "id": "ddc05012-341d-4301-a39e-b235bd9534ed",
   "metadata": {},
   "outputs": [
    {
     "data": {
      "text/plain": [
       "0.5128571428571428"
      ]
     },
     "execution_count": 10,
     "metadata": {},
     "output_type": "execute_result"
    }
   ],
   "source": [
    "def M_true(x0, y0, x1, y1):\n",
    "    x = x0 - (x1 - x0)*y0 / (y1 - y0)\n",
    "    return x\n",
    "M_true(1.31,3.24,1.93,5.76)"
   ]
  }
 ],
 "metadata": {
  "kernelspec": {
   "display_name": "Python 3 (ipykernel)",
   "language": "python",
   "name": "python3"
  },
  "language_info": {
   "codemirror_mode": {
    "name": "ipython",
    "version": 3
   },
   "file_extension": ".py",
   "mimetype": "text/x-python",
   "name": "python",
   "nbconvert_exporter": "python",
   "pygments_lexer": "ipython3",
   "version": "3.10.12"
  }
 },
 "nbformat": 4,
 "nbformat_minor": 5
}

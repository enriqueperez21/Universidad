{
 "cells": [
  {
   "cell_type": "markdown",
   "metadata": {},
   "source": [
    "# Análisis semántica"
   ]
  },
  {
   "cell_type": "markdown",
   "metadata": {},
   "source": [
    "\n",
    "Verificación de tipos\n",
    "- Asignaciones\n",
    "\n",
    "Comprobación de alcance\n",
    "- Variables definidas y accesibles\n",
    "\n",
    "Consistencias de declaraciones\n",
    "- Funciones, declaraciones consistentes.\n",
    "\n",
    "</br>\n",
    "\n",
    "Uso de variables\n",
    "- Variables usadas de forma correcta\n",
    "\n",
    "Chequeo de retorno\n",
    "- Funcion retorna tipo correcto\n",
    "\n",
    "Conversión de tipos\n",
    "- Transforma entre tipos de datos"
   ]
  },
  {
   "cell_type": "markdown",
   "metadata": {},
   "source": [
    "### Estructuras\n",
    "Tablas de símbolos </br>\n",
    "Pils de ambitos</br>\n",
    "- Mantiene contexto adecado\n",
    "\n",
    "Arbol de sintaxis abstracta</br>\n",
    "Conjunto de tipos</br>"
   ]
  },
  {
   "cell_type": "markdown",
   "metadata": {},
   "source": [
    "### Conjunto de tipos\n"
   ]
  },
  {
   "cell_type": "markdown",
   "metadata": {},
   "source": [
    "### Tipos de conversiones\n",
    "\n",
    "Implícitas </br>\n",
    "- Sin especificar\n",
    "\n",
    "\n",
    "Explicitas</br>\n",
    "- Debe especificar la conversión"
   ]
  },
  {
   "cell_type": "markdown",
   "metadata": {},
   "source": [
    "**Verificación de tipos**\n",
    "\n",
    "Tipos estáticos\n",
    "- Tiempo de compilación\n",
    "\n",
    "Tipos Dinamicamente\n",
    "- Tiempo de ejecución"
   ]
  }
 ],
 "metadata": {
  "language_info": {
   "name": "python"
  }
 },
 "nbformat": 4,
 "nbformat_minor": 2
}
